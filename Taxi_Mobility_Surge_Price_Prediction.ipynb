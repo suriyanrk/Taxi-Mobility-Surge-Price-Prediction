{
  "cells": [
    {
      "cell_type": "markdown",
      "metadata": {
        "id": "view-in-github",
        "colab_type": "text"
      },
      "source": [
        "<a href=\"https://colab.research.google.com/github/suriyanrk/Taxi-Mobility-Surge-Price-Prediction/blob/main/Taxi_Mobility_Surge_Price_Prediction.ipynb\" target=\"_parent\"><img src=\"https://colab.research.google.com/assets/colab-badge.svg\" alt=\"Open In Colab\"/></a>"
      ]
    },
    {
      "cell_type": "markdown",
      "metadata": {
        "id": "rEItgeeDr1UZ"
      },
      "source": [
        "#**Taxi Mobility Surge Price Prediction**"
      ]
    },
    {
      "cell_type": "markdown",
      "metadata": {
        "id": "oYDiZCIIr2t4"
      },
      "source": [
        "Data provided by an Indian cab aggregator service Sigma Cabs. Their customers can download their app on smartphones and book a cab from anywhere in the cities they operate in. They, in turn, search for cabs from various service providers and provide the best option to their clients across available options. They have been in operation for a little less than a year now. During this period, they have captured surge pricing types from the service providers.\n",
        "The main objective is to build a predictive model, which could help them in predicting the surge pricing type proactively. This would in turn help them in matching the right cabs with the right customers quickly and efficiently.\n",
        "* Trip_ID: ID for TRIP\n",
        "* Trip_Distance: The distance for the trip requested by the customer\n",
        "* TypeofCab: Category of the cab requested by the customer\n",
        "* CustomerSinceMonths: Customer using cab services since n months; 0 month means the current month\n",
        "* LifeStyleIndex: Proprietary index created by Sigma Cabs showing the lifestyle of the customer based on their behaviour\n",
        "* ConfidenceLifeStyle_Index: Category showing confidence on the index mentioned above\n",
        "* Destination_Type: Sigma Cabs divides any destination into one of the 14 categories.\n",
        "* Customer_Rating: Average of lifetime ratings of the customer till date\n",
        "* CancellationLast1Month: Number of trips cancelled by the customer in last 1 month\n",
        "* Var1, Var2 and Var3: Continuous variables masked by the company. Can be used for modelling purposes\n",
        "* Gender: Gender of the customer\n",
        "* SurgePricingType: Target (can be of 3 types) - DV"
      ]
    },
    {
      "cell_type": "markdown",
      "metadata": {
        "id": "EagVPCZ5uCps"
      },
      "source": [
        "#Importing Libraries"
      ]
    },
    {
      "cell_type": "code",
      "execution_count": 1,
      "metadata": {
        "colab": {
          "base_uri": "https://localhost:8080/"
        },
        "id": "rQpaHMAQrvgS",
        "outputId": "a3b74437-1a55-4384-e846-cd3e59c9e6c5"
      },
      "outputs": [
        {
          "output_type": "stream",
          "name": "stdout",
          "text": [
            "Collecting scikit-optimize\n",
            "  Downloading scikit_optimize-0.9.0-py2.py3-none-any.whl (100 kB)\n",
            "\u001b[?25l\r\u001b[K     |███▎                            | 10 kB 18.6 MB/s eta 0:00:01\r\u001b[K     |██████▌                         | 20 kB 10.8 MB/s eta 0:00:01\r\u001b[K     |█████████▉                      | 30 kB 8.0 MB/s eta 0:00:01\r\u001b[K     |█████████████                   | 40 kB 7.3 MB/s eta 0:00:01\r\u001b[K     |████████████████▍               | 51 kB 4.5 MB/s eta 0:00:01\r\u001b[K     |███████████████████▋            | 61 kB 5.2 MB/s eta 0:00:01\r\u001b[K     |██████████████████████▉         | 71 kB 5.5 MB/s eta 0:00:01\r\u001b[K     |██████████████████████████▏     | 81 kB 4.4 MB/s eta 0:00:01\r\u001b[K     |█████████████████████████████▍  | 92 kB 4.8 MB/s eta 0:00:01\r\u001b[K     |████████████████████████████████| 100 kB 3.4 MB/s \n",
            "\u001b[?25hRequirement already satisfied: numpy>=1.13.3 in /usr/local/lib/python3.7/dist-packages (from scikit-optimize) (1.21.5)\n",
            "Requirement already satisfied: scipy>=0.19.1 in /usr/local/lib/python3.7/dist-packages (from scikit-optimize) (1.4.1)\n",
            "Requirement already satisfied: joblib>=0.11 in /usr/local/lib/python3.7/dist-packages (from scikit-optimize) (1.1.0)\n",
            "Collecting pyaml>=16.9\n",
            "  Downloading pyaml-21.10.1-py2.py3-none-any.whl (24 kB)\n",
            "Requirement already satisfied: scikit-learn>=0.20.0 in /usr/local/lib/python3.7/dist-packages (from scikit-optimize) (1.0.2)\n",
            "Requirement already satisfied: PyYAML in /usr/local/lib/python3.7/dist-packages (from pyaml>=16.9->scikit-optimize) (3.13)\n",
            "Requirement already satisfied: threadpoolctl>=2.0.0 in /usr/local/lib/python3.7/dist-packages (from scikit-learn>=0.20.0->scikit-optimize) (3.1.0)\n",
            "Installing collected packages: pyaml, scikit-optimize\n",
            "Successfully installed pyaml-21.10.1 scikit-optimize-0.9.0\n"
          ]
        }
      ],
      "source": [
        "pip install scikit-optimize"
      ]
    },
    {
      "cell_type": "code",
      "execution_count": 2,
      "metadata": {
        "id": "wAHwpfC0u6Fl"
      },
      "outputs": [],
      "source": [
        "import pandas as pd\n",
        "import numpy as np\n",
        "from datetime import datetime\n",
        "import seaborn as sns\n",
        "import matplotlib.pyplot as plt\n",
        "%matplotlib inline\n",
        "\n",
        "from sklearn.model_selection import train_test_split, KFold\n",
        "from sklearn.preprocessing import OneHotEncoder\n",
        "from sklearn.model_selection import GridSearchCV\n",
        "from sklearn.model_selection import RandomizedSearchCV\n",
        "from skopt import BayesSearchCV\n",
        "from skopt.space import Real, Categorical, Integer\n",
        "from sklearn import ensemble\n",
        "\n",
        "import warnings\n",
        "warnings.filterwarnings('ignore')"
      ]
    },
    {
      "cell_type": "markdown",
      "metadata": {
        "id": "kFSkbRQTvRqf"
      },
      "source": [
        "#Loading the data set"
      ]
    },
    {
      "cell_type": "code",
      "execution_count": 3,
      "metadata": {
        "colab": {
          "base_uri": "https://localhost:8080/"
        },
        "id": "TSfCstwYvTpj",
        "outputId": "625794d3-a103-4ba3-c84c-5c74dbe74f60"
      },
      "outputs": [
        {
          "output_type": "stream",
          "name": "stdout",
          "text": [
            "Mounted at /content/drive\n"
          ]
        }
      ],
      "source": [
        "#mounting the drive\n",
        "from google.colab import drive\n",
        "drive.mount('/content/drive')"
      ]
    },
    {
      "cell_type": "code",
      "execution_count": 4,
      "metadata": {
        "id": "IgWUyR8vvVi_"
      },
      "outputs": [],
      "source": [
        "path='/content/drive/MyDrive/Capestone/sigma_cabs.csv'\n",
        "df=pd.read_csv(path)"
      ]
    },
    {
      "cell_type": "markdown",
      "metadata": {
        "id": "SKovmpTkv0pM"
      },
      "source": [
        "#**Exploratory Data Analysis**"
      ]
    },
    {
      "cell_type": "markdown",
      "metadata": {
        "id": "mDQLE_5wv2eS"
      },
      "source": [
        "###Let's start with doing some exploratory data analysis."
      ]
    },
    {
      "cell_type": "code",
      "execution_count": 5,
      "metadata": {
        "colab": {
          "base_uri": "https://localhost:8080/"
        },
        "id": "V926USFCv5NI",
        "outputId": "cfa0c6d7-618c-4e57-cc0a-fd727b128d09"
      },
      "outputs": [
        {
          "output_type": "execute_result",
          "data": {
            "text/plain": [
              "(131662, 14)"
            ]
          },
          "metadata": {},
          "execution_count": 5
        }
      ],
      "source": [
        "#shape of data\n",
        "df.shape"
      ]
    },
    {
      "cell_type": "markdown",
      "metadata": {
        "id": "aqoy-MAnwBNA"
      },
      "source": [
        "**Dataset have 131662 records and 14 features**"
      ]
    },
    {
      "cell_type": "code",
      "execution_count": 6,
      "metadata": {
        "colab": {
          "base_uri": "https://localhost:8080/"
        },
        "id": "EjVXwnaXwEJ2",
        "outputId": "a00c9a4a-f0c2-44b7-9484-abafe8487f07"
      },
      "outputs": [
        {
          "output_type": "stream",
          "name": "stdout",
          "text": [
            "<class 'pandas.core.frame.DataFrame'>\n",
            "RangeIndex: 131662 entries, 0 to 131661\n",
            "Data columns (total 14 columns):\n",
            " #   Column                       Non-Null Count   Dtype  \n",
            "---  ------                       --------------   -----  \n",
            " 0   Trip_ID                      131662 non-null  object \n",
            " 1   Trip_Distance                131662 non-null  float64\n",
            " 2   Type_of_Cab                  111452 non-null  object \n",
            " 3   Customer_Since_Months        125742 non-null  float64\n",
            " 4   Life_Style_Index             111469 non-null  float64\n",
            " 5   Confidence_Life_Style_Index  111469 non-null  object \n",
            " 6   Destination_Type             131662 non-null  object \n",
            " 7   Customer_Rating              131662 non-null  float64\n",
            " 8   Cancellation_Last_1Month     131662 non-null  int64  \n",
            " 9   Var1                         60632 non-null   float64\n",
            " 10  Var2                         131662 non-null  int64  \n",
            " 11  Var3                         131662 non-null  int64  \n",
            " 12  Gender                       131662 non-null  object \n",
            " 13  Surge_Pricing_Type           131662 non-null  int64  \n",
            "dtypes: float64(5), int64(4), object(5)\n",
            "memory usage: 14.1+ MB\n"
          ]
        }
      ],
      "source": [
        "df.info()"
      ]
    },
    {
      "cell_type": "code",
      "execution_count": 7,
      "metadata": {
        "colab": {
          "base_uri": "https://localhost:8080/",
          "height": 270
        },
        "id": "gCdcR5lawHfs",
        "outputId": "e0e727e0-93de-4dfc-b41f-53da6db50213"
      },
      "outputs": [
        {
          "output_type": "execute_result",
          "data": {
            "text/plain": [
              "       Trip_ID  Trip_Distance Type_of_Cab  Customer_Since_Months  \\\n",
              "0  T0005689460           6.77           B                    1.0   \n",
              "1  T0005689461          29.47           B                   10.0   \n",
              "2  T0005689464          41.58         NaN                   10.0   \n",
              "3  T0005689465          61.56           C                   10.0   \n",
              "4  T0005689467          54.95           C                   10.0   \n",
              "\n",
              "   Life_Style_Index Confidence_Life_Style_Index Destination_Type  \\\n",
              "0           2.42769                           A                A   \n",
              "1           2.78245                           B                A   \n",
              "2               NaN                         NaN                E   \n",
              "3               NaN                         NaN                A   \n",
              "4           3.03453                           B                A   \n",
              "\n",
              "   Customer_Rating  Cancellation_Last_1Month  Var1  Var2  Var3  Gender  \\\n",
              "0          3.90500                         0  40.0    46    60  Female   \n",
              "1          3.45000                         0  38.0    56    78    Male   \n",
              "2          3.50125                         2   NaN    56    77    Male   \n",
              "3          3.45375                         0   NaN    52    74    Male   \n",
              "4          3.40250                         4  51.0    49   102    Male   \n",
              "\n",
              "   Surge_Pricing_Type  \n",
              "0                   2  \n",
              "1                   2  \n",
              "2                   2  \n",
              "3                   3  \n",
              "4                   2  "
            ],
            "text/html": [
              "\n",
              "  <div id=\"df-9628caf8-35d0-43e8-9054-48abd07288ae\">\n",
              "    <div class=\"colab-df-container\">\n",
              "      <div>\n",
              "<style scoped>\n",
              "    .dataframe tbody tr th:only-of-type {\n",
              "        vertical-align: middle;\n",
              "    }\n",
              "\n",
              "    .dataframe tbody tr th {\n",
              "        vertical-align: top;\n",
              "    }\n",
              "\n",
              "    .dataframe thead th {\n",
              "        text-align: right;\n",
              "    }\n",
              "</style>\n",
              "<table border=\"1\" class=\"dataframe\">\n",
              "  <thead>\n",
              "    <tr style=\"text-align: right;\">\n",
              "      <th></th>\n",
              "      <th>Trip_ID</th>\n",
              "      <th>Trip_Distance</th>\n",
              "      <th>Type_of_Cab</th>\n",
              "      <th>Customer_Since_Months</th>\n",
              "      <th>Life_Style_Index</th>\n",
              "      <th>Confidence_Life_Style_Index</th>\n",
              "      <th>Destination_Type</th>\n",
              "      <th>Customer_Rating</th>\n",
              "      <th>Cancellation_Last_1Month</th>\n",
              "      <th>Var1</th>\n",
              "      <th>Var2</th>\n",
              "      <th>Var3</th>\n",
              "      <th>Gender</th>\n",
              "      <th>Surge_Pricing_Type</th>\n",
              "    </tr>\n",
              "  </thead>\n",
              "  <tbody>\n",
              "    <tr>\n",
              "      <th>0</th>\n",
              "      <td>T0005689460</td>\n",
              "      <td>6.77</td>\n",
              "      <td>B</td>\n",
              "      <td>1.0</td>\n",
              "      <td>2.42769</td>\n",
              "      <td>A</td>\n",
              "      <td>A</td>\n",
              "      <td>3.90500</td>\n",
              "      <td>0</td>\n",
              "      <td>40.0</td>\n",
              "      <td>46</td>\n",
              "      <td>60</td>\n",
              "      <td>Female</td>\n",
              "      <td>2</td>\n",
              "    </tr>\n",
              "    <tr>\n",
              "      <th>1</th>\n",
              "      <td>T0005689461</td>\n",
              "      <td>29.47</td>\n",
              "      <td>B</td>\n",
              "      <td>10.0</td>\n",
              "      <td>2.78245</td>\n",
              "      <td>B</td>\n",
              "      <td>A</td>\n",
              "      <td>3.45000</td>\n",
              "      <td>0</td>\n",
              "      <td>38.0</td>\n",
              "      <td>56</td>\n",
              "      <td>78</td>\n",
              "      <td>Male</td>\n",
              "      <td>2</td>\n",
              "    </tr>\n",
              "    <tr>\n",
              "      <th>2</th>\n",
              "      <td>T0005689464</td>\n",
              "      <td>41.58</td>\n",
              "      <td>NaN</td>\n",
              "      <td>10.0</td>\n",
              "      <td>NaN</td>\n",
              "      <td>NaN</td>\n",
              "      <td>E</td>\n",
              "      <td>3.50125</td>\n",
              "      <td>2</td>\n",
              "      <td>NaN</td>\n",
              "      <td>56</td>\n",
              "      <td>77</td>\n",
              "      <td>Male</td>\n",
              "      <td>2</td>\n",
              "    </tr>\n",
              "    <tr>\n",
              "      <th>3</th>\n",
              "      <td>T0005689465</td>\n",
              "      <td>61.56</td>\n",
              "      <td>C</td>\n",
              "      <td>10.0</td>\n",
              "      <td>NaN</td>\n",
              "      <td>NaN</td>\n",
              "      <td>A</td>\n",
              "      <td>3.45375</td>\n",
              "      <td>0</td>\n",
              "      <td>NaN</td>\n",
              "      <td>52</td>\n",
              "      <td>74</td>\n",
              "      <td>Male</td>\n",
              "      <td>3</td>\n",
              "    </tr>\n",
              "    <tr>\n",
              "      <th>4</th>\n",
              "      <td>T0005689467</td>\n",
              "      <td>54.95</td>\n",
              "      <td>C</td>\n",
              "      <td>10.0</td>\n",
              "      <td>3.03453</td>\n",
              "      <td>B</td>\n",
              "      <td>A</td>\n",
              "      <td>3.40250</td>\n",
              "      <td>4</td>\n",
              "      <td>51.0</td>\n",
              "      <td>49</td>\n",
              "      <td>102</td>\n",
              "      <td>Male</td>\n",
              "      <td>2</td>\n",
              "    </tr>\n",
              "  </tbody>\n",
              "</table>\n",
              "</div>\n",
              "      <button class=\"colab-df-convert\" onclick=\"convertToInteractive('df-9628caf8-35d0-43e8-9054-48abd07288ae')\"\n",
              "              title=\"Convert this dataframe to an interactive table.\"\n",
              "              style=\"display:none;\">\n",
              "        \n",
              "  <svg xmlns=\"http://www.w3.org/2000/svg\" height=\"24px\"viewBox=\"0 0 24 24\"\n",
              "       width=\"24px\">\n",
              "    <path d=\"M0 0h24v24H0V0z\" fill=\"none\"/>\n",
              "    <path d=\"M18.56 5.44l.94 2.06.94-2.06 2.06-.94-2.06-.94-.94-2.06-.94 2.06-2.06.94zm-11 1L8.5 8.5l.94-2.06 2.06-.94-2.06-.94L8.5 2.5l-.94 2.06-2.06.94zm10 10l.94 2.06.94-2.06 2.06-.94-2.06-.94-.94-2.06-.94 2.06-2.06.94z\"/><path d=\"M17.41 7.96l-1.37-1.37c-.4-.4-.92-.59-1.43-.59-.52 0-1.04.2-1.43.59L10.3 9.45l-7.72 7.72c-.78.78-.78 2.05 0 2.83L4 21.41c.39.39.9.59 1.41.59.51 0 1.02-.2 1.41-.59l7.78-7.78 2.81-2.81c.8-.78.8-2.07 0-2.86zM5.41 20L4 18.59l7.72-7.72 1.47 1.35L5.41 20z\"/>\n",
              "  </svg>\n",
              "      </button>\n",
              "      \n",
              "  <style>\n",
              "    .colab-df-container {\n",
              "      display:flex;\n",
              "      flex-wrap:wrap;\n",
              "      gap: 12px;\n",
              "    }\n",
              "\n",
              "    .colab-df-convert {\n",
              "      background-color: #E8F0FE;\n",
              "      border: none;\n",
              "      border-radius: 50%;\n",
              "      cursor: pointer;\n",
              "      display: none;\n",
              "      fill: #1967D2;\n",
              "      height: 32px;\n",
              "      padding: 0 0 0 0;\n",
              "      width: 32px;\n",
              "    }\n",
              "\n",
              "    .colab-df-convert:hover {\n",
              "      background-color: #E2EBFA;\n",
              "      box-shadow: 0px 1px 2px rgba(60, 64, 67, 0.3), 0px 1px 3px 1px rgba(60, 64, 67, 0.15);\n",
              "      fill: #174EA6;\n",
              "    }\n",
              "\n",
              "    [theme=dark] .colab-df-convert {\n",
              "      background-color: #3B4455;\n",
              "      fill: #D2E3FC;\n",
              "    }\n",
              "\n",
              "    [theme=dark] .colab-df-convert:hover {\n",
              "      background-color: #434B5C;\n",
              "      box-shadow: 0px 1px 3px 1px rgba(0, 0, 0, 0.15);\n",
              "      filter: drop-shadow(0px 1px 2px rgba(0, 0, 0, 0.3));\n",
              "      fill: #FFFFFF;\n",
              "    }\n",
              "  </style>\n",
              "\n",
              "      <script>\n",
              "        const buttonEl =\n",
              "          document.querySelector('#df-9628caf8-35d0-43e8-9054-48abd07288ae button.colab-df-convert');\n",
              "        buttonEl.style.display =\n",
              "          google.colab.kernel.accessAllowed ? 'block' : 'none';\n",
              "\n",
              "        async function convertToInteractive(key) {\n",
              "          const element = document.querySelector('#df-9628caf8-35d0-43e8-9054-48abd07288ae');\n",
              "          const dataTable =\n",
              "            await google.colab.kernel.invokeFunction('convertToInteractive',\n",
              "                                                     [key], {});\n",
              "          if (!dataTable) return;\n",
              "\n",
              "          const docLinkHtml = 'Like what you see? Visit the ' +\n",
              "            '<a target=\"_blank\" href=https://colab.research.google.com/notebooks/data_table.ipynb>data table notebook</a>'\n",
              "            + ' to learn more about interactive tables.';\n",
              "          element.innerHTML = '';\n",
              "          dataTable['output_type'] = 'display_data';\n",
              "          await google.colab.output.renderOutput(dataTable, element);\n",
              "          const docLink = document.createElement('div');\n",
              "          docLink.innerHTML = docLinkHtml;\n",
              "          element.appendChild(docLink);\n",
              "        }\n",
              "      </script>\n",
              "    </div>\n",
              "  </div>\n",
              "  "
            ]
          },
          "metadata": {},
          "execution_count": 7
        }
      ],
      "source": [
        "df.head()"
      ]
    },
    {
      "cell_type": "code",
      "execution_count": 8,
      "metadata": {
        "colab": {
          "base_uri": "https://localhost:8080/"
        },
        "id": "dg7OfjwhwPdY",
        "outputId": "4a6b5460-1eb6-428a-96d6-a49ea1bf71a3"
      },
      "outputs": [
        {
          "output_type": "execute_result",
          "data": {
            "text/plain": [
              "0"
            ]
          },
          "metadata": {},
          "execution_count": 8
        }
      ],
      "source": [
        "#Checking for duplicated records\n",
        "df.duplicated().sum()"
      ]
    },
    {
      "cell_type": "markdown",
      "metadata": {
        "id": "dfCSiVLFwXjV"
      },
      "source": [
        "**There are no duplicated datas**"
      ]
    },
    {
      "cell_type": "markdown",
      "metadata": {
        "id": "drblkxq4weRm"
      },
      "source": [
        "##We start with the analysis of our dependent variable **Surge_Pricing_Type**"
      ]
    },
    {
      "cell_type": "code",
      "execution_count": 9,
      "metadata": {
        "colab": {
          "base_uri": "https://localhost:8080/"
        },
        "id": "HNPYzY7WwgQC",
        "outputId": "f4eb53ba-52b3-4b9d-d3c7-531d0753b27d"
      },
      "outputs": [
        {
          "output_type": "execute_result",
          "data": {
            "text/plain": [
              "2    56728\n",
              "3    47720\n",
              "1    27214\n",
              "Name: Surge_Pricing_Type, dtype: int64"
            ]
          },
          "metadata": {},
          "execution_count": 9
        }
      ],
      "source": [
        "df['Surge_Pricing_Type'].value_counts()"
      ]
    },
    {
      "cell_type": "markdown",
      "metadata": {
        "id": "UxjWwGdxwlr2"
      },
      "source": [
        "* **Here we can see that it's a Multiclass classification problem having imbalanced target variables.**"
      ]
    },
    {
      "cell_type": "code",
      "execution_count": 10,
      "metadata": {
        "colab": {
          "base_uri": "https://localhost:8080/",
          "height": 297
        },
        "id": "xyTLZHKQwnok",
        "outputId": "954e8fee-4e08-45dd-922f-ea981717f5e6"
      },
      "outputs": [
        {
          "output_type": "execute_result",
          "data": {
            "text/plain": [
              "<matplotlib.axes._subplots.AxesSubplot at 0x7fbb00b87bd0>"
            ]
          },
          "metadata": {},
          "execution_count": 10
        },
        {
          "output_type": "display_data",
          "data": {
            "text/plain": [
              "<Figure size 432x288 with 1 Axes>"
            ],
            "image/png": "[encoded data removed]"
          },
          "metadata": {
            "needs_background": "light"
          }
        }
      ],
      "source": [
        "sns.countplot(df['Surge_Pricing_Type'])"
      ]
    },
    {
      "cell_type": "code",
      "execution_count": 11,
      "metadata": {
        "colab": {
          "base_uri": "https://localhost:8080/",
          "height": 561
        },
        "id": "nNjEWmNww3V9",
        "outputId": "a822fa65-f0c1-4e56-c2b5-0d151780bf06"
      },
      "outputs": [
        {
          "output_type": "execute_result",
          "data": {
            "text/plain": [
              "<matplotlib.axes._subplots.AxesSubplot at 0x7fbafdb9aa90>"
            ]
          },
          "metadata": {},
          "execution_count": 11
        },
        {
          "output_type": "display_data",
          "data": {
            "text/plain": [
              "<Figure size 1440x576 with 6 Axes>"
            ],
            "image/png": "[encoded data removed]"
          },
          "metadata": {
            "needs_background": "light"
          }
        }
      ],
      "source": [
        "#let's plot countplots of some features\n",
        "fig,axes=plt.subplots(2,3, figsize=(20,8),sharey=True)\n",
        "fig.suptitle('Count plot of various Features')\n",
        "#1\n",
        "sns.countplot(ax=axes[0,0],x=df['Type_of_Cab'])\n",
        "#2\n",
        "sns.countplot(ax=axes[0,1],x=df['Customer_Since_Months'])\n",
        "#3\n",
        "sns.countplot(ax=axes[0,2],x=df['Confidence_Life_Style_Index'])\n",
        "#4\n",
        "sns.countplot(ax=axes[1,0],x=df['Destination_Type'])\n",
        "#5\n",
        "sns.countplot(ax=axes[1,1],x=df['Cancellation_Last_1Month'])\n",
        "#6\n",
        "sns.countplot(ax=axes[1,2],x=df['Gender'])"
      ]
    },
    {
      "cell_type": "code",
      "execution_count": 12,
      "metadata": {
        "id": "54CXpUo8x5DO"
      },
      "outputs": [],
      "source": [
        "columns=['Type_of_Cab','Customer_Since_Months','Confidence_Life_Style_Index','Destination_Type','Cancellation_Last_1Month','Gender']"
      ]
    },
    {
      "cell_type": "code",
      "execution_count": 13,
      "metadata": {
        "colab": {
          "base_uri": "https://localhost:8080/",
          "height": 1000
        },
        "id": "4FUuX9nGxD9Z",
        "outputId": "7d856ec2-89ca-4df3-e8b8-c6adbd5f43a1"
      },
      "outputs": [
        {
          "output_type": "display_data",
          "data": {
            "text/plain": [
              "<Figure size 648x432 with 1 Axes>"
            ],
            "image/png": "[encoded data removed]"
          },
          "metadata": {
            "needs_background": "light"
          }
        },
        {
          "output_type": "display_data",
          "data": {
            "text/plain": [
              "<Figure size 648x432 with 1 Axes>"
            ],
            "image/png": "[encoded data removed]"
          },
          "metadata": {
            "needs_background": "light"
          }
        },
        {
          "output_type": "display_data",
          "data": {
            "text/plain": [
              "<Figure size 648x432 with 1 Axes>"
            ],
            "image/png": "[encoded data removed]"
          },
          "metadata": {
            "needs_background": "light"
          }
        },
        {
          "output_type": "display_data",
          "data": {
            "text/plain": [
              "<Figure size 648x432 with 1 Axes>"
            ],
            "image/png": "[encoded data removed]"
          },
          "metadata": {
            "needs_background": "light"
          }
        },
        {
          "output_type": "display_data",
          "data": {
            "text/plain": [
              "<Figure size 648x432 with 1 Axes>"
            ],
            "image/png": "[encoded data removed]"
          },
          "metadata": {
            "needs_background": "light"
          }
        },
        {
          "output_type": "display_data",
          "data": {
            "text/plain": [
              "<Figure size 648x432 with 1 Axes>"
            ],
            "image/png": "[encoded data removed]"
          },
          "metadata": {
            "needs_background": "light"
          }
        }
      ],
      "source": [
        "for feature in columns:\n",
        "  plt.figure(figsize=(9,6))\n",
        "  sns.countplot(x=feature,data=df,hue=df['Surge_Pricing_Type'])"
      ]
    },
    {
      "cell_type": "code",
      "execution_count": 14,
      "metadata": {
        "colab": {
          "base_uri": "https://localhost:8080/",
          "height": 297
        },
        "id": "s6nkNzGYxnG4",
        "outputId": "27d6ebdf-e771-438e-8f21-202b84302d60"
      },
      "outputs": [
        {
          "output_type": "execute_result",
          "data": {
            "text/plain": [
              "<matplotlib.axes._subplots.AxesSubplot at 0x7fbafd675290>"
            ]
          },
          "metadata": {},
          "execution_count": 14
        },
        {
          "output_type": "display_data",
          "data": {
            "text/plain": [
              "<Figure size 432x288 with 1 Axes>"
            ],
            "image/png": "[encoded data removed]"
          },
          "metadata": {
            "needs_background": "light"
          }
        }
      ],
      "source": [
        "sns.distplot(df['Trip_Distance'],kde = False,norm_hist=False)"
      ]
    },
    {
      "cell_type": "markdown",
      "metadata": {
        "id": "3zZ6urKNzpwL"
      },
      "source": [
        "###Trip_ID column seems to be of no use for modelling. So we can simply drop it."
      ]
    },
    {
      "cell_type": "code",
      "execution_count": 15,
      "metadata": {
        "id": "4epxFRWfzodq"
      },
      "outputs": [],
      "source": [
        "df.drop('Trip_ID',axis=1,inplace=True)"
      ]
    },
    {
      "cell_type": "markdown",
      "metadata": {
        "id": "8NUl5OsyzxbH"
      },
      "source": [
        "#Cleaning the data\n",
        "##Handling the null values"
      ]
    },
    {
      "cell_type": "code",
      "execution_count": 16,
      "metadata": {
        "colab": {
          "base_uri": "https://localhost:8080/",
          "height": 411
        },
        "id": "GDpe-9bq0KbJ",
        "outputId": "d61a946e-f7f1-4d5a-8499-93517d2daed4"
      },
      "outputs": [
        {
          "output_type": "display_data",
          "data": {
            "text/plain": [
              "<Figure size 432x288 with 1 Axes>"
            ],
            "image/png": "[encoded data removed]"
          },
          "metadata": {
            "needs_background": "light"
          }
        }
      ],
      "source": [
        "null_df=df.isna().sum().reset_index().rename(columns={'index':'feature',0:'count'})\n",
        "null_df=null_df[null_df['count']!=0].sort_values('count',ascending=False).reset_index()\n",
        "g=sns.barplot(x='feature',y='count',data=null_df)\n",
        "g.set_xticklabels(labels=null_df['feature'], rotation=90)\n",
        "plt.show()"
      ]
    },
    {
      "cell_type": "code",
      "execution_count": 17,
      "metadata": {
        "colab": {
          "base_uri": "https://localhost:8080/",
          "height": 397
        },
        "id": "4N3MEiej1nBQ",
        "outputId": "e940288a-8b17-448b-a962-79961aca502f"
      },
      "outputs": [
        {
          "output_type": "display_data",
          "data": {
            "text/plain": [
              "<Figure size 432x288 with 1 Axes>"
            ],
            "image/png": "[encoded data removed]"
          },
          "metadata": {
            "needs_background": "light"
          }
        }
      ],
      "source": [
        "#checking the missing data in the dataset\n",
        "sns.heatmap(df.isnull(),yticklabels=False,cbar=False,cmap='viridis')\n",
        "plt.rcParams['figure.figsize'] = (15, 5)"
      ]
    },
    {
      "cell_type": "code",
      "execution_count": 18,
      "metadata": {
        "colab": {
          "base_uri": "https://localhost:8080/"
        },
        "id": "0Wz_doZx2AwX",
        "outputId": "4e968df7-0801-49c9-be25-747940c4f916"
      },
      "outputs": [
        {
          "output_type": "execute_result",
          "data": {
            "text/plain": [
              "Trip_Distance                   0.000000\n",
              "Type_of_Cab                    15.349911\n",
              "Customer_Since_Months           4.496362\n",
              "Life_Style_Index               15.336999\n",
              "Confidence_Life_Style_Index    15.336999\n",
              "Destination_Type                0.000000\n",
              "Customer_Rating                 0.000000\n",
              "Cancellation_Last_1Month        0.000000\n",
              "Var1                           53.948748\n",
              "Var2                            0.000000\n",
              "Var3                            0.000000\n",
              "Gender                          0.000000\n",
              "Surge_Pricing_Type              0.000000\n",
              "dtype: float64"
            ]
          },
          "metadata": {},
          "execution_count": 18
        }
      ],
      "source": [
        "df.isnull().mean()*100"
      ]
    },
    {
      "cell_type": "markdown",
      "metadata": {
        "id": "dtoZPTmh2HQC"
      },
      "source": [
        "###Our dataset contains null values in following columns:\n",
        "* Type_of_Cab                    \n",
        "* Customer_Since_Months           \n",
        "* Life_Style_Index               \n",
        "* Confidence_Life_Style_Index    \n",
        "* Var1                           \n",
        "\n",
        "### We have more than 50 % null values in Var1 column.\n",
        "###Hence, we can simply drop var1 column"
      ]
    },
    {
      "cell_type": "code",
      "execution_count": 19,
      "metadata": {
        "id": "en3xCehN2LV5"
      },
      "outputs": [],
      "source": [
        "df.drop('Var1',axis=1,inplace=True)"
      ]
    },
    {
      "cell_type": "markdown",
      "metadata": {
        "id": "ukLJxyA_2T8W"
      },
      "source": [
        "###Handling the other 4 columns having null values"
      ]
    },
    {
      "cell_type": "code",
      "execution_count": 20,
      "metadata": {
        "colab": {
          "base_uri": "https://localhost:8080/",
          "height": 175
        },
        "id": "jaYX7nGU2TJ9",
        "outputId": "e5facdfe-bbca-45fd-a160-de3a3fd6a9e0"
      },
      "outputs": [
        {
          "output_type": "execute_result",
          "data": {
            "text/plain": [
              "                       feature  count  percentage\n",
              "1                  Type_of_Cab  20210   15.349911\n",
              "3             Life_Style_Index  20193   15.336999\n",
              "4  Confidence_Life_Style_Index  20193   15.336999\n",
              "2        Customer_Since_Months   5920    4.496362"
            ],
            "text/html": [
              "\n",
              "  <div id=\"df-7ee52cf1-bfd6-469a-9f83-8cda04f4f754\">\n",
              "    <div class=\"colab-df-container\">\n",
              "      <div>\n",
              "<style scoped>\n",
              "    .dataframe tbody tr th:only-of-type {\n",
              "        vertical-align: middle;\n",
              "    }\n",
              "\n",
              "    .dataframe tbody tr th {\n",
              "        vertical-align: top;\n",
              "    }\n",
              "\n",
              "    .dataframe thead th {\n",
              "        text-align: right;\n",
              "    }\n",
              "</style>\n",
              "<table border=\"1\" class=\"dataframe\">\n",
              "  <thead>\n",
              "    <tr style=\"text-align: right;\">\n",
              "      <th></th>\n",
              "      <th>feature</th>\n",
              "      <th>count</th>\n",
              "      <th>percentage</th>\n",
              "    </tr>\n",
              "  </thead>\n",
              "  <tbody>\n",
              "    <tr>\n",
              "      <th>1</th>\n",
              "      <td>Type_of_Cab</td>\n",
              "      <td>20210</td>\n",
              "      <td>15.349911</td>\n",
              "    </tr>\n",
              "    <tr>\n",
              "      <th>3</th>\n",
              "      <td>Life_Style_Index</td>\n",
              "      <td>20193</td>\n",
              "      <td>15.336999</td>\n",
              "    </tr>\n",
              "    <tr>\n",
              "      <th>4</th>\n",
              "      <td>Confidence_Life_Style_Index</td>\n",
              "      <td>20193</td>\n",
              "      <td>15.336999</td>\n",
              "    </tr>\n",
              "    <tr>\n",
              "      <th>2</th>\n",
              "      <td>Customer_Since_Months</td>\n",
              "      <td>5920</td>\n",
              "      <td>4.496362</td>\n",
              "    </tr>\n",
              "  </tbody>\n",
              "</table>\n",
              "</div>\n",
              "      <button class=\"colab-df-convert\" onclick=\"convertToInteractive('df-7ee52cf1-bfd6-469a-9f83-8cda04f4f754')\"\n",
              "              title=\"Convert this dataframe to an interactive table.\"\n",
              "              style=\"display:none;\">\n",
              "        \n",
              "  <svg xmlns=\"http://www.w3.org/2000/svg\" height=\"24px\"viewBox=\"0 0 24 24\"\n",
              "       width=\"24px\">\n",
              "    <path d=\"M0 0h24v24H0V0z\" fill=\"none\"/>\n",
              "    <path d=\"M18.56 5.44l.94 2.06.94-2.06 2.06-.94-2.06-.94-.94-2.06-.94 2.06-2.06.94zm-11 1L8.5 8.5l.94-2.06 2.06-.94-2.06-.94L8.5 2.5l-.94 2.06-2.06.94zm10 10l.94 2.06.94-2.06 2.06-.94-2.06-.94-.94-2.06-.94 2.06-2.06.94z\"/><path d=\"M17.41 7.96l-1.37-1.37c-.4-.4-.92-.59-1.43-.59-.52 0-1.04.2-1.43.59L10.3 9.45l-7.72 7.72c-.78.78-.78 2.05 0 2.83L4 21.41c.39.39.9.59 1.41.59.51 0 1.02-.2 1.41-.59l7.78-7.78 2.81-2.81c.8-.78.8-2.07 0-2.86zM5.41 20L4 18.59l7.72-7.72 1.47 1.35L5.41 20z\"/>\n",
              "  </svg>\n",
              "      </button>\n",
              "      \n",
              "  <style>\n",
              "    .colab-df-container {\n",
              "      display:flex;\n",
              "      flex-wrap:wrap;\n",
              "      gap: 12px;\n",
              "    }\n",
              "\n",
              "    .colab-df-convert {\n",
              "      background-color: #E8F0FE;\n",
              "      border: none;\n",
              "      border-radius: 50%;\n",
              "      cursor: pointer;\n",
              "      display: none;\n",
              "      fill: #1967D2;\n",
              "      height: 32px;\n",
              "      padding: 0 0 0 0;\n",
              "      width: 32px;\n",
              "    }\n",
              "\n",
              "    .colab-df-convert:hover {\n",
              "      background-color: #E2EBFA;\n",
              "      box-shadow: 0px 1px 2px rgba(60, 64, 67, 0.3), 0px 1px 3px 1px rgba(60, 64, 67, 0.15);\n",
              "      fill: #174EA6;\n",
              "    }\n",
              "\n",
              "    [theme=dark] .colab-df-convert {\n",
              "      background-color: #3B4455;\n",
              "      fill: #D2E3FC;\n",
              "    }\n",
              "\n",
              "    [theme=dark] .colab-df-convert:hover {\n",
              "      background-color: #434B5C;\n",
              "      box-shadow: 0px 1px 3px 1px rgba(0, 0, 0, 0.15);\n",
              "      filter: drop-shadow(0px 1px 2px rgba(0, 0, 0, 0.3));\n",
              "      fill: #FFFFFF;\n",
              "    }\n",
              "  </style>\n",
              "\n",
              "      <script>\n",
              "        const buttonEl =\n",
              "          document.querySelector('#df-7ee52cf1-bfd6-469a-9f83-8cda04f4f754 button.colab-df-convert');\n",
              "        buttonEl.style.display =\n",
              "          google.colab.kernel.accessAllowed ? 'block' : 'none';\n",
              "\n",
              "        async function convertToInteractive(key) {\n",
              "          const element = document.querySelector('#df-7ee52cf1-bfd6-469a-9f83-8cda04f4f754');\n",
              "          const dataTable =\n",
              "            await google.colab.kernel.invokeFunction('convertToInteractive',\n",
              "                                                     [key], {});\n",
              "          if (!dataTable) return;\n",
              "\n",
              "          const docLinkHtml = 'Like what you see? Visit the ' +\n",
              "            '<a target=\"_blank\" href=https://colab.research.google.com/notebooks/data_table.ipynb>data table notebook</a>'\n",
              "            + ' to learn more about interactive tables.';\n",
              "          element.innerHTML = '';\n",
              "          dataTable['output_type'] = 'display_data';\n",
              "          await google.colab.output.renderOutput(dataTable, element);\n",
              "          const docLink = document.createElement('div');\n",
              "          docLink.innerHTML = docLinkHtml;\n",
              "          element.appendChild(docLink);\n",
              "        }\n",
              "      </script>\n",
              "    </div>\n",
              "  </div>\n",
              "  "
            ]
          },
          "metadata": {},
          "execution_count": 20
        }
      ],
      "source": [
        "null_df=df.isna().sum().reset_index().rename(columns={'index':'feature',0:'count'})\n",
        "null_df=null_df[null_df['count']!=0]\n",
        "null_df['percentage']=null_df['count'].apply(lambda x: (x/len(df)*100))\n",
        "null_df.sort_values('count',ascending=False)"
      ]
    },
    {
      "cell_type": "markdown",
      "metadata": {
        "id": "CceR1O_p3Q5v"
      },
      "source": [
        "* **Dropping all those rows having null values as it will not make much impact as our dataset is too large.**"
      ]
    },
    {
      "cell_type": "code",
      "execution_count": 21,
      "metadata": {
        "id": "SQNw08iU3Wmj"
      },
      "outputs": [],
      "source": [
        "#creating a copy of the original df\n",
        "new_df=df.copy()"
      ]
    },
    {
      "cell_type": "code",
      "execution_count": 22,
      "metadata": {
        "colab": {
          "base_uri": "https://localhost:8080/"
        },
        "id": "2iZUF_3y3f8U",
        "outputId": "5c6b11d2-0c5a-4e4d-fa35-d44ef74cab3f"
      },
      "outputs": [
        {
          "output_type": "execute_result",
          "data": {
            "text/plain": [
              "(131662, 12)"
            ]
          },
          "metadata": {},
          "execution_count": 22
        }
      ],
      "source": [
        "df.shape"
      ]
    },
    {
      "cell_type": "code",
      "execution_count": 23,
      "metadata": {
        "colab": {
          "base_uri": "https://localhost:8080/"
        },
        "id": "S_E_fvGG3bNt",
        "outputId": "955822c0-29ae-41c9-99b7-227476dcd47e"
      },
      "outputs": [
        {
          "output_type": "execute_result",
          "data": {
            "text/plain": [
              "(90052, 12)"
            ]
          },
          "metadata": {},
          "execution_count": 23
        }
      ],
      "source": [
        "#dropping all those rows having nan values\n",
        "new_df.dropna(inplace=True)\n",
        "new_df.shape"
      ]
    },
    {
      "cell_type": "code",
      "execution_count": 24,
      "metadata": {
        "id": "D4xX8Xqi4A9C"
      },
      "outputs": [],
      "source": [
        "# df['Type_of_Cab']=df['Type_of_Cab'].fillna(df['Type_of_Cab'].mode()[0])\n",
        "# df['Customer_Since_Months']=df['Customer_Since_Months'].fillna(round(df['Customer_Since_Months'].mean()))\n",
        "# df['Life_Style_Index']=df['Life_Style_Index'].fillna(df['Life_Style_Index'].mean())\n",
        "# df['Confidence_Life_Style_Index']=df['Confidence_Life_Style_Index'].fillna(df['Confidence_Life_Style_Index'].mode()[0])"
      ]
    },
    {
      "cell_type": "code",
      "execution_count": 25,
      "metadata": {
        "colab": {
          "base_uri": "https://localhost:8080/"
        },
        "id": "qA0ZQB0V3kiz",
        "outputId": "a3ed0d3e-5d0e-4020-be9d-7ec4bae1af70"
      },
      "outputs": [
        {
          "output_type": "execute_result",
          "data": {
            "text/plain": [
              "Trip_Distance                  0\n",
              "Type_of_Cab                    0\n",
              "Customer_Since_Months          0\n",
              "Life_Style_Index               0\n",
              "Confidence_Life_Style_Index    0\n",
              "Destination_Type               0\n",
              "Customer_Rating                0\n",
              "Cancellation_Last_1Month       0\n",
              "Var2                           0\n",
              "Var3                           0\n",
              "Gender                         0\n",
              "Surge_Pricing_Type             0\n",
              "dtype: int64"
            ]
          },
          "metadata": {},
          "execution_count": 25
        }
      ],
      "source": [
        "new_df.isna().sum()"
      ]
    },
    {
      "cell_type": "markdown",
      "metadata": {
        "id": "fPYq9Sne3oBQ"
      },
      "source": [
        "* **we have no null values in the new_df**\n",
        "\n"
      ]
    },
    {
      "cell_type": "code",
      "execution_count": 26,
      "metadata": {
        "colab": {
          "base_uri": "https://localhost:8080/"
        },
        "id": "TSJzPPqe3sQV",
        "outputId": "309e1958-090b-47c8-da97-1d4baae93984"
      },
      "outputs": [
        {
          "output_type": "execute_result",
          "data": {
            "text/plain": [
              "2    38918\n",
              "3    32504\n",
              "1    18630\n",
              "Name: Surge_Pricing_Type, dtype: int64"
            ]
          },
          "metadata": {},
          "execution_count": 26
        }
      ],
      "source": [
        "new_df['Surge_Pricing_Type'].value_counts()"
      ]
    },
    {
      "cell_type": "markdown",
      "metadata": {
        "id": "at52XXCb4E_z"
      },
      "source": [
        "##**Now, let's analyse the numerical features of the dataset.**"
      ]
    },
    {
      "cell_type": "code",
      "execution_count": 27,
      "metadata": {
        "colab": {
          "base_uri": "https://localhost:8080/",
          "height": 364
        },
        "id": "tX1sfw1l4HPg",
        "outputId": "bf3fefa5-7d54-4708-99d1-bf797d03bf33"
      },
      "outputs": [
        {
          "output_type": "execute_result",
          "data": {
            "text/plain": [
              "       Trip_Distance  Customer_Since_Months  Life_Style_Index  \\\n",
              "count   90052.000000           90052.000000      90052.000000   \n",
              "mean       44.570410               6.009872          2.809990   \n",
              "std        25.550645               3.627505          0.221479   \n",
              "min         0.310000               0.000000          1.596380   \n",
              "25%        24.880000               3.000000          2.661130   \n",
              "50%        38.450000               6.000000          2.807160   \n",
              "75%        60.940000              10.000000          2.951590   \n",
              "max       109.230000              10.000000          4.875110   \n",
              "\n",
              "       Customer_Rating  Cancellation_Last_1Month          Var2          Var3  \\\n",
              "count     90052.000000              90052.000000  90052.000000  90052.000000   \n",
              "mean          2.856178                  0.786257     51.268834     75.197841   \n",
              "std           0.973910                  1.041551      4.991620     11.594410   \n",
              "min           0.001250                  0.000000     40.000000     52.000000   \n",
              "25%           2.166250                  0.000000     48.000000     67.000000   \n",
              "50%           2.903750                  0.000000     50.000000     74.000000   \n",
              "75%           3.581250                  1.000000     54.000000     82.000000   \n",
              "max           5.000000                  8.000000    124.000000    206.000000   \n",
              "\n",
              "       Surge_Pricing_Type  \n",
              "count        90052.000000  \n",
              "mean             2.154067  \n",
              "std              0.737629  \n",
              "min              1.000000  \n",
              "25%              2.000000  \n",
              "50%              2.000000  \n",
              "75%              3.000000  \n",
              "max              3.000000  "
            ],
            "text/html": [
              "\n",
              "  <div id=\"df-23cf0369-2730-4a93-b3be-c50d2950f534\">\n",
              "    <div class=\"colab-df-container\">\n",
              "      <div>\n",
              "<style scoped>\n",
              "    .dataframe tbody tr th:only-of-type {\n",
              "        vertical-align: middle;\n",
              "    }\n",
              "\n",
              "    .dataframe tbody tr th {\n",
              "        vertical-align: top;\n",
              "    }\n",
              "\n",
              "    .dataframe thead th {\n",
              "        text-align: right;\n",
              "    }\n",
              "</style>\n",
              "<table border=\"1\" class=\"dataframe\">\n",
              "  <thead>\n",
              "    <tr style=\"text-align: right;\">\n",
              "      <th></th>\n",
              "      <th>Trip_Distance</th>\n",
              "      <th>Customer_Since_Months</th>\n",
              "      <th>Life_Style_Index</th>\n",
              "      <th>Customer_Rating</th>\n",
              "      <th>Cancellation_Last_1Month</th>\n",
              "      <th>Var2</th>\n",
              "      <th>Var3</th>\n",
              "      <th>Surge_Pricing_Type</th>\n",
              "    </tr>\n",
              "  </thead>\n",
              "  <tbody>\n",
              "    <tr>\n",
              "      <th>count</th>\n",
              "      <td>90052.000000</td>\n",
              "      <td>90052.000000</td>\n",
              "      <td>90052.000000</td>\n",
              "      <td>90052.000000</td>\n",
              "      <td>90052.000000</td>\n",
              "      <td>90052.000000</td>\n",
              "      <td>90052.000000</td>\n",
              "      <td>90052.000000</td>\n",
              "    </tr>\n",
              "    <tr>\n",
              "      <th>mean</th>\n",
              "      <td>44.570410</td>\n",
              "      <td>6.009872</td>\n",
              "      <td>2.809990</td>\n",
              "      <td>2.856178</td>\n",
              "      <td>0.786257</td>\n",
              "      <td>51.268834</td>\n",
              "      <td>75.197841</td>\n",
              "      <td>2.154067</td>\n",
              "    </tr>\n",
              "    <tr>\n",
              "      <th>std</th>\n",
              "      <td>25.550645</td>\n",
              "      <td>3.627505</td>\n",
              "      <td>0.221479</td>\n",
              "      <td>0.973910</td>\n",
              "      <td>1.041551</td>\n",
              "      <td>4.991620</td>\n",
              "      <td>11.594410</td>\n",
              "      <td>0.737629</td>\n",
              "    </tr>\n",
              "    <tr>\n",
              "      <th>min</th>\n",
              "      <td>0.310000</td>\n",
              "      <td>0.000000</td>\n",
              "      <td>1.596380</td>\n",
              "      <td>0.001250</td>\n",
              "      <td>0.000000</td>\n",
              "      <td>40.000000</td>\n",
              "      <td>52.000000</td>\n",
              "      <td>1.000000</td>\n",
              "    </tr>\n",
              "    <tr>\n",
              "      <th>25%</th>\n",
              "      <td>24.880000</td>\n",
              "      <td>3.000000</td>\n",
              "      <td>2.661130</td>\n",
              "      <td>2.166250</td>\n",
              "      <td>0.000000</td>\n",
              "      <td>48.000000</td>\n",
              "      <td>67.000000</td>\n",
              "      <td>2.000000</td>\n",
              "    </tr>\n",
              "    <tr>\n",
              "      <th>50%</th>\n",
              "      <td>38.450000</td>\n",
              "      <td>6.000000</td>\n",
              "      <td>2.807160</td>\n",
              "      <td>2.903750</td>\n",
              "      <td>0.000000</td>\n",
              "      <td>50.000000</td>\n",
              "      <td>74.000000</td>\n",
              "      <td>2.000000</td>\n",
              "    </tr>\n",
              "    <tr>\n",
              "      <th>75%</th>\n",
              "      <td>60.940000</td>\n",
              "      <td>10.000000</td>\n",
              "      <td>2.951590</td>\n",
              "      <td>3.581250</td>\n",
              "      <td>1.000000</td>\n",
              "      <td>54.000000</td>\n",
              "      <td>82.000000</td>\n",
              "      <td>3.000000</td>\n",
              "    </tr>\n",
              "    <tr>\n",
              "      <th>max</th>\n",
              "      <td>109.230000</td>\n",
              "      <td>10.000000</td>\n",
              "      <td>4.875110</td>\n",
              "      <td>5.000000</td>\n",
              "      <td>8.000000</td>\n",
              "      <td>124.000000</td>\n",
              "      <td>206.000000</td>\n",
              "      <td>3.000000</td>\n",
              "    </tr>\n",
              "  </tbody>\n",
              "</table>\n",
              "</div>\n",
              "      <button class=\"colab-df-convert\" onclick=\"convertToInteractive('df-23cf0369-2730-4a93-b3be-c50d2950f534')\"\n",
              "              title=\"Convert this dataframe to an interactive table.\"\n",
              "              style=\"display:none;\">\n",
              "        \n",
              "  <svg xmlns=\"http://www.w3.org/2000/svg\" height=\"24px\"viewBox=\"0 0 24 24\"\n",
              "       width=\"24px\">\n",
              "    <path d=\"M0 0h24v24H0V0z\" fill=\"none\"/>\n",
              "    <path d=\"M18.56 5.44l.94 2.06.94-2.06 2.06-.94-2.06-.94-.94-2.06-.94 2.06-2.06.94zm-11 1L8.5 8.5l.94-2.06 2.06-.94-2.06-.94L8.5 2.5l-.94 2.06-2.06.94zm10 10l.94 2.06.94-2.06 2.06-.94-2.06-.94-.94-2.06-.94 2.06-2.06.94z\"/><path d=\"M17.41 7.96l-1.37-1.37c-.4-.4-.92-.59-1.43-.59-.52 0-1.04.2-1.43.59L10.3 9.45l-7.72 7.72c-.78.78-.78 2.05 0 2.83L4 21.41c.39.39.9.59 1.41.59.51 0 1.02-.2 1.41-.59l7.78-7.78 2.81-2.81c.8-.78.8-2.07 0-2.86zM5.41 20L4 18.59l7.72-7.72 1.47 1.35L5.41 20z\"/>\n",
              "  </svg>\n",
              "      </button>\n",
              "      \n",
              "  <style>\n",
              "    .colab-df-container {\n",
              "      display:flex;\n",
              "      flex-wrap:wrap;\n",
              "      gap: 12px;\n",
              "    }\n",
              "\n",
              "    .colab-df-convert {\n",
              "      background-color: #E8F0FE;\n",
              "      border: none;\n",
              "      border-radius: 50%;\n",
              "      cursor: pointer;\n",
              "      display: none;\n",
              "      fill: #1967D2;\n",
              "      height: 32px;\n",
              "      padding: 0 0 0 0;\n",
              "      width: 32px;\n",
              "    }\n",
              "\n",
              "    .colab-df-convert:hover {\n",
              "      background-color: #E2EBFA;\n",
              "      box-shadow: 0px 1px 2px rgba(60, 64, 67, 0.3), 0px 1px 3px 1px rgba(60, 64, 67, 0.15);\n",
              "      fill: #174EA6;\n",
              "    }\n",
              "\n",
              "    [theme=dark] .colab-df-convert {\n",
              "      background-color: #3B4455;\n",
              "      fill: #D2E3FC;\n",
              "    }\n",
              "\n",
              "    [theme=dark] .colab-df-convert:hover {\n",
              "      background-color: #434B5C;\n",
              "      box-shadow: 0px 1px 3px 1px rgba(0, 0, 0, 0.15);\n",
              "      filter: drop-shadow(0px 1px 2px rgba(0, 0, 0, 0.3));\n",
              "      fill: #FFFFFF;\n",
              "    }\n",
              "  </style>\n",
              "\n",
              "      <script>\n",
              "        const buttonEl =\n",
              "          document.querySelector('#df-23cf0369-2730-4a93-b3be-c50d2950f534 button.colab-df-convert');\n",
              "        buttonEl.style.display =\n",
              "          google.colab.kernel.accessAllowed ? 'block' : 'none';\n",
              "\n",
              "        async function convertToInteractive(key) {\n",
              "          const element = document.querySelector('#df-23cf0369-2730-4a93-b3be-c50d2950f534');\n",
              "          const dataTable =\n",
              "            await google.colab.kernel.invokeFunction('convertToInteractive',\n",
              "                                                     [key], {});\n",
              "          if (!dataTable) return;\n",
              "\n",
              "          const docLinkHtml = 'Like what you see? Visit the ' +\n",
              "            '<a target=\"_blank\" href=https://colab.research.google.com/notebooks/data_table.ipynb>data table notebook</a>'\n",
              "            + ' to learn more about interactive tables.';\n",
              "          element.innerHTML = '';\n",
              "          dataTable['output_type'] = 'display_data';\n",
              "          await google.colab.output.renderOutput(dataTable, element);\n",
              "          const docLink = document.createElement('div');\n",
              "          docLink.innerHTML = docLinkHtml;\n",
              "          element.appendChild(docLink);\n",
              "        }\n",
              "      </script>\n",
              "    </div>\n",
              "  </div>\n",
              "  "
            ]
          },
          "metadata": {},
          "execution_count": 27
        }
      ],
      "source": [
        "new_df.describe()"
      ]
    },
    {
      "cell_type": "code",
      "execution_count": 28,
      "metadata": {
        "id": "CnwGZuxm4WzF"
      },
      "outputs": [],
      "source": [
        "num_features=['Trip_Distance','Life_Style_Index','Customer_Rating','Var2','Var3']"
      ]
    },
    {
      "cell_type": "code",
      "execution_count": 29,
      "metadata": {
        "colab": {
          "base_uri": "https://localhost:8080/",
          "height": 1000
        },
        "id": "o7c4oaqg4cgR",
        "outputId": "efca8077-3ddd-4762-e239-467308873473"
      },
      "outputs": [
        {
          "output_type": "display_data",
          "data": {
            "text/plain": [
              "<Figure size 648x432 with 1 Axes>"
            ],
            "image/png": "[encoded data removed]"
          },
          "metadata": {
            "needs_background": "light"
          }
        },
        {
          "output_type": "display_data",
          "data": {
            "text/plain": [
              "<Figure size 648x432 with 1 Axes>"
            ],
            "image/png": "[encoded data removed]"
          },
          "metadata": {
            "needs_background": "light"
          }
        },
        {
          "output_type": "display_data",
          "data": {
            "text/plain": [
              "<Figure size 648x432 with 1 Axes>"
            ],
            "image/png": "[encoded data removed]"
          },
          "metadata": {
            "needs_background": "light"
          }
        },
        {
          "output_type": "display_data",
          "data": {
            "text/plain": [
              "<Figure size 648x432 with 1 Axes>"
            ],
            "image/png": "[encoded data removed]"
          },
          "metadata": {
            "needs_background": "light"
          }
        },
        {
          "output_type": "display_data",
          "data": {
            "text/plain": [
              "<Figure size 648x432 with 1 Axes>"
            ],
            "image/png": "[encoded data removed]"
          },
          "metadata": {
            "needs_background": "light"
          }
        }
      ],
      "source": [
        "for feature in num_features:\n",
        "  plt.figure(figsize=(9,6))\n",
        "  sns.distplot(new_df[feature])\n",
        "  plt.title(feature,fontsize=14)"
      ]
    },
    {
      "cell_type": "code",
      "execution_count": 30,
      "metadata": {
        "colab": {
          "base_uri": "https://localhost:8080/",
          "height": 486
        },
        "id": "GNy7aQ305aLn",
        "outputId": "a0ac9aca-ef17-45cb-9a29-cc083d38631b"
      },
      "outputs": [
        {
          "output_type": "display_data",
          "data": {
            "text/plain": [
              "<Figure size 1440x576 with 9 Axes>"
            ],
            "image/png": "[encoded data removed]"
          },
          "metadata": {
            "needs_background": "light"
          }
        }
      ],
      "source": [
        "#Boxplot of numerical columns\n",
        "new_df.plot(kind='box', layout=(3,3),subplots=True,figsize=(20,8),color='b')\n",
        "plt.show()"
      ]
    },
    {
      "cell_type": "code",
      "execution_count": 31,
      "metadata": {
        "id": "szaBep--6qDa"
      },
      "outputs": [],
      "source": [
        "#Converting the type of Customer_Since_Months from float to int\n",
        "new_df['Customer_Since_Months']=new_df['Customer_Since_Months'].astype(int)"
      ]
    },
    {
      "cell_type": "code",
      "execution_count": 32,
      "metadata": {
        "colab": {
          "base_uri": "https://localhost:8080/",
          "height": 625
        },
        "id": "LTLFlw0P6yB9",
        "outputId": "ca86d7f2-d0d9-4f81-8884-46ff8c0af09b"
      },
      "outputs": [
        {
          "output_type": "execute_result",
          "data": {
            "text/plain": [
              "<matplotlib.axes._subplots.AxesSubplot at 0x7fbafaa07b90>"
            ]
          },
          "metadata": {},
          "execution_count": 32
        },
        {
          "output_type": "display_data",
          "data": {
            "text/plain": [
              "<Figure size 1152x576 with 2 Axes>"
            ],
            "image/png": "[encoded data removed]"
          },
          "metadata": {
            "needs_background": "light"
          }
        }
      ],
      "source": [
        "# Lets look at the correlation matrix now.\n",
        "fig = plt.figure(figsize=(16,8))\n",
        "ax = fig.add_subplot(111)\n",
        "cor=new_df.corr()\n",
        "sns.heatmap(abs(cor),annot=True, cmap='Spectral_r')"
      ]
    },
    {
      "cell_type": "code",
      "execution_count": 33,
      "metadata": {
        "colab": {
          "base_uri": "https://localhost:8080/",
          "height": 270
        },
        "id": "m2Quhy1s7bSM",
        "outputId": "6f4f2c11-1421-43b2-d409-42f38c292afe"
      },
      "outputs": [
        {
          "output_type": "execute_result",
          "data": {
            "text/plain": [
              "   Trip_Distance Type_of_Cab  Customer_Since_Months  Life_Style_Index  \\\n",
              "0           6.77           B                      1           2.42769   \n",
              "1          29.47           B                     10           2.78245   \n",
              "4          54.95           C                     10           3.03453   \n",
              "6          29.72           E                     10           2.83958   \n",
              "7          18.44           B                      2           2.81871   \n",
              "\n",
              "  Confidence_Life_Style_Index Destination_Type  Customer_Rating  \\\n",
              "0                           A                A           3.9050   \n",
              "1                           B                A           3.4500   \n",
              "4                           B                A           3.4025   \n",
              "6                           C                B           2.9750   \n",
              "7                           B                A           3.5825   \n",
              "\n",
              "   Cancellation_Last_1Month  Var2  Var3  Gender  Surge_Pricing_Type  \n",
              "0                         0    46    60  Female                   2  \n",
              "1                         0    56    78    Male                   2  \n",
              "4                         4    49   102    Male                   2  \n",
              "6                         1    50    75    Male                   2  \n",
              "7                         0    46    63    Male                   2  "
            ],
            "text/html": [
              "\n",
              "  <div id=\"df-5ce77484-8a39-4ccb-b107-89673e9553e0\">\n",
              "    <div class=\"colab-df-container\">\n",
              "      <div>\n",
              "<style scoped>\n",
              "    .dataframe tbody tr th:only-of-type {\n",
              "        vertical-align: middle;\n",
              "    }\n",
              "\n",
              "    .dataframe tbody tr th {\n",
              "        vertical-align: top;\n",
              "    }\n",
              "\n",
              "    .dataframe thead th {\n",
              "        text-align: right;\n",
              "    }\n",
              "</style>\n",
              "<table border=\"1\" class=\"dataframe\">\n",
              "  <thead>\n",
              "    <tr style=\"text-align: right;\">\n",
              "      <th></th>\n",
              "      <th>Trip_Distance</th>\n",
              "      <th>Type_of_Cab</th>\n",
              "      <th>Customer_Since_Months</th>\n",
              "      <th>Life_Style_Index</th>\n",
              "      <th>Confidence_Life_Style_Index</th>\n",
              "      <th>Destination_Type</th>\n",
              "      <th>Customer_Rating</th>\n",
              "      <th>Cancellation_Last_1Month</th>\n",
              "      <th>Var2</th>\n",
              "      <th>Var3</th>\n",
              "      <th>Gender</th>\n",
              "      <th>Surge_Pricing_Type</th>\n",
              "    </tr>\n",
              "  </thead>\n",
              "  <tbody>\n",
              "    <tr>\n",
              "      <th>0</th>\n",
              "      <td>6.77</td>\n",
              "      <td>B</td>\n",
              "      <td>1</td>\n",
              "      <td>2.42769</td>\n",
              "      <td>A</td>\n",
              "      <td>A</td>\n",
              "      <td>3.9050</td>\n",
              "      <td>0</td>\n",
              "      <td>46</td>\n",
              "      <td>60</td>\n",
              "      <td>Female</td>\n",
              "      <td>2</td>\n",
              "    </tr>\n",
              "    <tr>\n",
              "      <th>1</th>\n",
              "      <td>29.47</td>\n",
              "      <td>B</td>\n",
              "      <td>10</td>\n",
              "      <td>2.78245</td>\n",
              "      <td>B</td>\n",
              "      <td>A</td>\n",
              "      <td>3.4500</td>\n",
              "      <td>0</td>\n",
              "      <td>56</td>\n",
              "      <td>78</td>\n",
              "      <td>Male</td>\n",
              "      <td>2</td>\n",
              "    </tr>\n",
              "    <tr>\n",
              "      <th>4</th>\n",
              "      <td>54.95</td>\n",
              "      <td>C</td>\n",
              "      <td>10</td>\n",
              "      <td>3.03453</td>\n",
              "      <td>B</td>\n",
              "      <td>A</td>\n",
              "      <td>3.4025</td>\n",
              "      <td>4</td>\n",
              "      <td>49</td>\n",
              "      <td>102</td>\n",
              "      <td>Male</td>\n",
              "      <td>2</td>\n",
              "    </tr>\n",
              "    <tr>\n",
              "      <th>6</th>\n",
              "      <td>29.72</td>\n",
              "      <td>E</td>\n",
              "      <td>10</td>\n",
              "      <td>2.83958</td>\n",
              "      <td>C</td>\n",
              "      <td>B</td>\n",
              "      <td>2.9750</td>\n",
              "      <td>1</td>\n",
              "      <td>50</td>\n",
              "      <td>75</td>\n",
              "      <td>Male</td>\n",
              "      <td>2</td>\n",
              "    </tr>\n",
              "    <tr>\n",
              "      <th>7</th>\n",
              "      <td>18.44</td>\n",
              "      <td>B</td>\n",
              "      <td>2</td>\n",
              "      <td>2.81871</td>\n",
              "      <td>B</td>\n",
              "      <td>A</td>\n",
              "      <td>3.5825</td>\n",
              "      <td>0</td>\n",
              "      <td>46</td>\n",
              "      <td>63</td>\n",
              "      <td>Male</td>\n",
              "      <td>2</td>\n",
              "    </tr>\n",
              "  </tbody>\n",
              "</table>\n",
              "</div>\n",
              "      <button class=\"colab-df-convert\" onclick=\"convertToInteractive('df-5ce77484-8a39-4ccb-b107-89673e9553e0')\"\n",
              "              title=\"Convert this dataframe to an interactive table.\"\n",
              "              style=\"display:none;\">\n",
              "        \n",
              "  <svg xmlns=\"http://www.w3.org/2000/svg\" height=\"24px\"viewBox=\"0 0 24 24\"\n",
              "       width=\"24px\">\n",
              "    <path d=\"M0 0h24v24H0V0z\" fill=\"none\"/>\n",
              "    <path d=\"M18.56 5.44l.94 2.06.94-2.06 2.06-.94-2.06-.94-.94-2.06-.94 2.06-2.06.94zm-11 1L8.5 8.5l.94-2.06 2.06-.94-2.06-.94L8.5 2.5l-.94 2.06-2.06.94zm10 10l.94 2.06.94-2.06 2.06-.94-2.06-.94-.94-2.06-.94 2.06-2.06.94z\"/><path d=\"M17.41 7.96l-1.37-1.37c-.4-.4-.92-.59-1.43-.59-.52 0-1.04.2-1.43.59L10.3 9.45l-7.72 7.72c-.78.78-.78 2.05 0 2.83L4 21.41c.39.39.9.59 1.41.59.51 0 1.02-.2 1.41-.59l7.78-7.78 2.81-2.81c.8-.78.8-2.07 0-2.86zM5.41 20L4 18.59l7.72-7.72 1.47 1.35L5.41 20z\"/>\n",
              "  </svg>\n",
              "      </button>\n",
              "      \n",
              "  <style>\n",
              "    .colab-df-container {\n",
              "      display:flex;\n",
              "      flex-wrap:wrap;\n",
              "      gap: 12px;\n",
              "    }\n",
              "\n",
              "    .colab-df-convert {\n",
              "      background-color: #E8F0FE;\n",
              "      border: none;\n",
              "      border-radius: 50%;\n",
              "      cursor: pointer;\n",
              "      display: none;\n",
              "      fill: #1967D2;\n",
              "      height: 32px;\n",
              "      padding: 0 0 0 0;\n",
              "      width: 32px;\n",
              "    }\n",
              "\n",
              "    .colab-df-convert:hover {\n",
              "      background-color: #E2EBFA;\n",
              "      box-shadow: 0px 1px 2px rgba(60, 64, 67, 0.3), 0px 1px 3px 1px rgba(60, 64, 67, 0.15);\n",
              "      fill: #174EA6;\n",
              "    }\n",
              "\n",
              "    [theme=dark] .colab-df-convert {\n",
              "      background-color: #3B4455;\n",
              "      fill: #D2E3FC;\n",
              "    }\n",
              "\n",
              "    [theme=dark] .colab-df-convert:hover {\n",
              "      background-color: #434B5C;\n",
              "      box-shadow: 0px 1px 3px 1px rgba(0, 0, 0, 0.15);\n",
              "      filter: drop-shadow(0px 1px 2px rgba(0, 0, 0, 0.3));\n",
              "      fill: #FFFFFF;\n",
              "    }\n",
              "  </style>\n",
              "\n",
              "      <script>\n",
              "        const buttonEl =\n",
              "          document.querySelector('#df-5ce77484-8a39-4ccb-b107-89673e9553e0 button.colab-df-convert');\n",
              "        buttonEl.style.display =\n",
              "          google.colab.kernel.accessAllowed ? 'block' : 'none';\n",
              "\n",
              "        async function convertToInteractive(key) {\n",
              "          const element = document.querySelector('#df-5ce77484-8a39-4ccb-b107-89673e9553e0');\n",
              "          const dataTable =\n",
              "            await google.colab.kernel.invokeFunction('convertToInteractive',\n",
              "                                                     [key], {});\n",
              "          if (!dataTable) return;\n",
              "\n",
              "          const docLinkHtml = 'Like what you see? Visit the ' +\n",
              "            '<a target=\"_blank\" href=https://colab.research.google.com/notebooks/data_table.ipynb>data table notebook</a>'\n",
              "            + ' to learn more about interactive tables.';\n",
              "          element.innerHTML = '';\n",
              "          dataTable['output_type'] = 'display_data';\n",
              "          await google.colab.output.renderOutput(dataTable, element);\n",
              "          const docLink = document.createElement('div');\n",
              "          docLink.innerHTML = docLinkHtml;\n",
              "          element.appendChild(docLink);\n",
              "        }\n",
              "      </script>\n",
              "    </div>\n",
              "  </div>\n",
              "  "
            ]
          },
          "metadata": {},
          "execution_count": 33
        }
      ],
      "source": [
        "new_df.head()"
      ]
    },
    {
      "cell_type": "markdown",
      "metadata": {
        "id": "88Z2ZYka7gU3"
      },
      "source": [
        "##**Categorical Columns**\n",
        "* Type_of_Cab\n",
        "* Confidence_Life_Style_Index  \n",
        "* Destination_Type             \n",
        "* Gender    "
      ]
    },
    {
      "cell_type": "code",
      "execution_count": 34,
      "metadata": {
        "id": "lj3_dtPo7ieI"
      },
      "outputs": [],
      "source": [
        "fin_df=new_df.copy()"
      ]
    },
    {
      "cell_type": "markdown",
      "metadata": {
        "id": "DmC4hL5E7ogV"
      },
      "source": [
        "* **Let's deal with Categorical columns**"
      ]
    },
    {
      "cell_type": "code",
      "execution_count": 35,
      "metadata": {
        "id": "v0h1qgZc7qRd"
      },
      "outputs": [],
      "source": [
        "# Converting Gender column into numerical features\n",
        "gender_dict={'Female':0,'Male':1}\n",
        "\n",
        "fin_df['Gender']=fin_df['Gender'].map(gender_dict)"
      ]
    },
    {
      "cell_type": "code",
      "execution_count": 36,
      "metadata": {
        "id": "X5-dVu7f7xiG"
      },
      "outputs": [],
      "source": [
        "# One hot encoding\n",
        "fin_df= pd.get_dummies(fin_df, columns=[\"Type_of_Cab\", \"Confidence_Life_Style_Index\",\"Destination_Type\"], prefix=[\"cab_type\", \"confidence_index\",\"destination_type\"],drop_first=True)"
      ]
    },
    {
      "cell_type": "code",
      "execution_count": 37,
      "metadata": {
        "colab": {
          "base_uri": "https://localhost:8080/"
        },
        "id": "jB-NofNY8RT5",
        "outputId": "5f942eff-36ea-43ea-b930-276f7a43dbef"
      },
      "outputs": [
        {
          "output_type": "execute_result",
          "data": {
            "text/plain": [
              "(90052, 28)"
            ]
          },
          "metadata": {},
          "execution_count": 37
        }
      ],
      "source": [
        "fin_df.shape"
      ]
    },
    {
      "cell_type": "code",
      "execution_count": 38,
      "metadata": {
        "colab": {
          "base_uri": "https://localhost:8080/",
          "height": 299
        },
        "id": "JST9cOrk8WtZ",
        "outputId": "c019cbcf-8c01-4f89-dd37-86250d3767a7"
      },
      "outputs": [
        {
          "output_type": "execute_result",
          "data": {
            "text/plain": [
              "   Trip_Distance  Customer_Since_Months  Life_Style_Index  Customer_Rating  \\\n",
              "0           6.77                      1           2.42769           3.9050   \n",
              "1          29.47                     10           2.78245           3.4500   \n",
              "4          54.95                     10           3.03453           3.4025   \n",
              "6          29.72                     10           2.83958           2.9750   \n",
              "7          18.44                      2           2.81871           3.5825   \n",
              "\n",
              "   Cancellation_Last_1Month  Var2  Var3  Gender  Surge_Pricing_Type  \\\n",
              "0                         0    46    60       0                   2   \n",
              "1                         0    56    78       1                   2   \n",
              "4                         4    49   102       1                   2   \n",
              "6                         1    50    75       1                   2   \n",
              "7                         0    46    63       1                   2   \n",
              "\n",
              "   cab_type_B  ...  destination_type_E  destination_type_F  \\\n",
              "0           1  ...                   0                   0   \n",
              "1           1  ...                   0                   0   \n",
              "4           0  ...                   0                   0   \n",
              "6           0  ...                   0                   0   \n",
              "7           1  ...                   0                   0   \n",
              "\n",
              "   destination_type_G  destination_type_H  destination_type_I  \\\n",
              "0                   0                   0                   0   \n",
              "1                   0                   0                   0   \n",
              "4                   0                   0                   0   \n",
              "6                   0                   0                   0   \n",
              "7                   0                   0                   0   \n",
              "\n",
              "   destination_type_J  destination_type_K  destination_type_L  \\\n",
              "0                   0                   0                   0   \n",
              "1                   0                   0                   0   \n",
              "4                   0                   0                   0   \n",
              "6                   0                   0                   0   \n",
              "7                   0                   0                   0   \n",
              "\n",
              "   destination_type_M  destination_type_N  \n",
              "0                   0                   0  \n",
              "1                   0                   0  \n",
              "4                   0                   0  \n",
              "6                   0                   0  \n",
              "7                   0                   0  \n",
              "\n",
              "[5 rows x 28 columns]"
            ],
            "text/html": [
              "\n",
              "  <div id=\"df-6deb1e80-fe6a-488f-a584-8d94f029d6f8\">\n",
              "    <div class=\"colab-df-container\">\n",
              "      <div>\n",
              "<style scoped>\n",
              "    .dataframe tbody tr th:only-of-type {\n",
              "        vertical-align: middle;\n",
              "    }\n",
              "\n",
              "    .dataframe tbody tr th {\n",
              "        vertical-align: top;\n",
              "    }\n",
              "\n",
              "    .dataframe thead th {\n",
              "        text-align: right;\n",
              "    }\n",
              "</style>\n",
              "<table border=\"1\" class=\"dataframe\">\n",
              "  <thead>\n",
              "    <tr style=\"text-align: right;\">\n",
              "      <th></th>\n",
              "      <th>Trip_Distance</th>\n",
              "      <th>Customer_Since_Months</th>\n",
              "      <th>Life_Style_Index</th>\n",
              "      <th>Customer_Rating</th>\n",
              "      <th>Cancellation_Last_1Month</th>\n",
              "      <th>Var2</th>\n",
              "      <th>Var3</th>\n",
              "      <th>Gender</th>\n",
              "      <th>Surge_Pricing_Type</th>\n",
              "      <th>cab_type_B</th>\n",
              "      <th>...</th>\n",
              "      <th>destination_type_E</th>\n",
              "      <th>destination_type_F</th>\n",
              "      <th>destination_type_G</th>\n",
              "      <th>destination_type_H</th>\n",
              "      <th>destination_type_I</th>\n",
              "      <th>destination_type_J</th>\n",
              "      <th>destination_type_K</th>\n",
              "      <th>destination_type_L</th>\n",
              "      <th>destination_type_M</th>\n",
              "      <th>destination_type_N</th>\n",
              "    </tr>\n",
              "  </thead>\n",
              "  <tbody>\n",
              "    <tr>\n",
              "      <th>0</th>\n",
              "      <td>6.77</td>\n",
              "      <td>1</td>\n",
              "      <td>2.42769</td>\n",
              "      <td>3.9050</td>\n",
              "      <td>0</td>\n",
              "      <td>46</td>\n",
              "      <td>60</td>\n",
              "      <td>0</td>\n",
              "      <td>2</td>\n",
              "      <td>1</td>\n",
              "      <td>...</td>\n",
              "      <td>0</td>\n",
              "      <td>0</td>\n",
              "      <td>0</td>\n",
              "      <td>0</td>\n",
              "      <td>0</td>\n",
              "      <td>0</td>\n",
              "      <td>0</td>\n",
              "      <td>0</td>\n",
              "      <td>0</td>\n",
              "      <td>0</td>\n",
              "    </tr>\n",
              "    <tr>\n",
              "      <th>1</th>\n",
              "      <td>29.47</td>\n",
              "      <td>10</td>\n",
              "      <td>2.78245</td>\n",
              "      <td>3.4500</td>\n",
              "      <td>0</td>\n",
              "      <td>56</td>\n",
              "      <td>78</td>\n",
              "      <td>1</td>\n",
              "      <td>2</td>\n",
              "      <td>1</td>\n",
              "      <td>...</td>\n",
              "      <td>0</td>\n",
              "      <td>0</td>\n",
              "      <td>0</td>\n",
              "      <td>0</td>\n",
              "      <td>0</td>\n",
              "      <td>0</td>\n",
              "      <td>0</td>\n",
              "      <td>0</td>\n",
              "      <td>0</td>\n",
              "      <td>0</td>\n",
              "    </tr>\n",
              "    <tr>\n",
              "      <th>4</th>\n",
              "      <td>54.95</td>\n",
              "      <td>10</td>\n",
              "      <td>3.03453</td>\n",
              "      <td>3.4025</td>\n",
              "      <td>4</td>\n",
              "      <td>49</td>\n",
              "      <td>102</td>\n",
              "      <td>1</td>\n",
              "      <td>2</td>\n",
              "      <td>0</td>\n",
              "      <td>...</td>\n",
              "      <td>0</td>\n",
              "      <td>0</td>\n",
              "      <td>0</td>\n",
              "      <td>0</td>\n",
              "      <td>0</td>\n",
              "      <td>0</td>\n",
              "      <td>0</td>\n",
              "      <td>0</td>\n",
              "      <td>0</td>\n",
              "      <td>0</td>\n",
              "    </tr>\n",
              "    <tr>\n",
              "      <th>6</th>\n",
              "      <td>29.72</td>\n",
              "      <td>10</td>\n",
              "      <td>2.83958</td>\n",
              "      <td>2.9750</td>\n",
              "      <td>1</td>\n",
              "      <td>50</td>\n",
              "      <td>75</td>\n",
              "      <td>1</td>\n",
              "      <td>2</td>\n",
              "      <td>0</td>\n",
              "      <td>...</td>\n",
              "      <td>0</td>\n",
              "      <td>0</td>\n",
              "      <td>0</td>\n",
              "      <td>0</td>\n",
              "      <td>0</td>\n",
              "      <td>0</td>\n",
              "      <td>0</td>\n",
              "      <td>0</td>\n",
              "      <td>0</td>\n",
              "      <td>0</td>\n",
              "    </tr>\n",
              "    <tr>\n",
              "      <th>7</th>\n",
              "      <td>18.44</td>\n",
              "      <td>2</td>\n",
              "      <td>2.81871</td>\n",
              "      <td>3.5825</td>\n",
              "      <td>0</td>\n",
              "      <td>46</td>\n",
              "      <td>63</td>\n",
              "      <td>1</td>\n",
              "      <td>2</td>\n",
              "      <td>1</td>\n",
              "      <td>...</td>\n",
              "      <td>0</td>\n",
              "      <td>0</td>\n",
              "      <td>0</td>\n",
              "      <td>0</td>\n",
              "      <td>0</td>\n",
              "      <td>0</td>\n",
              "      <td>0</td>\n",
              "      <td>0</td>\n",
              "      <td>0</td>\n",
              "      <td>0</td>\n",
              "    </tr>\n",
              "  </tbody>\n",
              "</table>\n",
              "<p>5 rows × 28 columns</p>\n",
              "</div>\n",
              "      <button class=\"colab-df-convert\" onclick=\"convertToInteractive('df-6deb1e80-fe6a-488f-a584-8d94f029d6f8')\"\n",
              "              title=\"Convert this dataframe to an interactive table.\"\n",
              "              style=\"display:none;\">\n",
              "        \n",
              "  <svg xmlns=\"http://www.w3.org/2000/svg\" height=\"24px\"viewBox=\"0 0 24 24\"\n",
              "       width=\"24px\">\n",
              "    <path d=\"M0 0h24v24H0V0z\" fill=\"none\"/>\n",
              "    <path d=\"M18.56 5.44l.94 2.06.94-2.06 2.06-.94-2.06-.94-.94-2.06-.94 2.06-2.06.94zm-11 1L8.5 8.5l.94-2.06 2.06-.94-2.06-.94L8.5 2.5l-.94 2.06-2.06.94zm10 10l.94 2.06.94-2.06 2.06-.94-2.06-.94-.94-2.06-.94 2.06-2.06.94z\"/><path d=\"M17.41 7.96l-1.37-1.37c-.4-.4-.92-.59-1.43-.59-.52 0-1.04.2-1.43.59L10.3 9.45l-7.72 7.72c-.78.78-.78 2.05 0 2.83L4 21.41c.39.39.9.59 1.41.59.51 0 1.02-.2 1.41-.59l7.78-7.78 2.81-2.81c.8-.78.8-2.07 0-2.86zM5.41 20L4 18.59l7.72-7.72 1.47 1.35L5.41 20z\"/>\n",
              "  </svg>\n",
              "      </button>\n",
              "      \n",
              "  <style>\n",
              "    .colab-df-container {\n",
              "      display:flex;\n",
              "      flex-wrap:wrap;\n",
              "      gap: 12px;\n",
              "    }\n",
              "\n",
              "    .colab-df-convert {\n",
              "      background-color: #E8F0FE;\n",
              "      border: none;\n",
              "      border-radius: 50%;\n",
              "      cursor: pointer;\n",
              "      display: none;\n",
              "      fill: #1967D2;\n",
              "      height: 32px;\n",
              "      padding: 0 0 0 0;\n",
              "      width: 32px;\n",
              "    }\n",
              "\n",
              "    .colab-df-convert:hover {\n",
              "      background-color: #E2EBFA;\n",
              "      box-shadow: 0px 1px 2px rgba(60, 64, 67, 0.3), 0px 1px 3px 1px rgba(60, 64, 67, 0.15);\n",
              "      fill: #174EA6;\n",
              "    }\n",
              "\n",
              "    [theme=dark] .colab-df-convert {\n",
              "      background-color: #3B4455;\n",
              "      fill: #D2E3FC;\n",
              "    }\n",
              "\n",
              "    [theme=dark] .colab-df-convert:hover {\n",
              "      background-color: #434B5C;\n",
              "      box-shadow: 0px 1px 3px 1px rgba(0, 0, 0, 0.15);\n",
              "      filter: drop-shadow(0px 1px 2px rgba(0, 0, 0, 0.3));\n",
              "      fill: #FFFFFF;\n",
              "    }\n",
              "  </style>\n",
              "\n",
              "      <script>\n",
              "        const buttonEl =\n",
              "          document.querySelector('#df-6deb1e80-fe6a-488f-a584-8d94f029d6f8 button.colab-df-convert');\n",
              "        buttonEl.style.display =\n",
              "          google.colab.kernel.accessAllowed ? 'block' : 'none';\n",
              "\n",
              "        async function convertToInteractive(key) {\n",
              "          const element = document.querySelector('#df-6deb1e80-fe6a-488f-a584-8d94f029d6f8');\n",
              "          const dataTable =\n",
              "            await google.colab.kernel.invokeFunction('convertToInteractive',\n",
              "                                                     [key], {});\n",
              "          if (!dataTable) return;\n",
              "\n",
              "          const docLinkHtml = 'Like what you see? Visit the ' +\n",
              "            '<a target=\"_blank\" href=https://colab.research.google.com/notebooks/data_table.ipynb>data table notebook</a>'\n",
              "            + ' to learn more about interactive tables.';\n",
              "          element.innerHTML = '';\n",
              "          dataTable['output_type'] = 'display_data';\n",
              "          await google.colab.output.renderOutput(dataTable, element);\n",
              "          const docLink = document.createElement('div');\n",
              "          docLink.innerHTML = docLinkHtml;\n",
              "          element.appendChild(docLink);\n",
              "        }\n",
              "      </script>\n",
              "    </div>\n",
              "  </div>\n",
              "  "
            ]
          },
          "metadata": {},
          "execution_count": 38
        }
      ],
      "source": [
        "fin_df.head()"
      ]
    },
    {
      "cell_type": "markdown",
      "metadata": {
        "id": "Bez4cct09Zmp"
      },
      "source": [
        "* **Now, our dataset have 28 features and we are done with categorical features too**"
      ]
    },
    {
      "cell_type": "markdown",
      "metadata": {
        "id": "YccOxjZZ9dZX"
      },
      "source": [
        "##**Feature Selection**"
      ]
    },
    {
      "cell_type": "markdown",
      "metadata": {
        "id": "nVhn4MWx9gSo"
      },
      "source": [
        "* **Let's compare the features**"
      ]
    },
    {
      "cell_type": "code",
      "execution_count": 39,
      "metadata": {
        "id": "_lv1uXYm9aQH"
      },
      "outputs": [],
      "source": [
        "X=fin_df.drop('Surge_Pricing_Type',axis=1)\n",
        "y=fin_df['Surge_Pricing_Type']"
      ]
    },
    {
      "cell_type": "code",
      "execution_count": 40,
      "metadata": {
        "colab": {
          "base_uri": "https://localhost:8080/"
        },
        "id": "9wd-WvkQ9uzE",
        "outputId": "6d029157-bbf6-4acd-a1b8-a24470bd19f1"
      },
      "outputs": [
        {
          "output_type": "execute_result",
          "data": {
            "text/plain": [
              "((90052, 27), (90052,))"
            ]
          },
          "metadata": {},
          "execution_count": 40
        }
      ],
      "source": [
        "X.shape,y.shape"
      ]
    },
    {
      "cell_type": "code",
      "execution_count": 41,
      "metadata": {
        "id": "72-DCWXl96Ag"
      },
      "outputs": [],
      "source": [
        "# ExtraTreesClassifier\n",
        "from sklearn.ensemble import ExtraTreesClassifier\n",
        "ET=ExtraTreesClassifier()\n",
        "ET.fit(X,y)\n",
        "feat_dict={'feature':X.columns,'importance':ET.feature_importances_}\n",
        "feature_df=pd.DataFrame(feat_dict)"
      ]
    },
    {
      "cell_type": "code",
      "execution_count": 42,
      "metadata": {
        "colab": {
          "base_uri": "https://localhost:8080/",
          "height": 470
        },
        "id": "xV7oZcnQ-9C0",
        "outputId": "206f78dd-a1bc-4e5a-f0e7-d19673ce42f7"
      },
      "outputs": [
        {
          "output_type": "display_data",
          "data": {
            "text/plain": [
              "<Figure size 1080x360 with 1 Axes>"
            ],
            "image/png": "[encoded data removed]"
          },
          "metadata": {
            "needs_background": "light"
          }
        }
      ],
      "source": [
        "feature_df.sort_values('importance',ascending=False,inplace=True)\n",
        "g=sns.barplot(x='feature',y='importance',data=feature_df)\n",
        "g.set_xticklabels(labels=feature_df['feature'], rotation=90)\n",
        "plt.title('Feature Importance')\n",
        "plt.show()"
      ]
    },
    {
      "cell_type": "markdown",
      "metadata": {
        "id": "NTRmsEJw_yMx"
      },
      "source": [
        "* **Now we can apply feature selection here and can drop less important features**"
      ]
    },
    {
      "cell_type": "markdown",
      "metadata": {
        "id": "S6wiJKL_Afe2"
      },
      "source": [
        "##Feature selection for categorical input that has categorical output: Chi-Squared"
      ]
    },
    {
      "cell_type": "markdown",
      "metadata": {
        "id": "thwblQDAAgTm"
      },
      "source": [
        "H0- Categorical features are independent from the surge pricing category\n",
        "\n",
        "H1- Categorical features are dependent on the surge pricing category\n",
        "\n",
        "The significance level remains 5% for this."
      ]
    },
    {
      "cell_type": "code",
      "execution_count": 43,
      "metadata": {
        "colab": {
          "base_uri": "https://localhost:8080/"
        },
        "id": "5iLzx-bOAfCD",
        "outputId": "d4a85cb7-2de2-4e4f-ce1b-ec70fba4c1ed"
      },
      "outputs": [
        {
          "output_type": "execute_result",
          "data": {
            "text/plain": [
              "Index(['Trip_Distance', 'Customer_Since_Months', 'Life_Style_Index',\n",
              "       'Customer_Rating', 'Cancellation_Last_1Month', 'Var2', 'Var3', 'Gender',\n",
              "       'Surge_Pricing_Type', 'cab_type_B', 'cab_type_C', 'cab_type_D',\n",
              "       'cab_type_E', 'confidence_index_B', 'confidence_index_C',\n",
              "       'destination_type_B', 'destination_type_C', 'destination_type_D',\n",
              "       'destination_type_E', 'destination_type_F', 'destination_type_G',\n",
              "       'destination_type_H', 'destination_type_I', 'destination_type_J',\n",
              "       'destination_type_K', 'destination_type_L', 'destination_type_M',\n",
              "       'destination_type_N'],\n",
              "      dtype='object')"
            ]
          },
          "metadata": {},
          "execution_count": 43
        }
      ],
      "source": [
        "fin_df.columns"
      ]
    },
    {
      "cell_type": "code",
      "execution_count": 44,
      "metadata": {
        "id": "P2gZB4V5AnJa"
      },
      "outputs": [],
      "source": [
        "dependent_variable= fin_df['Surge_Pricing_Type']\n",
        "\n",
        "categorical_features=['Cancellation_Last_1Month', 'Gender', 'Surge_Pricing_Type',\n",
        "       'cab_type_B', 'cab_type_C', 'cab_type_D', 'cab_type_E',\n",
        "       'confidence_index_B', 'confidence_index_C', 'destination_type_B',\n",
        "       'destination_type_C', 'destination_type_D', 'destination_type_E',\n",
        "       'destination_type_F', 'destination_type_G', 'destination_type_H',\n",
        "       'destination_type_I', 'destination_type_J', 'destination_type_K',\n",
        "       'destination_type_L', 'destination_type_M', 'destination_type_N']"
      ]
    },
    {
      "cell_type": "code",
      "execution_count": 45,
      "metadata": {
        "colab": {
          "base_uri": "https://localhost:8080/"
        },
        "id": "AjcoXJt4As-y",
        "outputId": "ea7eace5-e7da-46d5-e42e-593021f081a7"
      },
      "outputs": [
        {
          "output_type": "stream",
          "name": "stdout",
          "text": [
            "[4.36905234e+03 4.13094377e-02 2.27460387e+04 1.24757739e+04\n",
            " 4.87004575e+03 1.32863060e+04 5.24532842e+03 2.02580837e+03\n",
            " 3.76378137e+01 1.34049001e+03 3.15790920e+01 5.07458511e+02\n",
            " 1.20325710e+02 1.97456132e+02 1.56033130e+02 5.68496944e+01\n",
            " 9.86709681e+01 4.45941173e+01 1.11212377e+01 3.30281828e+01\n",
            " 6.19917879e+00 2.75409033e+01] [0.00000000e+000 9.79557129e-001 0.00000000e+000 0.00000000e+000\n",
            " 0.00000000e+000 0.00000000e+000 0.00000000e+000 0.00000000e+000\n",
            " 6.71510176e-009 8.24694780e-292 1.38895221e-007 6.40891394e-111\n",
            " 7.44053211e-027 1.32722836e-043 1.31170540e-034 4.52111667e-013\n",
            " 3.74862083e-022 2.07257597e-010 3.84639540e-003 6.73009568e-008\n",
            " 4.50677037e-002 1.04608948e-006]\n"
          ]
        }
      ],
      "source": [
        "from sklearn.feature_selection import chi2\n",
        "#Defining the dependent variable\n",
        "dependent_variable= fin_df['Surge_Pricing_Type']\n",
        "cat_df=fin_df[categorical_features]\n",
        "#Checking the Chi-scores array\n",
        "\n",
        "chi_scores = chi2(cat_df,dependent_variable)\n",
        "\n",
        "print(*chi_scores)"
      ]
    },
    {
      "cell_type": "markdown",
      "metadata": {
        "id": "f0XKk2isBiSg"
      },
      "source": [
        "**The first array in this array contains chi-square values and the second contains p-values**\n",
        "\n",
        "**For our feature selection we should take p-values.**"
      ]
    },
    {
      "cell_type": "code",
      "execution_count": 46,
      "metadata": {
        "id": "nR85E0FYBhzo"
      },
      "outputs": [],
      "source": [
        "p_values=pd.Series(chi_scores[1],index=cat_df.columns)\n",
        "p_values.sort_values(ascending = False , inplace = True)"
      ]
    },
    {
      "cell_type": "code",
      "execution_count": 47,
      "metadata": {
        "colab": {
          "base_uri": "https://localhost:8080/",
          "height": 473
        },
        "id": "-us2uXyyCYVk",
        "outputId": "1160ff92-37d1-4dc7-d8ba-d93e888bcced"
      },
      "outputs": [
        {
          "output_type": "execute_result",
          "data": {
            "text/plain": [
              "Text(0.5, 1.0, 'P-values for categorical features')"
            ]
          },
          "metadata": {},
          "execution_count": 47
        },
        {
          "output_type": "display_data",
          "data": {
            "text/plain": [
              "<Figure size 1080x360 with 1 Axes>"
            ],
            "image/png": "[encoded data removed]"
          },
          "metadata": {
            "needs_background": "light"
          }
        }
      ],
      "source": [
        "p_values.plot(kind='bar',color='b')\n",
        "\n",
        "plt.title('P-values for categorical features') "
      ]
    },
    {
      "cell_type": "markdown",
      "metadata": {
        "id": "xi1TBKjDCmmh"
      },
      "source": [
        "*** p-value of gender is very high which means that this variable is independent of the surge pricing and therefore should not be used for model training.**"
      ]
    },
    {
      "cell_type": "markdown",
      "metadata": {
        "id": "BagWsDyuCoSj"
      },
      "source": [
        "### Feature selection for numerical input that has categorical output: ANOVA"
      ]
    },
    {
      "cell_type": "code",
      "execution_count": 48,
      "metadata": {
        "id": "uZljqflgCsNX"
      },
      "outputs": [],
      "source": [
        "from sklearn.feature_selection import f_classif, f_regression"
      ]
    },
    {
      "cell_type": "code",
      "execution_count": 49,
      "metadata": {
        "id": "ZbnDkeP1C7a9"
      },
      "outputs": [],
      "source": [
        "numeric_features=['Trip_Distance','Life_Style_Index','Customer_Rating','Var2','Var3']\n",
        "numerical_features=fin_df[numeric_features]"
      ]
    },
    {
      "cell_type": "code",
      "execution_count": 50,
      "metadata": {
        "colab": {
          "base_uri": "https://localhost:8080/"
        },
        "id": "vzGshvq9C-FE",
        "outputId": "a88bfbc7-2fec-41f1-bf4c-c95237eff580"
      },
      "outputs": [
        {
          "output_type": "stream",
          "name": "stdout",
          "text": [
            "(array([1217.74688847,  486.43036071, 1060.66928714,   26.94158871,\n",
            "        130.88211635]), array([0.00000000e+000, 7.56808447e-211, 0.00000000e+000, 2.00870411e-012,\n",
            "       1.74211047e-057]))\n"
          ]
        }
      ],
      "source": [
        "f_scores = f_classif(numerical_features, dependent_variable)\n",
        "print(f_scores)"
      ]
    },
    {
      "cell_type": "markdown",
      "metadata": {
        "id": "186FHWqhDFoJ"
      },
      "source": [
        "**The second contains p-values For our feature selection we should take p-values.**"
      ]
    },
    {
      "cell_type": "code",
      "execution_count": 51,
      "metadata": {
        "id": "kChx6KIxDLEq"
      },
      "outputs": [],
      "source": [
        "#The second array consists of p-values that we need\n",
        "p_values_n= pd.Series(f_scores[1],index= numerical_features.columns)"
      ]
    },
    {
      "cell_type": "code",
      "execution_count": 52,
      "metadata": {
        "colab": {
          "base_uri": "https://localhost:8080/",
          "height": 429
        },
        "id": "Mg5S_lyjDOKU",
        "outputId": "4f7a544c-86d1-40a2-d34c-7aecc2ef9363"
      },
      "outputs": [
        {
          "output_type": "execute_result",
          "data": {
            "text/plain": [
              "Text(0.5, 1.0, 'P-values for numerical features')"
            ]
          },
          "metadata": {},
          "execution_count": 52
        },
        {
          "output_type": "display_data",
          "data": {
            "text/plain": [
              "<Figure size 1080x360 with 1 Axes>"
            ],
            "image/png": "[encoded data removed]"
          },
          "metadata": {
            "needs_background": "light"
          }
        }
      ],
      "source": [
        "p_values_n.plot(kind='bar',color='r')\n",
        "\n",
        "plt.title('P-values for numerical features')"
      ]
    },
    {
      "cell_type": "markdown",
      "metadata": {
        "id": "fwXgkAkUDoZU"
      },
      "source": [
        "**We can drop Variable 2 because of high p-value too.**"
      ]
    },
    {
      "cell_type": "markdown",
      "metadata": {
        "id": "66QbW9ebDsr0"
      },
      "source": [
        "###**After Feature Selection we are confident with removing 4 columns:**\n",
        "**1. Extra Trees Classifier - Destination_type columns**  \n",
        "**2. chi2 - Gender**  \n",
        "**3. ANOVA - Var2**"
      ]
    },
    {
      "cell_type": "markdown",
      "metadata": {
        "id": "xcMcE63_EJPN"
      },
      "source": [
        "##**Data Preparation**"
      ]
    },
    {
      "cell_type": "code",
      "execution_count": 53,
      "metadata": {
        "id": "2j8vuu-2DsUp"
      },
      "outputs": [],
      "source": [
        "X=fin_df[[col for col in fin_df.columns if col not in ['Surge_Pricing_Type','Gender','Var2','Cancellation_Last_1Month','destination_type_B',\n",
        "       'destination_type_C', 'destination_type_D', 'destination_type_E',\n",
        "       'destination_type_F', 'destination_type_G', 'destination_type_H',\n",
        "       'destination_type_I', 'destination_type_J', 'destination_type_K',\n",
        "       'destination_type_L', 'destination_type_M', 'destination_type_N']]]\n",
        "y=fin_df['Surge_Pricing_Type']"
      ]
    },
    {
      "cell_type": "markdown",
      "metadata": {
        "id": "LsLXkZGcEfDP"
      },
      "source": [
        "* **Lets split the data into train and test data**"
      ]
    },
    {
      "cell_type": "code",
      "execution_count": 54,
      "metadata": {
        "id": "3wDUgMKAEg4b"
      },
      "outputs": [],
      "source": [
        "X_train, X_test, y_train, y_test = train_test_split(X,y,test_size=0.25,random_state=1)"
      ]
    },
    {
      "cell_type": "code",
      "execution_count": 55,
      "metadata": {
        "colab": {
          "base_uri": "https://localhost:8080/"
        },
        "id": "qCffcOSaEjdl",
        "outputId": "078860da-9ef5-4f0f-8812-1b7742db2eae"
      },
      "outputs": [
        {
          "output_type": "execute_result",
          "data": {
            "text/plain": [
              "((67539, 11), (22513, 11))"
            ]
          },
          "metadata": {},
          "execution_count": 55
        }
      ],
      "source": [
        "X_train.shape,X_test.shape"
      ]
    },
    {
      "cell_type": "markdown",
      "metadata": {
        "id": "rwc5IeZlEzFj"
      },
      "source": [
        "**Scaling the dataset**"
      ]
    },
    {
      "cell_type": "code",
      "execution_count": 56,
      "metadata": {
        "id": "q-EBFuNTExPg"
      },
      "outputs": [],
      "source": [
        "from sklearn.preprocessing import StandardScaler\n",
        "# Feature Scaling\n",
        "scaler = StandardScaler()\n",
        "X_train = scaler.fit_transform(X_train)\n",
        "X_test = scaler.transform(X_test)"
      ]
    },
    {
      "cell_type": "markdown",
      "metadata": {
        "id": "pWHReDKPFjO0"
      },
      "source": [
        "#**Implementation of models on our dataset:**\n",
        "\n",
        "We can implement\n",
        "* **Logistic Regression**\n",
        "* **SVM classifier**\n",
        "* **Random Forrest Classifier**\n",
        "* **XGBoost Classifier**"
      ]
    },
    {
      "cell_type": "code",
      "execution_count": 57,
      "metadata": {
        "id": "Z_n13oZEFlZQ"
      },
      "outputs": [],
      "source": [
        "from sklearn.metrics import accuracy_score,confusion_matrix,classification_report\n",
        "from sklearn.metrics import precision_score\n",
        "from sklearn.metrics import recall_score\n",
        "from sklearn.metrics import f1_score\n",
        "from sklearn.metrics import roc_auc_score\n",
        "from sklearn.metrics import roc_curve\n",
        "from sklearn.metrics import auc"
      ]
    },
    {
      "cell_type": "markdown",
      "metadata": {
        "id": "qi4ynmytFq-n"
      },
      "source": [
        "##**Logistic Regression**"
      ]
    },
    {
      "cell_type": "code",
      "execution_count": 58,
      "metadata": {
        "colab": {
          "base_uri": "https://localhost:8080/"
        },
        "id": "ONekyEJsFs2C",
        "outputId": "628723c5-79a4-4247-9c02-71e5eb12734f"
      },
      "outputs": [
        {
          "output_type": "execute_result",
          "data": {
            "text/plain": [
              "LogisticRegression(multi_class='ovr', solver='sag')"
            ]
          },
          "metadata": {},
          "execution_count": 58
        }
      ],
      "source": [
        "from sklearn.linear_model import LogisticRegression as LR\n",
        "lr_model=LR(solver='sag',multi_class='ovr')\n",
        "lr_model.fit(X_train,y_train)"
      ]
    },
    {
      "cell_type": "code",
      "execution_count": 59,
      "metadata": {
        "colab": {
          "base_uri": "https://localhost:8080/"
        },
        "id": "3aCfc3-XGGm_",
        "outputId": "dde269cd-2f6c-4881-bf55-bad32c2864a1"
      },
      "outputs": [
        {
          "output_type": "stream",
          "name": "stdout",
          "text": [
            "Accuracy: 71.69%\n"
          ]
        }
      ],
      "source": [
        "y_pred_lr=lr_model.predict(X_test)\n",
        "accuracy_lr = accuracy_score(y_test, y_pred_lr)\n",
        "print(\"Accuracy: %.2f%%\" % (accuracy_lr * 100.0))"
      ]
    },
    {
      "cell_type": "markdown",
      "metadata": {
        "id": "be86q9N7hpLF"
      },
      "source": [
        "### **Le's try hyperparameter tuning using search algorithms like:**\n",
        "\n",
        "* **GridSearchCV**\n",
        "* **RandomSearchCV**\n",
        "* **BayesianSearchCV**"
      ]
    },
    {
      "cell_type": "code",
      "execution_count": 60,
      "metadata": {
        "id": "SpCHmHSuhj82"
      },
      "outputs": [],
      "source": [
        "lr = LR(solver='lbfgs',multi_class='ovr')\n",
        "param_dict_lr = {\n",
        "    'C' : [1e-6,1e-5,1e-4,1e-3,1e-2,1e-1,1,10,100,1e-3,1e+4,1e+5,1e+6]\n",
        "}"
      ]
    },
    {
      "cell_type": "markdown",
      "metadata": {
        "id": "ZVI_wp2ghu8R"
      },
      "source": [
        "* **Applying GridSearchCV**"
      ]
    },
    {
      "cell_type": "code",
      "execution_count": 61,
      "metadata": {
        "colab": {
          "base_uri": "https://localhost:8080/"
        },
        "id": "Nwr-CdgnhxYc",
        "outputId": "05dc65a8-9036-476e-ba65-fe960176caa4"
      },
      "outputs": [
        {
          "output_type": "stream",
          "name": "stdout",
          "text": [
            "Fitting 5 folds for each of 13 candidates, totalling 65 fits\n",
            "[CV] END ............................................C=1e-06; total time=   0.4s\n",
            "[CV] END ............................................C=1e-06; total time=   0.4s\n",
            "[CV] END ............................................C=1e-06; total time=   0.4s\n",
            "[CV] END ............................................C=1e-06; total time=   0.4s\n",
            "[CV] END ............................................C=1e-06; total time=   0.4s\n",
            "[CV] END ............................................C=1e-05; total time=   0.3s\n",
            "[CV] END ............................................C=1e-05; total time=   0.3s\n",
            "[CV] END ............................................C=1e-05; total time=   0.3s\n",
            "[CV] END ............................................C=1e-05; total time=   0.3s\n",
            "[CV] END ............................................C=1e-05; total time=   0.3s\n",
            "[CV] END ...........................................C=0.0001; total time=   0.3s\n",
            "[CV] END ...........................................C=0.0001; total time=   0.3s\n",
            "[CV] END ...........................................C=0.0001; total time=   0.3s\n",
            "[CV] END ...........................................C=0.0001; total time=   0.3s\n",
            "[CV] END ...........................................C=0.0001; total time=   0.3s\n",
            "[CV] END ............................................C=0.001; total time=   0.3s\n",
            "[CV] END ............................................C=0.001; total time=   0.4s\n",
            "[CV] END ............................................C=0.001; total time=   0.3s\n",
            "[CV] END ............................................C=0.001; total time=   0.4s\n",
            "[CV] END ............................................C=0.001; total time=   0.4s\n",
            "[CV] END .............................................C=0.01; total time=   0.4s\n",
            "[CV] END .............................................C=0.01; total time=   0.4s\n",
            "[CV] END .............................................C=0.01; total time=   0.4s\n",
            "[CV] END .............................................C=0.01; total time=   0.4s\n",
            "[CV] END .............................................C=0.01; total time=   0.4s\n",
            "[CV] END ..............................................C=0.1; total time=   0.4s\n",
            "[CV] END ..............................................C=0.1; total time=   0.4s\n",
            "[CV] END ..............................................C=0.1; total time=   0.4s\n",
            "[CV] END ..............................................C=0.1; total time=   0.4s\n",
            "[CV] END ..............................................C=0.1; total time=   0.4s\n",
            "[CV] END ................................................C=1; total time=   0.4s\n",
            "[CV] END ................................................C=1; total time=   0.4s\n",
            "[CV] END ................................................C=1; total time=   0.4s\n",
            "[CV] END ................................................C=1; total time=   0.4s\n",
            "[CV] END ................................................C=1; total time=   0.4s\n",
            "[CV] END ...............................................C=10; total time=   0.4s\n",
            "[CV] END ...............................................C=10; total time=   0.4s\n",
            "[CV] END ...............................................C=10; total time=   0.4s\n",
            "[CV] END ...............................................C=10; total time=   0.4s\n",
            "[CV] END ...............................................C=10; total time=   0.4s\n",
            "[CV] END ..............................................C=100; total time=   0.4s\n",
            "[CV] END ..............................................C=100; total time=   0.4s\n",
            "[CV] END ..............................................C=100; total time=   0.4s\n",
            "[CV] END ..............................................C=100; total time=   0.4s\n",
            "[CV] END ..............................................C=100; total time=   0.4s\n",
            "[CV] END ............................................C=0.001; total time=   0.3s\n",
            "[CV] END ............................................C=0.001; total time=   0.3s\n",
            "[CV] END ............................................C=0.001; total time=   0.3s\n",
            "[CV] END ............................................C=0.001; total time=   0.3s\n",
            "[CV] END ............................................C=0.001; total time=   0.3s\n",
            "[CV] END ..........................................C=10000.0; total time=   0.4s\n",
            "[CV] END ..........................................C=10000.0; total time=   0.4s\n",
            "[CV] END ..........................................C=10000.0; total time=   0.4s\n",
            "[CV] END ..........................................C=10000.0; total time=   0.4s\n",
            "[CV] END ..........................................C=10000.0; total time=   0.4s\n",
            "[CV] END .........................................C=100000.0; total time=   0.4s\n",
            "[CV] END .........................................C=100000.0; total time=   0.4s\n",
            "[CV] END .........................................C=100000.0; total time=   0.4s\n",
            "[CV] END .........................................C=100000.0; total time=   0.4s\n",
            "[CV] END .........................................C=100000.0; total time=   0.5s\n",
            "[CV] END ........................................C=1000000.0; total time=   0.4s\n",
            "[CV] END ........................................C=1000000.0; total time=   0.4s\n",
            "[CV] END ........................................C=1000000.0; total time=   0.4s\n",
            "[CV] END ........................................C=1000000.0; total time=   0.4s\n",
            "[CV] END ........................................C=1000000.0; total time=   0.4s\n"
          ]
        },
        {
          "output_type": "execute_result",
          "data": {
            "text/plain": [
              "GridSearchCV(cv=5, estimator=LogisticRegression(multi_class='ovr'),\n",
              "             param_grid={'C': [1e-06, 1e-05, 0.0001, 0.001, 0.01, 0.1, 1, 10,\n",
              "                               100, 0.001, 10000.0, 100000.0, 1000000.0]},\n",
              "             scoring='accuracy', verbose=2)"
            ]
          },
          "metadata": {},
          "execution_count": 61
        }
      ],
      "source": [
        "lr_grid = GridSearchCV(estimator=lr,\n",
        "                       param_grid = param_dict_lr,\n",
        "                       cv = 5, verbose=2, scoring='accuracy')\n",
        "#fitting the model\n",
        "lr_grid.fit(X_train,y_train)"
      ]
    },
    {
      "cell_type": "code",
      "execution_count": 62,
      "metadata": {
        "colab": {
          "base_uri": "https://localhost:8080/"
        },
        "id": "SrQxRXaQintm",
        "outputId": "b8fa08bd-888b-400b-b638-136baccf0598"
      },
      "outputs": [
        {
          "output_type": "stream",
          "name": "stdout",
          "text": [
            "Train Accuracy score :  72.00432342794534\n",
            "Test Accuracy score :  71.8118420468174\n",
            "\n",
            "               precision    recall  f1-score   support\n",
            "\n",
            "           1       0.71      0.61      0.66      4693\n",
            "           2       0.70      0.83      0.76      9718\n",
            "           3       0.75      0.64      0.69      8102\n",
            "\n",
            "    accuracy                           0.72     22513\n",
            "   macro avg       0.72      0.70      0.70     22513\n",
            "weighted avg       0.72      0.72      0.71     22513\n",
            "\n"
          ]
        }
      ],
      "source": [
        "#predicting the output\n",
        "y_pred_tr=lr_grid.predict(X_train)\n",
        "y_pred_te=lr_grid.predict(X_test)\n",
        "\n",
        "print('Train Accuracy score : ', accuracy_score(y_train, y_pred_tr)*100)\n",
        "print('Test Accuracy score : ', accuracy_score(y_test,y_pred_te)*100)\n",
        "print('\\n', classification_report(y_test, y_pred_te))"
      ]
    },
    {
      "cell_type": "code",
      "execution_count": 63,
      "metadata": {
        "colab": {
          "base_uri": "https://localhost:8080/"
        },
        "id": "ZAEUq_7ji1a8",
        "outputId": "162fa774-717b-461b-ff45-67a1bb6eac77"
      },
      "outputs": [
        {
          "output_type": "execute_result",
          "data": {
            "text/plain": [
              "array([[2883, 1262,  548],\n",
              "       [ 420, 8065, 1233],\n",
              "       [ 741, 2142, 5219]])"
            ]
          },
          "metadata": {},
          "execution_count": 63
        }
      ],
      "source": [
        "cm=confusion_matrix(y_test,y_pred_te)\n",
        "cm"
      ]
    },
    {
      "cell_type": "markdown",
      "metadata": {
        "id": "7z-Rw3LRjAbv"
      },
      "source": [
        "* Printing best parameters after tuning"
      ]
    },
    {
      "cell_type": "code",
      "execution_count": 64,
      "metadata": {
        "colab": {
          "base_uri": "https://localhost:8080/"
        },
        "id": "cZrwscO9i_s-",
        "outputId": "9b4ee0a4-65c8-4866-dafe-4f1b927f32ac"
      },
      "outputs": [
        {
          "output_type": "stream",
          "name": "stdout",
          "text": [
            "{'C': 0.001}\n"
          ]
        }
      ],
      "source": [
        "print(lr_grid.best_params_)"
      ]
    },
    {
      "cell_type": "markdown",
      "metadata": {
        "id": "_elD-QvujJVG"
      },
      "source": [
        "* **Applying RandomSearchCV**"
      ]
    },
    {
      "cell_type": "code",
      "execution_count": 65,
      "metadata": {
        "colab": {
          "base_uri": "https://localhost:8080/"
        },
        "id": "9hRxCMocjIP3",
        "outputId": "633169f1-1f8d-4b3c-9d00-a419adb1fa10"
      },
      "outputs": [
        {
          "output_type": "stream",
          "name": "stdout",
          "text": [
            "Fitting 5 folds for each of 10 candidates, totalling 50 fits\n",
            "[CV] END ............................................C=1e-05; total time=   0.3s\n",
            "[CV] END ............................................C=1e-05; total time=   0.3s\n",
            "[CV] END ............................................C=1e-05; total time=   0.3s\n",
            "[CV] END ............................................C=1e-05; total time=   0.3s\n",
            "[CV] END ............................................C=1e-05; total time=   0.3s\n",
            "[CV] END .............................................C=0.01; total time=   0.4s\n",
            "[CV] END .............................................C=0.01; total time=   0.4s\n",
            "[CV] END .............................................C=0.01; total time=   0.4s\n",
            "[CV] END .............................................C=0.01; total time=   0.4s\n",
            "[CV] END .............................................C=0.01; total time=   0.4s\n",
            "[CV] END ............................................C=0.001; total time=   0.4s\n",
            "[CV] END ............................................C=0.001; total time=   0.4s\n",
            "[CV] END ............................................C=0.001; total time=   0.4s\n",
            "[CV] END ............................................C=0.001; total time=   0.3s\n",
            "[CV] END ............................................C=0.001; total time=   0.4s\n",
            "[CV] END ..............................................C=0.1; total time=   0.4s\n",
            "[CV] END ..............................................C=0.1; total time=   0.4s\n",
            "[CV] END ..............................................C=0.1; total time=   0.4s\n",
            "[CV] END ..............................................C=0.1; total time=   0.4s\n",
            "[CV] END ..............................................C=0.1; total time=   0.4s\n",
            "[CV] END ........................................C=1000000.0; total time=   0.4s\n",
            "[CV] END ........................................C=1000000.0; total time=   0.4s\n",
            "[CV] END ........................................C=1000000.0; total time=   0.4s\n",
            "[CV] END ........................................C=1000000.0; total time=   0.4s\n",
            "[CV] END ........................................C=1000000.0; total time=   0.4s\n",
            "[CV] END ................................................C=1; total time=   0.4s\n",
            "[CV] END ................................................C=1; total time=   0.4s\n",
            "[CV] END ................................................C=1; total time=   0.4s\n",
            "[CV] END ................................................C=1; total time=   0.4s\n",
            "[CV] END ................................................C=1; total time=   0.5s\n",
            "[CV] END ..............................................C=100; total time=   0.5s\n",
            "[CV] END ..............................................C=100; total time=   0.5s\n",
            "[CV] END ..............................................C=100; total time=   0.4s\n",
            "[CV] END ..............................................C=100; total time=   0.4s\n",
            "[CV] END ..............................................C=100; total time=   0.4s\n",
            "[CV] END .........................................C=100000.0; total time=   0.4s\n",
            "[CV] END .........................................C=100000.0; total time=   0.4s\n",
            "[CV] END .........................................C=100000.0; total time=   0.4s\n",
            "[CV] END .........................................C=100000.0; total time=   0.4s\n",
            "[CV] END .........................................C=100000.0; total time=   0.4s\n",
            "[CV] END ...........................................C=0.0001; total time=   0.3s\n",
            "[CV] END ...........................................C=0.0001; total time=   0.3s\n",
            "[CV] END ...........................................C=0.0001; total time=   0.3s\n",
            "[CV] END ...........................................C=0.0001; total time=   0.3s\n",
            "[CV] END ...........................................C=0.0001; total time=   0.3s\n",
            "[CV] END ...............................................C=10; total time=   0.4s\n",
            "[CV] END ...............................................C=10; total time=   0.4s\n",
            "[CV] END ...............................................C=10; total time=   0.4s\n",
            "[CV] END ...............................................C=10; total time=   0.4s\n",
            "[CV] END ...............................................C=10; total time=   0.4s\n"
          ]
        },
        {
          "output_type": "execute_result",
          "data": {
            "text/plain": [
              "RandomizedSearchCV(cv=5, estimator=LogisticRegression(multi_class='ovr'),\n",
              "                   param_distributions={'C': [1e-06, 1e-05, 0.0001, 0.001, 0.01,\n",
              "                                              0.1, 1, 10, 100, 0.001, 10000.0,\n",
              "                                              100000.0, 1000000.0]},\n",
              "                   verbose=2)"
            ]
          },
          "metadata": {},
          "execution_count": 65
        }
      ],
      "source": [
        "lr_random = RandomizedSearchCV(estimator=lr,\n",
        "                       param_distributions = param_dict_lr,\n",
        "                       cv = 5, verbose=2)\n",
        "\n",
        "lr_random.fit(X_train,y_train)"
      ]
    },
    {
      "cell_type": "code",
      "execution_count": 66,
      "metadata": {
        "colab": {
          "base_uri": "https://localhost:8080/"
        },
        "id": "B-65CkWnjP3f",
        "outputId": "92df162f-522a-4635-b401-4280ad584e74"
      },
      "outputs": [
        {
          "output_type": "stream",
          "name": "stdout",
          "text": [
            "Train Accuracy score :  72.00432342794534\n",
            "Test Accuracy score :  71.8118420468174\n",
            "\n",
            "               precision    recall  f1-score   support\n",
            "\n",
            "           1       0.71      0.61      0.66      4693\n",
            "           2       0.70      0.83      0.76      9718\n",
            "           3       0.75      0.64      0.69      8102\n",
            "\n",
            "    accuracy                           0.72     22513\n",
            "   macro avg       0.72      0.70      0.70     22513\n",
            "weighted avg       0.72      0.72      0.71     22513\n",
            "\n"
          ]
        }
      ],
      "source": [
        "y_pred_tr=lr_random.predict(X_train)\n",
        "y_pred_te=lr_random.predict(X_test)\n",
        "print('Train Accuracy score : ', accuracy_score(y_train, y_pred_tr)*100)\n",
        "print('Test Accuracy score : ', accuracy_score(y_test,y_pred_te)*100)\n",
        "print('\\n', classification_report(y_test, y_pred_te))"
      ]
    },
    {
      "cell_type": "code",
      "execution_count": 67,
      "metadata": {
        "colab": {
          "base_uri": "https://localhost:8080/"
        },
        "id": "vfirA5QxjckS",
        "outputId": "9268b601-ecf8-402d-e3e2-2d955980474b"
      },
      "outputs": [
        {
          "output_type": "execute_result",
          "data": {
            "text/plain": [
              "array([[2883, 1262,  548],\n",
              "       [ 420, 8065, 1233],\n",
              "       [ 741, 2142, 5219]])"
            ]
          },
          "metadata": {},
          "execution_count": 67
        }
      ],
      "source": [
        "cm=confusion_matrix(y_test,y_pred_te)\n",
        "cm"
      ]
    },
    {
      "cell_type": "markdown",
      "metadata": {
        "id": "Ueluo-0YjgcJ"
      },
      "source": [
        "* Printing best parameters after tuning"
      ]
    },
    {
      "cell_type": "code",
      "execution_count": 68,
      "metadata": {
        "colab": {
          "base_uri": "https://localhost:8080/"
        },
        "id": "_pGtjfdHjiZh",
        "outputId": "6b01ccfd-7054-4a12-faad-4affba57bb67"
      },
      "outputs": [
        {
          "output_type": "stream",
          "name": "stdout",
          "text": [
            "{'C': 0.001}\n"
          ]
        }
      ],
      "source": [
        "# print best parameter after tuning\n",
        "print(lr_random.best_params_)"
      ]
    },
    {
      "cell_type": "markdown",
      "metadata": {
        "id": "ZREW_owzjle5"
      },
      "source": [
        "* **BayesianSearchCV**"
      ]
    },
    {
      "cell_type": "code",
      "execution_count": 69,
      "metadata": {
        "colab": {
          "base_uri": "https://localhost:8080/"
        },
        "id": "w9vkUF3bjnX7",
        "outputId": "f4ed19f4-6b61-4e40-e8a5-6eb62cbdaa37"
      },
      "outputs": [
        {
          "output_type": "stream",
          "name": "stdout",
          "text": [
            "Fitting 5 folds for each of 1 candidates, totalling 5 fits\n",
            "[CV] END ................................C=8972.292669615654; total time=   0.4s\n",
            "[CV] END ................................C=8972.292669615654; total time=   0.5s\n",
            "[CV] END ................................C=8972.292669615654; total time=   0.4s\n",
            "[CV] END ................................C=8972.292669615654; total time=   0.4s\n",
            "[CV] END ................................C=8972.292669615654; total time=   0.5s\n",
            "Fitting 5 folds for each of 1 candidates, totalling 5 fits\n",
            "[CV] END ..............................C=0.07895874329128637; total time=   0.4s\n",
            "[CV] END ..............................C=0.07895874329128637; total time=   0.4s\n",
            "[CV] END ..............................C=0.07895874329128637; total time=   0.4s\n",
            "[CV] END ..............................C=0.07895874329128637; total time=   0.4s\n",
            "[CV] END ..............................C=0.07895874329128637; total time=   0.4s\n",
            "Fitting 5 folds for each of 1 candidates, totalling 5 fits\n",
            "[CV] END ............................C=0.0020167642051076625; total time=   0.4s\n",
            "[CV] END ............................C=0.0020167642051076625; total time=   0.4s\n",
            "[CV] END ............................C=0.0020167642051076625; total time=   0.4s\n",
            "[CV] END ............................C=0.0020167642051076625; total time=   0.4s\n",
            "[CV] END ............................C=0.0020167642051076625; total time=   0.4s\n",
            "Fitting 5 folds for each of 1 candidates, totalling 5 fits\n",
            "[CV] END ...........................C=2.0128452666717273e-06; total time=   0.3s\n",
            "[CV] END ...........................C=2.0128452666717273e-06; total time=   0.4s\n",
            "[CV] END ...........................C=2.0128452666717273e-06; total time=   0.4s\n",
            "[CV] END ...........................C=2.0128452666717273e-06; total time=   0.4s\n",
            "[CV] END ...........................C=2.0128452666717273e-06; total time=   0.4s\n",
            "Fitting 5 folds for each of 1 candidates, totalling 5 fits\n",
            "[CV] END ................................C=93.65950595291284; total time=   0.4s\n",
            "[CV] END ................................C=93.65950595291284; total time=   0.5s\n",
            "[CV] END ................................C=93.65950595291284; total time=   0.4s\n",
            "[CV] END ................................C=93.65950595291284; total time=   0.4s\n",
            "[CV] END ................................C=93.65950595291284; total time=   0.4s\n",
            "Fitting 5 folds for each of 1 candidates, totalling 5 fits\n",
            "[CV] END .............................C=0.002146434098111087; total time=   0.4s\n",
            "[CV] END .............................C=0.002146434098111087; total time=   0.4s\n",
            "[CV] END .............................C=0.002146434098111087; total time=   0.4s\n",
            "[CV] END .............................C=0.002146434098111087; total time=   0.4s\n",
            "[CV] END .............................C=0.002146434098111087; total time=   0.4s\n",
            "Fitting 5 folds for each of 1 candidates, totalling 5 fits\n",
            "[CV] END ...............................C=50.329467552442026; total time=   0.4s\n",
            "[CV] END ...............................C=50.329467552442026; total time=   0.4s\n",
            "[CV] END ...............................C=50.329467552442026; total time=   0.4s\n",
            "[CV] END ...............................C=50.329467552442026; total time=   0.4s\n",
            "[CV] END ...............................C=50.329467552442026; total time=   0.4s\n",
            "Fitting 5 folds for each of 1 candidates, totalling 5 fits\n",
            "[CV] END .............................C=0.023453392283070612; total time=   0.4s\n",
            "[CV] END .............................C=0.023453392283070612; total time=   0.4s\n",
            "[CV] END .............................C=0.023453392283070612; total time=   0.4s\n",
            "[CV] END .............................C=0.023453392283070612; total time=   0.4s\n",
            "[CV] END .............................C=0.023453392283070612; total time=   0.4s\n",
            "Fitting 5 folds for each of 1 candidates, totalling 5 fits\n",
            "[CV] END ............................C=4.089182026219582e-06; total time=   0.3s\n",
            "[CV] END ............................C=4.089182026219582e-06; total time=   0.3s\n",
            "[CV] END ............................C=4.089182026219582e-06; total time=   0.3s\n",
            "[CV] END ............................C=4.089182026219582e-06; total time=   0.3s\n",
            "[CV] END ............................C=4.089182026219582e-06; total time=   0.4s\n",
            "Fitting 5 folds for each of 1 candidates, totalling 5 fits\n",
            "[CV] END ................................C=0.797946071931395; total time=   1.2s\n",
            "[CV] END ................................C=0.797946071931395; total time=   0.4s\n",
            "[CV] END ................................C=0.797946071931395; total time=   0.4s\n",
            "[CV] END ................................C=0.797946071931395; total time=   0.4s\n",
            "[CV] END ................................C=0.797946071931395; total time=   0.4s\n",
            "Fitting 5 folds for each of 1 candidates, totalling 5 fits\n",
            "[CV] END ........................................C=1000000.0; total time=   0.4s\n",
            "[CV] END ........................................C=1000000.0; total time=   0.4s\n",
            "[CV] END ........................................C=1000000.0; total time=   0.4s\n",
            "[CV] END ........................................C=1000000.0; total time=   0.4s\n",
            "[CV] END ........................................C=1000000.0; total time=   0.4s\n",
            "Fitting 5 folds for each of 1 candidates, totalling 5 fits\n",
            "[CV] END ................................C=113054.6558785483; total time=   0.4s\n",
            "[CV] END ................................C=113054.6558785483; total time=   0.4s\n",
            "[CV] END ................................C=113054.6558785483; total time=   0.4s\n",
            "[CV] END ................................C=113054.6558785483; total time=   0.4s\n",
            "[CV] END ................................C=113054.6558785483; total time=   0.4s\n",
            "Fitting 5 folds for each of 1 candidates, totalling 5 fits\n",
            "[CV] END ................................C=1113.841628665451; total time=   0.4s\n",
            "[CV] END ................................C=1113.841628665451; total time=   0.4s\n",
            "[CV] END ................................C=1113.841628665451; total time=   0.4s\n",
            "[CV] END ................................C=1113.841628665451; total time=   0.4s\n",
            "[CV] END ................................C=1113.841628665451; total time=   0.4s\n",
            "Fitting 5 folds for each of 1 candidates, totalling 5 fits\n",
            "[CV] END ................................C=5.585706781824204; total time=   0.4s\n",
            "[CV] END ................................C=5.585706781824204; total time=   0.4s\n",
            "[CV] END ................................C=5.585706781824204; total time=   0.4s\n",
            "[CV] END ................................C=5.585706781824204; total time=   0.4s\n",
            "[CV] END ................................C=5.585706781824204; total time=   0.4s\n",
            "Fitting 5 folds for each of 1 candidates, totalling 5 fits\n",
            "[CV] END .............................C=0.005354814501564561; total time=   0.4s\n",
            "[CV] END .............................C=0.005354814501564561; total time=   0.4s\n",
            "[CV] END .............................C=0.005354814501564561; total time=   0.4s\n",
            "[CV] END .............................C=0.005354814501564561; total time=   0.4s\n",
            "[CV] END .............................C=0.005354814501564561; total time=   0.4s\n",
            "Fitting 5 folds for each of 1 candidates, totalling 5 fits\n",
            "[CV] END ................................C=372539.0735037238; total time=   0.4s\n",
            "[CV] END ................................C=372539.0735037238; total time=   0.4s\n",
            "[CV] END ................................C=372539.0735037238; total time=   0.4s\n",
            "[CV] END ................................C=372539.0735037238; total time=   0.4s\n",
            "[CV] END ................................C=372539.0735037238; total time=   0.4s\n",
            "Fitting 5 folds for each of 1 candidates, totalling 5 fits\n",
            "[CV] END ................................C=29715.83359998613; total time=   0.4s\n",
            "[CV] END ................................C=29715.83359998613; total time=   0.4s\n",
            "[CV] END ................................C=29715.83359998613; total time=   0.4s\n",
            "[CV] END ................................C=29715.83359998613; total time=   0.4s\n",
            "[CV] END ................................C=29715.83359998613; total time=   0.4s\n",
            "Fitting 5 folds for each of 1 candidates, totalling 5 fits\n",
            "[CV] END ................................C=357.3620240203972; total time=   0.4s\n",
            "[CV] END ................................C=357.3620240203972; total time=   0.4s\n",
            "[CV] END ................................C=357.3620240203972; total time=   0.4s\n",
            "[CV] END ................................C=357.3620240203972; total time=   0.4s\n",
            "[CV] END ................................C=357.3620240203972; total time=   0.4s\n",
            "Fitting 5 folds for each of 1 candidates, totalling 5 fits\n",
            "[CV] END ............................C=0.0006038147256249709; total time=   0.4s\n",
            "[CV] END ............................C=0.0006038147256249709; total time=   0.3s\n",
            "[CV] END ............................C=0.0006038147256249709; total time=   0.3s\n",
            "[CV] END ............................C=0.0006038147256249709; total time=   0.3s\n",
            "[CV] END ............................C=0.0006038147256249709; total time=   0.3s\n",
            "Fitting 5 folds for each of 1 candidates, totalling 5 fits\n",
            "[CV] END ...............................C=0.2639049120359702; total time=   0.4s\n",
            "[CV] END ...............................C=0.2639049120359702; total time=   0.4s\n",
            "[CV] END ...............................C=0.2639049120359702; total time=   0.4s\n",
            "[CV] END ...............................C=0.2639049120359702; total time=   0.4s\n",
            "[CV] END ...............................C=0.2639049120359702; total time=   0.4s\n",
            "Fitting 5 folds for each of 1 candidates, totalling 5 fits\n",
            "[CV] END ...............................C=15.230830246077064; total time=   0.4s\n",
            "[CV] END ...............................C=15.230830246077064; total time=   0.4s\n",
            "[CV] END ...............................C=15.230830246077064; total time=   0.4s\n",
            "[CV] END ...............................C=15.230830246077064; total time=   0.4s\n",
            "[CV] END ...............................C=15.230830246077064; total time=   0.4s\n",
            "Fitting 5 folds for each of 1 candidates, totalling 5 fits\n",
            "[CV] END ...............................C=3183.9832923812387; total time=   0.4s\n",
            "[CV] END ...............................C=3183.9832923812387; total time=   0.4s\n",
            "[CV] END ...............................C=3183.9832923812387; total time=   0.4s\n",
            "[CV] END ...............................C=3183.9832923812387; total time=   0.5s\n",
            "[CV] END ...............................C=3183.9832923812387; total time=   0.4s\n",
            "Fitting 5 folds for each of 1 candidates, totalling 5 fits\n",
            "[CV] END ...............................C=2.0891077076551086; total time=   0.4s\n",
            "[CV] END ...............................C=2.0891077076551086; total time=   0.4s\n",
            "[CV] END ...............................C=2.0891077076551086; total time=   0.4s\n",
            "[CV] END ...............................C=2.0891077076551086; total time=   0.4s\n",
            "[CV] END ...............................C=2.0891077076551086; total time=   0.4s\n",
            "Fitting 5 folds for each of 1 candidates, totalling 5 fits\n",
            "[CV] END ...........................C=0.00023648813707103923; total time=   0.3s\n",
            "[CV] END ...........................C=0.00023648813707103923; total time=   0.3s\n",
            "[CV] END ...........................C=0.00023648813707103923; total time=   0.3s\n",
            "[CV] END ...........................C=0.00023648813707103923; total time=   0.3s\n",
            "[CV] END ...........................C=0.00023648813707103923; total time=   0.3s\n",
            "Fitting 5 folds for each of 1 candidates, totalling 5 fits\n",
            "[CV] END .............................C=0.011445044821962905; total time=   0.4s\n",
            "[CV] END .............................C=0.011445044821962905; total time=   0.4s\n",
            "[CV] END .............................C=0.011445044821962905; total time=   0.4s\n",
            "[CV] END .............................C=0.011445044821962905; total time=   0.4s\n",
            "[CV] END .............................C=0.011445044821962905; total time=   0.4s\n",
            "Fitting 5 folds for each of 1 candidates, totalling 5 fits\n",
            "[CV] END ................................C=58095.67024525811; total time=   0.4s\n",
            "[CV] END ................................C=58095.67024525811; total time=   0.4s\n",
            "[CV] END ................................C=58095.67024525811; total time=   0.4s\n",
            "[CV] END ................................C=58095.67024525811; total time=   0.4s\n",
            "[CV] END ................................C=58095.67024525811; total time=   0.4s\n",
            "Fitting 5 folds for each of 1 candidates, totalling 5 fits\n",
            "[CV] END ............................C=9.104150388752998e-05; total time=   0.3s\n",
            "[CV] END ............................C=9.104150388752998e-05; total time=   0.3s\n",
            "[CV] END ............................C=9.104150388752998e-05; total time=   0.3s\n",
            "[CV] END ............................C=9.104150388752998e-05; total time=   0.3s\n",
            "[CV] END ............................C=9.104150388752998e-05; total time=   0.3s\n",
            "Fitting 5 folds for each of 1 candidates, totalling 5 fits\n",
            "[CV] END ................................C=189.0211018017933; total time=   0.4s\n",
            "[CV] END ................................C=189.0211018017933; total time=   0.4s\n",
            "[CV] END ................................C=189.0211018017933; total time=   0.4s\n",
            "[CV] END ................................C=189.0211018017933; total time=   0.4s\n",
            "[CV] END ................................C=189.0211018017933; total time=   0.4s\n",
            "Fitting 5 folds for each of 1 candidates, totalling 5 fits\n",
            "[CV] END ...............................C=0.1437333492018325; total time=   0.4s\n",
            "[CV] END ...............................C=0.1437333492018325; total time=   0.4s\n",
            "[CV] END ...............................C=0.1437333492018325; total time=   0.4s\n",
            "[CV] END ...............................C=0.1437333492018325; total time=   0.4s\n",
            "[CV] END ...............................C=0.1437333492018325; total time=   0.4s\n",
            "Fitting 5 folds for each of 1 candidates, totalling 5 fits\n",
            "[CV] END ................................C=644931.9337101814; total time=   0.4s\n",
            "[CV] END ................................C=644931.9337101814; total time=   0.4s\n",
            "[CV] END ................................C=644931.9337101814; total time=   0.4s\n",
            "[CV] END ................................C=644931.9337101814; total time=   0.4s\n",
            "[CV] END ................................C=644931.9337101814; total time=   0.4s\n",
            "Fitting 5 folds for each of 1 candidates, totalling 5 fits\n",
            "[CV] END ............................C=0.0003934213336138247; total time=   0.3s\n",
            "[CV] END ............................C=0.0003934213336138247; total time=   0.3s\n",
            "[CV] END ............................C=0.0003934213336138247; total time=   0.3s\n",
            "[CV] END ............................C=0.0003934213336138247; total time=   0.3s\n",
            "[CV] END ............................C=0.0003934213336138247; total time=   0.3s\n",
            "Fitting 5 folds for each of 1 candidates, totalling 5 fits\n",
            "[CV] END ............................C=0.0010564035584720746; total time=   0.3s\n",
            "[CV] END ............................C=0.0010564035584720746; total time=   0.4s\n",
            "[CV] END ............................C=0.0010564035584720746; total time=   0.3s\n",
            "[CV] END ............................C=0.0010564035584720746; total time=   0.3s\n",
            "[CV] END ............................C=0.0010564035584720746; total time=   0.4s\n"
          ]
        },
        {
          "output_type": "execute_result",
          "data": {
            "text/plain": [
              "BayesSearchCV(cv=5, estimator=LogisticRegression(multi_class='ovr'), n_iter=32,\n",
              "              scoring='accuracy',\n",
              "              search_spaces={'C': Real(low=1e-06, high=1000000.0, prior='log-uniform', transform='normalize')},\n",
              "              verbose=2)"
            ]
          },
          "metadata": {},
          "execution_count": 69
        }
      ],
      "source": [
        "lr_bayes = BayesSearchCV(estimator=lr,\n",
        "                       search_spaces = {'C' : Real(1e-6, 1e+6, prior='log-uniform') },\n",
        "                       cv = 5, verbose=2, scoring='accuracy', n_iter=32)\n",
        "\n",
        "lr_bayes.fit(X_train,y_train)"
      ]
    },
    {
      "cell_type": "code",
      "execution_count": 70,
      "metadata": {
        "colab": {
          "base_uri": "https://localhost:8080/"
        },
        "id": "hdS5q45DkBfs",
        "outputId": "d420ffa4-7ac2-43e4-d58a-dd4805445065"
      },
      "outputs": [
        {
          "output_type": "stream",
          "name": "stdout",
          "text": [
            "Train Accuracy score :  71.99395904588461\n",
            "Test Accuracy score :  71.80295829076535\n",
            "\n",
            "               precision    recall  f1-score   support\n",
            "\n",
            "           1       0.71      0.61      0.66      4693\n",
            "           2       0.70      0.83      0.76      9718\n",
            "           3       0.75      0.64      0.69      8102\n",
            "\n",
            "    accuracy                           0.72     22513\n",
            "   macro avg       0.72      0.70      0.70     22513\n",
            "weighted avg       0.72      0.72      0.71     22513\n",
            "\n"
          ]
        }
      ],
      "source": [
        "y_pred_tr=lr_bayes.predict(X_train)\n",
        "y_pred_te=lr_bayes.predict(X_test)\n",
        "print('Train Accuracy score : ', accuracy_score(y_train, y_pred_tr)*100)\n",
        "print('Test Accuracy score : ', accuracy_score(y_test,y_pred_te)*100)\n",
        "print('\\n', classification_report(y_test, y_pred_te))"
      ]
    },
    {
      "cell_type": "code",
      "execution_count": 71,
      "metadata": {
        "colab": {
          "base_uri": "https://localhost:8080/"
        },
        "id": "RPFRokYCkKKx",
        "outputId": "2ed5392d-4a84-49d3-d7bb-696d5cf9cca2"
      },
      "outputs": [
        {
          "output_type": "execute_result",
          "data": {
            "text/plain": [
              "array([[2886, 1262,  545],\n",
              "       [ 421, 8064, 1233],\n",
              "       [ 747, 2140, 5215]])"
            ]
          },
          "metadata": {},
          "execution_count": 71
        }
      ],
      "source": [
        "cm=confusion_matrix(y_test,y_pred_te)\n",
        "cm"
      ]
    },
    {
      "cell_type": "markdown",
      "metadata": {
        "id": "rWfCFpZXkN6w"
      },
      "source": [
        "* Printing best parameters after tuning"
      ]
    },
    {
      "cell_type": "code",
      "execution_count": 72,
      "metadata": {
        "colab": {
          "base_uri": "https://localhost:8080/"
        },
        "id": "-r0KA0UGkM8m",
        "outputId": "0e35e6d6-ea61-4f88-96da-a1642cea9709"
      },
      "outputs": [
        {
          "output_type": "stream",
          "name": "stdout",
          "text": [
            "OrderedDict([('C', 0.0010564035584720746)])\n"
          ]
        }
      ],
      "source": [
        "# print best parameter after tuning\n",
        "print(lr_bayes.best_params_)"
      ]
    },
    {
      "cell_type": "markdown",
      "metadata": {
        "id": "CFhWfCA0kRgy"
      },
      "source": [
        "##**Let's apply SVM Multiclass Classification**"
      ]
    },
    {
      "cell_type": "code",
      "execution_count": 73,
      "metadata": {
        "id": "AjAyiYjGkTZz"
      },
      "outputs": [],
      "source": [
        "from sklearn import svm\n",
        "from sklearn.linear_model import LogisticRegression\n",
        "from sklearn.ensemble import RandomForestClassifier \n",
        "from xgboost import XGBClassifier"
      ]
    },
    {
      "cell_type": "markdown",
      "metadata": {
        "id": "LxSGCBMEkbsb"
      },
      "source": [
        "**1. Using Linear Kernel**"
      ]
    },
    {
      "cell_type": "code",
      "execution_count": 74,
      "metadata": {
        "colab": {
          "base_uri": "https://localhost:8080/"
        },
        "id": "JpyKvFXnkZLx",
        "outputId": "ea2af54d-588e-4c18-b70d-f317d2011bdd"
      },
      "outputs": [
        {
          "output_type": "execute_result",
          "data": {
            "text/plain": [
              "SVC(C=1, decision_function_shape='ovo', kernel='linear')"
            ]
          },
          "metadata": {},
          "execution_count": 74
        }
      ],
      "source": [
        "svm_model_linear = svm.SVC(kernel = 'linear', C = 1,decision_function_shape='ovo')\n",
        "svm_model_linear.fit(X_train, y_train)"
      ]
    },
    {
      "cell_type": "code",
      "execution_count": 75,
      "metadata": {
        "id": "KwppQuW5kj52"
      },
      "outputs": [],
      "source": [
        "linear_pred = svm_model_linear.predict(X_test)"
      ]
    },
    {
      "cell_type": "markdown",
      "metadata": {
        "id": "Mc9N_teNlDyk"
      },
      "source": [
        "**Evaluation metrics of linear_svm_model**"
      ]
    },
    {
      "cell_type": "code",
      "execution_count": 76,
      "metadata": {
        "colab": {
          "base_uri": "https://localhost:8080/"
        },
        "id": "c2N0IHEnlENh",
        "outputId": "ce2e957f-17cd-4ff0-b269-11476306c836"
      },
      "outputs": [
        {
          "output_type": "stream",
          "name": "stdout",
          "text": [
            "Accuracy (Linear Kernel):  71.40\n",
            "F1 (Linear Kernel):  70.91\n"
          ]
        }
      ],
      "source": [
        "#checking the accuracy of linear_svm_model\n",
        "linear_accuracy = accuracy_score(y_test, linear_pred)\n",
        "linear_f1 = f1_score(y_test, linear_pred, average='weighted')\n",
        "print('Accuracy (Linear Kernel): ', \"%.2f\" % (linear_accuracy*100))\n",
        "print('F1 (Linear Kernel): ', \"%.2f\" % (linear_f1*100))"
      ]
    },
    {
      "cell_type": "markdown",
      "metadata": {
        "id": "SjQGoc_RlL5p"
      },
      "source": [
        "**2. Using RBF kernel**"
      ]
    },
    {
      "cell_type": "code",
      "execution_count": 77,
      "metadata": {
        "colab": {
          "base_uri": "https://localhost:8080/"
        },
        "id": "dFKqOaW2lLmo",
        "outputId": "9e151482-c66f-4224-b65e-1e9658f9c1b3"
      },
      "outputs": [
        {
          "output_type": "execute_result",
          "data": {
            "text/plain": [
              "SVC(C=0.1, decision_function_shape='ovo', gamma=0.5)"
            ]
          },
          "metadata": {},
          "execution_count": 77
        }
      ],
      "source": [
        "svm_model_rbf = svm.SVC(kernel='rbf', gamma=0.5, C=0.1,decision_function_shape='ovo')\n",
        "svm_model_rbf.fit(X_train, y_train)"
      ]
    },
    {
      "cell_type": "code",
      "execution_count": 78,
      "metadata": {
        "id": "Kt2A2dQimn_E"
      },
      "outputs": [],
      "source": [
        "rbf_pred = svm_model_rbf.predict(X_test)"
      ]
    },
    {
      "cell_type": "markdown",
      "metadata": {
        "id": "H06eo7KmnYd3"
      },
      "source": [
        "**Evaluation metrics of rbf_svm_model**"
      ]
    },
    {
      "cell_type": "code",
      "execution_count": 79,
      "metadata": {
        "colab": {
          "base_uri": "https://localhost:8080/"
        },
        "id": "j3vFfdnYnV-f",
        "outputId": "d5c3ef5a-8437-462b-f4b7-dd61688a172a"
      },
      "outputs": [
        {
          "output_type": "stream",
          "name": "stdout",
          "text": [
            "Accuracy (RBF Kernel):  72.16\n",
            "F1 (RBF Kernel):  71.88\n"
          ]
        }
      ],
      "source": [
        "#checking the accuracy of rbf_svm_model\n",
        "rbf_accuracy = accuracy_score(y_test, rbf_pred)\n",
        "rbf_f1 = f1_score(y_test, rbf_pred, average='weighted')\n",
        "print('Accuracy (RBF Kernel): ', \"%.2f\" % (rbf_accuracy*100))\n",
        "print('F1 (RBF Kernel): ', \"%.2f\" % (rbf_f1*100)) "
      ]
    },
    {
      "cell_type": "markdown",
      "metadata": {
        "id": "eH1-n5M3nakj"
      },
      "source": [
        "**3. Using Poly Kernel**"
      ]
    },
    {
      "cell_type": "code",
      "execution_count": 80,
      "metadata": {
        "id": "Ln13r5sYnciZ",
        "colab": {
          "base_uri": "https://localhost:8080/"
        },
        "outputId": "6c812545-974b-41db-eeda-4e5aba8a2180"
      },
      "outputs": [
        {
          "output_type": "execute_result",
          "data": {
            "text/plain": [
              "SVC(C=1, decision_function_shape='ovo', kernel='poly')"
            ]
          },
          "metadata": {},
          "execution_count": 80
        }
      ],
      "source": [
        "svm_model_poly = svm.SVC(kernel='poly', degree=3, C=1,decision_function_shape='ovo')\n",
        "svm_model_poly.fit(X_train, y_train)"
      ]
    },
    {
      "cell_type": "code",
      "execution_count": 81,
      "metadata": {
        "id": "ivBCFlrooWqS"
      },
      "outputs": [],
      "source": [
        "poly_pred=svm_model_poly.predict(X_test)"
      ]
    },
    {
      "cell_type": "markdown",
      "metadata": {
        "id": "1hgAgk1Uoi-L"
      },
      "source": [
        "**Evaluation metrics of poly_svm_model**"
      ]
    },
    {
      "cell_type": "code",
      "execution_count": 82,
      "metadata": {
        "id": "kDQhnMtAolvp",
        "colab": {
          "base_uri": "https://localhost:8080/"
        },
        "outputId": "3785d9d7-805a-48c8-a4db-f2912295ea82"
      },
      "outputs": [
        {
          "output_type": "stream",
          "name": "stdout",
          "text": [
            "[[2866 1249  578]\n",
            " [ 421 7907 1390]\n",
            " [ 697 1965 5440]]\n"
          ]
        }
      ],
      "source": [
        "cm=confusion_matrix(y_test,poly_pred)\n",
        "print(cm)"
      ]
    },
    {
      "cell_type": "code",
      "execution_count": 83,
      "metadata": {
        "id": "IkcwdS3votIN",
        "colab": {
          "base_uri": "https://localhost:8080/"
        },
        "outputId": "a07f351f-1a6d-4337-d4fd-4750c77e5eed"
      },
      "outputs": [
        {
          "output_type": "stream",
          "name": "stdout",
          "text": [
            "Accuracy (Poly Kernel):  72.02\n",
            "F1 (Poly Kernel):  71.77\n",
            "\n",
            "               precision    recall  f1-score   support\n",
            "\n",
            "           1       0.72      0.61      0.66      4693\n",
            "           2       0.71      0.81      0.76      9718\n",
            "           3       0.73      0.67      0.70      8102\n",
            "\n",
            "    accuracy                           0.72     22513\n",
            "   macro avg       0.72      0.70      0.71     22513\n",
            "weighted avg       0.72      0.72      0.72     22513\n",
            "\n"
          ]
        }
      ],
      "source": [
        "#checking the accuracy of poly_svm_model\n",
        "poly_accuracy = accuracy_score(y_test, poly_pred)\n",
        "poly_f1 = f1_score(y_test, poly_pred, average='weighted')\n",
        "print('Accuracy (Poly Kernel): ', \"%.2f\" % (poly_accuracy*100))\n",
        "print('F1 (Poly Kernel): ', \"%.2f\" % (poly_f1*100))\n",
        "print('\\n', classification_report(y_test, poly_pred))"
      ]
    },
    {
      "cell_type": "code",
      "execution_count": 84,
      "metadata": {
        "id": "R8gIMpntqGDE",
        "colab": {
          "base_uri": "https://localhost:8080/"
        },
        "outputId": "b1f87ed3-6638-4627-ff33-ae8721f96fad"
      },
      "outputs": [
        {
          "output_type": "stream",
          "name": "stdout",
          "text": [
            "Accuracy (Poly Kernel):  72.02\n",
            "F1 (Poly Kernel):  71.77\n",
            "\n",
            "               precision    recall  f1-score   support\n",
            "\n",
            "           1       0.72      0.61      0.66      4693\n",
            "           2       0.71      0.81      0.76      9718\n",
            "           3       0.73      0.67      0.70      8102\n",
            "\n",
            "    accuracy                           0.72     22513\n",
            "   macro avg       0.72      0.70      0.71     22513\n",
            "weighted avg       0.72      0.72      0.72     22513\n",
            "\n"
          ]
        }
      ],
      "source": [
        "#checking the accuracy of poly_svm_model\n",
        "poly_accuracy = accuracy_score(y_test, poly_pred)\n",
        "poly_f1 = f1_score(y_test, poly_pred, average='weighted')\n",
        "print('Accuracy (Poly Kernel): ', \"%.2f\" % (poly_accuracy*100))\n",
        "print('F1 (Poly Kernel): ', \"%.2f\" % (poly_f1*100))\n",
        "print('\\n', classification_report(y_test, poly_pred)) "
      ]
    },
    {
      "cell_type": "markdown",
      "metadata": {
        "id": "a7f8oxmSqIhQ"
      },
      "source": [
        "##**Random Forest Classifier**"
      ]
    },
    {
      "cell_type": "code",
      "execution_count": 85,
      "metadata": {
        "id": "kRF_l4BFqJQc",
        "colab": {
          "base_uri": "https://localhost:8080/"
        },
        "outputId": "9a1b26ce-bebe-4f6c-c294-f418fb0cd43b"
      },
      "outputs": [
        {
          "output_type": "execute_result",
          "data": {
            "text/plain": [
              "RandomForestClassifier(criterion='entropy', max_depth=8, n_estimators=10,\n",
              "                       random_state=42)"
            ]
          },
          "metadata": {},
          "execution_count": 85
        }
      ],
      "source": [
        "classifier = RandomForestClassifier(n_estimators = 10,max_depth=8, criterion = 'entropy', random_state = 42)\n",
        "classifier.fit(X_train, y_train)"
      ]
    },
    {
      "cell_type": "code",
      "execution_count": 86,
      "metadata": {
        "id": "07aD1xRsqNHP",
        "colab": {
          "base_uri": "https://localhost:8080/"
        },
        "outputId": "b81f5ec9-e6c0-43b9-cab7-7567cf4932f0"
      },
      "outputs": [
        {
          "output_type": "execute_result",
          "data": {
            "text/plain": [
              "0.7272242704215343"
            ]
          },
          "metadata": {},
          "execution_count": 86
        }
      ],
      "source": [
        "#accuracy of train data\n",
        "y_pred_train = classifier.predict(X_train)\n",
        "accuracy = accuracy_score(y_train, y_pred_train)\n",
        "accuracy"
      ]
    },
    {
      "cell_type": "code",
      "execution_count": 87,
      "metadata": {
        "id": "RKVzAkCeqQkS",
        "colab": {
          "base_uri": "https://localhost:8080/"
        },
        "outputId": "d5260bcd-2713-4a72-dcf9-18ca777e4006"
      },
      "outputs": [
        {
          "output_type": "execute_result",
          "data": {
            "text/plain": [
              "0.719495402656243"
            ]
          },
          "metadata": {},
          "execution_count": 87
        }
      ],
      "source": [
        "#accuracy of test data\n",
        "y_pred = classifier.predict(X_test)\n",
        "accuracy = accuracy_score(y_test, y_pred)\n",
        "accuracy"
      ]
    },
    {
      "cell_type": "markdown",
      "metadata": {
        "id": "sq24XZvaqUa9"
      },
      "source": [
        "**The train and test accuracy of this random forset model is in the same range. So there is no chance of overfitting.**"
      ]
    },
    {
      "cell_type": "markdown",
      "metadata": {
        "id": "-T3q5vAkqZGO"
      },
      "source": [
        "###**Let's try some hyperparameter tuning in Random Forest Classifier model**"
      ]
    },
    {
      "cell_type": "code",
      "execution_count": 88,
      "metadata": {
        "id": "Fo3svWxaqUO1"
      },
      "outputs": [],
      "source": [
        "rf = RandomForestClassifier()"
      ]
    },
    {
      "cell_type": "code",
      "execution_count": 89,
      "metadata": {
        "id": "Ur8FExBMqcgm"
      },
      "outputs": [],
      "source": [
        "param_dict_rf = {\n",
        "    'max_depth': [4, 6, 8],\n",
        "    'min_samples_leaf': [40, 50],\n",
        "    'min_samples_split': [50, 100, 150],\n",
        "    'n_estimators': [50, 80, 100]\n",
        "  }"
      ]
    },
    {
      "cell_type": "markdown",
      "metadata": {
        "id": "EtaqUcsSqfVs"
      },
      "source": [
        "* **Applying Gridsearch cv**"
      ]
    },
    {
      "cell_type": "code",
      "execution_count": 90,
      "metadata": {
        "colab": {
          "base_uri": "https://localhost:8080/"
        },
        "id": "VrwDuYKPqhOh",
        "outputId": "b924e388-91ec-4193-ee0f-d7ba09cc7616"
      },
      "outputs": [
        {
          "output_type": "stream",
          "name": "stdout",
          "text": [
            "Fitting 5 folds for each of 54 candidates, totalling 270 fits\n",
            "[CV 1/5] END max_depth=4, min_samples_leaf=40, min_samples_split=50, n_estimators=50;, score=0.708 total time=   1.6s\n",
            "[CV 2/5] END max_depth=4, min_samples_leaf=40, min_samples_split=50, n_estimators=50;, score=0.706 total time=   1.7s\n",
            "[CV 3/5] END max_depth=4, min_samples_leaf=40, min_samples_split=50, n_estimators=50;, score=0.708 total time=   1.7s\n",
            "[CV 4/5] END max_depth=4, min_samples_leaf=40, min_samples_split=50, n_estimators=50;, score=0.703 total time=   1.7s\n",
            "[CV 5/5] END max_depth=4, min_samples_leaf=40, min_samples_split=50, n_estimators=50;, score=0.707 total time=   1.7s\n",
            "[CV 1/5] END max_depth=4, min_samples_leaf=40, min_samples_split=50, n_estimators=80;, score=0.708 total time=   2.6s\n",
            "[CV 2/5] END max_depth=4, min_samples_leaf=40, min_samples_split=50, n_estimators=80;, score=0.706 total time=   2.5s\n",
            "[CV 3/5] END max_depth=4, min_samples_leaf=40, min_samples_split=50, n_estimators=80;, score=0.705 total time=   2.6s\n",
            "[CV 4/5] END max_depth=4, min_samples_leaf=40, min_samples_split=50, n_estimators=80;, score=0.709 total time=   2.5s\n",
            "[CV 5/5] END max_depth=4, min_samples_leaf=40, min_samples_split=50, n_estimators=80;, score=0.706 total time=   2.6s\n",
            "[CV 1/5] END max_depth=4, min_samples_leaf=40, min_samples_split=50, n_estimators=100;, score=0.711 total time=   3.2s\n",
            "[CV 2/5] END max_depth=4, min_samples_leaf=40, min_samples_split=50, n_estimators=100;, score=0.705 total time=   3.3s\n",
            "[CV 3/5] END max_depth=4, min_samples_leaf=40, min_samples_split=50, n_estimators=100;, score=0.715 total time=   3.4s\n",
            "[CV 4/5] END max_depth=4, min_samples_leaf=40, min_samples_split=50, n_estimators=100;, score=0.700 total time=   3.3s\n",
            "[CV 5/5] END max_depth=4, min_samples_leaf=40, min_samples_split=50, n_estimators=100;, score=0.709 total time=   3.3s\n",
            "[CV 1/5] END max_depth=4, min_samples_leaf=40, min_samples_split=100, n_estimators=50;, score=0.709 total time=   1.7s\n",
            "[CV 2/5] END max_depth=4, min_samples_leaf=40, min_samples_split=100, n_estimators=50;, score=0.704 total time=   1.6s\n",
            "[CV 3/5] END max_depth=4, min_samples_leaf=40, min_samples_split=100, n_estimators=50;, score=0.709 total time=   1.6s\n",
            "[CV 4/5] END max_depth=4, min_samples_leaf=40, min_samples_split=100, n_estimators=50;, score=0.709 total time=   1.7s\n",
            "[CV 5/5] END max_depth=4, min_samples_leaf=40, min_samples_split=100, n_estimators=50;, score=0.695 total time=   1.7s\n",
            "[CV 1/5] END max_depth=4, min_samples_leaf=40, min_samples_split=100, n_estimators=80;, score=0.710 total time=   2.6s\n",
            "[CV 2/5] END max_depth=4, min_samples_leaf=40, min_samples_split=100, n_estimators=80;, score=0.702 total time=   2.6s\n",
            "[CV 3/5] END max_depth=4, min_samples_leaf=40, min_samples_split=100, n_estimators=80;, score=0.710 total time=   2.7s\n",
            "[CV 4/5] END max_depth=4, min_samples_leaf=40, min_samples_split=100, n_estimators=80;, score=0.674 total time=   2.6s\n",
            "[CV 5/5] END max_depth=4, min_samples_leaf=40, min_samples_split=100, n_estimators=80;, score=0.715 total time=   2.6s\n",
            "[CV 1/5] END max_depth=4, min_samples_leaf=40, min_samples_split=100, n_estimators=100;, score=0.703 total time=   3.3s\n",
            "[CV 2/5] END max_depth=4, min_samples_leaf=40, min_samples_split=100, n_estimators=100;, score=0.701 total time=   3.3s\n",
            "[CV 3/5] END max_depth=4, min_samples_leaf=40, min_samples_split=100, n_estimators=100;, score=0.704 total time=   3.3s\n",
            "[CV 4/5] END max_depth=4, min_samples_leaf=40, min_samples_split=100, n_estimators=100;, score=0.704 total time=   3.3s\n",
            "[CV 5/5] END max_depth=4, min_samples_leaf=40, min_samples_split=100, n_estimators=100;, score=0.715 total time=   3.2s\n",
            "[CV 1/5] END max_depth=4, min_samples_leaf=40, min_samples_split=150, n_estimators=50;, score=0.716 total time=   1.6s\n",
            "[CV 2/5] END max_depth=4, min_samples_leaf=40, min_samples_split=150, n_estimators=50;, score=0.706 total time=   1.7s\n",
            "[CV 3/5] END max_depth=4, min_samples_leaf=40, min_samples_split=150, n_estimators=50;, score=0.708 total time=   1.6s\n",
            "[CV 4/5] END max_depth=4, min_samples_leaf=40, min_samples_split=150, n_estimators=50;, score=0.715 total time=   1.6s\n",
            "[CV 5/5] END max_depth=4, min_samples_leaf=40, min_samples_split=150, n_estimators=50;, score=0.707 total time=   1.6s\n",
            "[CV 1/5] END max_depth=4, min_samples_leaf=40, min_samples_split=150, n_estimators=80;, score=0.714 total time=   2.5s\n",
            "[CV 2/5] END max_depth=4, min_samples_leaf=40, min_samples_split=150, n_estimators=80;, score=0.708 total time=   2.6s\n",
            "[CV 3/5] END max_depth=4, min_samples_leaf=40, min_samples_split=150, n_estimators=80;, score=0.710 total time=   2.6s\n",
            "[CV 4/5] END max_depth=4, min_samples_leaf=40, min_samples_split=150, n_estimators=80;, score=0.692 total time=   2.6s\n",
            "[CV 5/5] END max_depth=4, min_samples_leaf=40, min_samples_split=150, n_estimators=80;, score=0.717 total time=   2.6s\n",
            "[CV 1/5] END max_depth=4, min_samples_leaf=40, min_samples_split=150, n_estimators=100;, score=0.710 total time=   3.3s\n",
            "[CV 2/5] END max_depth=4, min_samples_leaf=40, min_samples_split=150, n_estimators=100;, score=0.703 total time=   3.3s\n",
            "[CV 3/5] END max_depth=4, min_samples_leaf=40, min_samples_split=150, n_estimators=100;, score=0.710 total time=   3.2s\n",
            "[CV 4/5] END max_depth=4, min_samples_leaf=40, min_samples_split=150, n_estimators=100;, score=0.707 total time=   3.3s\n",
            "[CV 5/5] END max_depth=4, min_samples_leaf=40, min_samples_split=150, n_estimators=100;, score=0.715 total time=   3.3s\n",
            "[CV 1/5] END max_depth=4, min_samples_leaf=50, min_samples_split=50, n_estimators=50;, score=0.706 total time=   1.7s\n",
            "[CV 2/5] END max_depth=4, min_samples_leaf=50, min_samples_split=50, n_estimators=50;, score=0.702 total time=   1.6s\n",
            "[CV 3/5] END max_depth=4, min_samples_leaf=50, min_samples_split=50, n_estimators=50;, score=0.713 total time=   1.6s\n",
            "[CV 4/5] END max_depth=4, min_samples_leaf=50, min_samples_split=50, n_estimators=50;, score=0.717 total time=   1.7s\n",
            "[CV 5/5] END max_depth=4, min_samples_leaf=50, min_samples_split=50, n_estimators=50;, score=0.711 total time=   1.6s\n",
            "[CV 1/5] END max_depth=4, min_samples_leaf=50, min_samples_split=50, n_estimators=80;, score=0.709 total time=   2.6s\n",
            "[CV 2/5] END max_depth=4, min_samples_leaf=50, min_samples_split=50, n_estimators=80;, score=0.699 total time=   2.6s\n",
            "[CV 3/5] END max_depth=4, min_samples_leaf=50, min_samples_split=50, n_estimators=80;, score=0.711 total time=   2.6s\n",
            "[CV 4/5] END max_depth=4, min_samples_leaf=50, min_samples_split=50, n_estimators=80;, score=0.707 total time=   2.7s\n",
            "[CV 5/5] END max_depth=4, min_samples_leaf=50, min_samples_split=50, n_estimators=80;, score=0.709 total time=   2.7s\n",
            "[CV 1/5] END max_depth=4, min_samples_leaf=50, min_samples_split=50, n_estimators=100;, score=0.715 total time=   3.2s\n",
            "[CV 2/5] END max_depth=4, min_samples_leaf=50, min_samples_split=50, n_estimators=100;, score=0.703 total time=   3.2s\n",
            "[CV 3/5] END max_depth=4, min_samples_leaf=50, min_samples_split=50, n_estimators=100;, score=0.704 total time=   3.3s\n",
            "[CV 4/5] END max_depth=4, min_samples_leaf=50, min_samples_split=50, n_estimators=100;, score=0.705 total time=   3.2s\n",
            "[CV 5/5] END max_depth=4, min_samples_leaf=50, min_samples_split=50, n_estimators=100;, score=0.708 total time=   3.3s\n",
            "[CV 1/5] END max_depth=4, min_samples_leaf=50, min_samples_split=100, n_estimators=50;, score=0.710 total time=   1.7s\n",
            "[CV 2/5] END max_depth=4, min_samples_leaf=50, min_samples_split=100, n_estimators=50;, score=0.709 total time=   1.6s\n",
            "[CV 3/5] END max_depth=4, min_samples_leaf=50, min_samples_split=100, n_estimators=50;, score=0.714 total time=   1.6s\n",
            "[CV 4/5] END max_depth=4, min_samples_leaf=50, min_samples_split=100, n_estimators=50;, score=0.705 total time=   1.6s\n",
            "[CV 5/5] END max_depth=4, min_samples_leaf=50, min_samples_split=100, n_estimators=50;, score=0.710 total time=   1.7s\n",
            "[CV 1/5] END max_depth=4, min_samples_leaf=50, min_samples_split=100, n_estimators=80;, score=0.710 total time=   2.6s\n",
            "[CV 2/5] END max_depth=4, min_samples_leaf=50, min_samples_split=100, n_estimators=80;, score=0.701 total time=   2.6s\n",
            "[CV 3/5] END max_depth=4, min_samples_leaf=50, min_samples_split=100, n_estimators=80;, score=0.706 total time=   2.6s\n",
            "[CV 4/5] END max_depth=4, min_samples_leaf=50, min_samples_split=100, n_estimators=80;, score=0.704 total time=   2.6s\n",
            "[CV 5/5] END max_depth=4, min_samples_leaf=50, min_samples_split=100, n_estimators=80;, score=0.714 total time=   2.6s\n",
            "[CV 1/5] END max_depth=4, min_samples_leaf=50, min_samples_split=100, n_estimators=100;, score=0.714 total time=   3.4s\n",
            "[CV 2/5] END max_depth=4, min_samples_leaf=50, min_samples_split=100, n_estimators=100;, score=0.701 total time=   3.2s\n",
            "[CV 3/5] END max_depth=4, min_samples_leaf=50, min_samples_split=100, n_estimators=100;, score=0.707 total time=   3.3s\n",
            "[CV 4/5] END max_depth=4, min_samples_leaf=50, min_samples_split=100, n_estimators=100;, score=0.705 total time=   3.3s\n",
            "[CV 5/5] END max_depth=4, min_samples_leaf=50, min_samples_split=100, n_estimators=100;, score=0.714 total time=   3.2s\n",
            "[CV 1/5] END max_depth=4, min_samples_leaf=50, min_samples_split=150, n_estimators=50;, score=0.712 total time=   1.6s\n",
            "[CV 2/5] END max_depth=4, min_samples_leaf=50, min_samples_split=150, n_estimators=50;, score=0.711 total time=   1.6s\n",
            "[CV 3/5] END max_depth=4, min_samples_leaf=50, min_samples_split=150, n_estimators=50;, score=0.708 total time=   1.6s\n",
            "[CV 4/5] END max_depth=4, min_samples_leaf=50, min_samples_split=150, n_estimators=50;, score=0.704 total time=   1.7s\n",
            "[CV 5/5] END max_depth=4, min_samples_leaf=50, min_samples_split=150, n_estimators=50;, score=0.707 total time=   1.7s\n",
            "[CV 1/5] END max_depth=4, min_samples_leaf=50, min_samples_split=150, n_estimators=80;, score=0.706 total time=   2.5s\n",
            "[CV 2/5] END max_depth=4, min_samples_leaf=50, min_samples_split=150, n_estimators=80;, score=0.705 total time=   2.6s\n",
            "[CV 3/5] END max_depth=4, min_samples_leaf=50, min_samples_split=150, n_estimators=80;, score=0.710 total time=   2.6s\n",
            "[CV 4/5] END max_depth=4, min_samples_leaf=50, min_samples_split=150, n_estimators=80;, score=0.709 total time=   2.6s\n",
            "[CV 5/5] END max_depth=4, min_samples_leaf=50, min_samples_split=150, n_estimators=80;, score=0.708 total time=   2.6s\n",
            "[CV 1/5] END max_depth=4, min_samples_leaf=50, min_samples_split=150, n_estimators=100;, score=0.712 total time=   3.2s\n",
            "[CV 2/5] END max_depth=4, min_samples_leaf=50, min_samples_split=150, n_estimators=100;, score=0.700 total time=   3.3s\n",
            "[CV 3/5] END max_depth=4, min_samples_leaf=50, min_samples_split=150, n_estimators=100;, score=0.709 total time=   3.3s\n",
            "[CV 4/5] END max_depth=4, min_samples_leaf=50, min_samples_split=150, n_estimators=100;, score=0.709 total time=   3.3s\n",
            "[CV 5/5] END max_depth=4, min_samples_leaf=50, min_samples_split=150, n_estimators=100;, score=0.713 total time=   3.3s\n",
            "[CV 1/5] END max_depth=6, min_samples_leaf=40, min_samples_split=50, n_estimators=50;, score=0.722 total time=   2.2s\n",
            "[CV 2/5] END max_depth=6, min_samples_leaf=40, min_samples_split=50, n_estimators=50;, score=0.717 total time=   2.2s\n",
            "[CV 3/5] END max_depth=6, min_samples_leaf=40, min_samples_split=50, n_estimators=50;, score=0.721 total time=   2.2s\n",
            "[CV 4/5] END max_depth=6, min_samples_leaf=40, min_samples_split=50, n_estimators=50;, score=0.721 total time=   2.1s\n",
            "[CV 5/5] END max_depth=6, min_samples_leaf=40, min_samples_split=50, n_estimators=50;, score=0.724 total time=   2.2s\n",
            "[CV 1/5] END max_depth=6, min_samples_leaf=40, min_samples_split=50, n_estimators=80;, score=0.723 total time=   3.4s\n",
            "[CV 2/5] END max_depth=6, min_samples_leaf=40, min_samples_split=50, n_estimators=80;, score=0.720 total time=   3.4s\n",
            "[CV 3/5] END max_depth=6, min_samples_leaf=40, min_samples_split=50, n_estimators=80;, score=0.720 total time=   3.5s\n",
            "[CV 4/5] END max_depth=6, min_samples_leaf=40, min_samples_split=50, n_estimators=80;, score=0.723 total time=   3.4s\n",
            "[CV 5/5] END max_depth=6, min_samples_leaf=40, min_samples_split=50, n_estimators=80;, score=0.725 total time=   3.4s\n",
            "[CV 1/5] END max_depth=6, min_samples_leaf=40, min_samples_split=50, n_estimators=100;, score=0.724 total time=   4.2s\n",
            "[CV 2/5] END max_depth=6, min_samples_leaf=40, min_samples_split=50, n_estimators=100;, score=0.720 total time=   4.4s\n",
            "[CV 3/5] END max_depth=6, min_samples_leaf=40, min_samples_split=50, n_estimators=100;, score=0.722 total time=   4.3s\n",
            "[CV 4/5] END max_depth=6, min_samples_leaf=40, min_samples_split=50, n_estimators=100;, score=0.721 total time=   4.3s\n",
            "[CV 5/5] END max_depth=6, min_samples_leaf=40, min_samples_split=50, n_estimators=100;, score=0.724 total time=   4.4s\n",
            "[CV 1/5] END max_depth=6, min_samples_leaf=40, min_samples_split=100, n_estimators=50;, score=0.724 total time=   2.1s\n",
            "[CV 2/5] END max_depth=6, min_samples_leaf=40, min_samples_split=100, n_estimators=50;, score=0.721 total time=   2.1s\n",
            "[CV 3/5] END max_depth=6, min_samples_leaf=40, min_samples_split=100, n_estimators=50;, score=0.720 total time=   2.1s\n",
            "[CV 4/5] END max_depth=6, min_samples_leaf=40, min_samples_split=100, n_estimators=50;, score=0.721 total time=   2.1s\n",
            "[CV 5/5] END max_depth=6, min_samples_leaf=40, min_samples_split=100, n_estimators=50;, score=0.720 total time=   2.2s\n",
            "[CV 1/5] END max_depth=6, min_samples_leaf=40, min_samples_split=100, n_estimators=80;, score=0.725 total time=   3.6s\n",
            "[CV 2/5] END max_depth=6, min_samples_leaf=40, min_samples_split=100, n_estimators=80;, score=0.721 total time=   3.5s\n",
            "[CV 3/5] END max_depth=6, min_samples_leaf=40, min_samples_split=100, n_estimators=80;, score=0.720 total time=   3.5s\n",
            "[CV 4/5] END max_depth=6, min_samples_leaf=40, min_samples_split=100, n_estimators=80;, score=0.721 total time=   3.4s\n",
            "[CV 5/5] END max_depth=6, min_samples_leaf=40, min_samples_split=100, n_estimators=80;, score=0.723 total time=   3.4s\n",
            "[CV 1/5] END max_depth=6, min_samples_leaf=40, min_samples_split=100, n_estimators=100;, score=0.725 total time=   4.4s\n",
            "[CV 2/5] END max_depth=6, min_samples_leaf=40, min_samples_split=100, n_estimators=100;, score=0.720 total time=   4.3s\n",
            "[CV 3/5] END max_depth=6, min_samples_leaf=40, min_samples_split=100, n_estimators=100;, score=0.721 total time=   4.3s\n",
            "[CV 4/5] END max_depth=6, min_samples_leaf=40, min_samples_split=100, n_estimators=100;, score=0.721 total time=   4.3s\n",
            "[CV 5/5] END max_depth=6, min_samples_leaf=40, min_samples_split=100, n_estimators=100;, score=0.724 total time=   4.2s\n",
            "[CV 1/5] END max_depth=6, min_samples_leaf=40, min_samples_split=150, n_estimators=50;, score=0.722 total time=   2.1s\n",
            "[CV 2/5] END max_depth=6, min_samples_leaf=40, min_samples_split=150, n_estimators=50;, score=0.722 total time=   2.0s\n",
            "[CV 3/5] END max_depth=6, min_samples_leaf=40, min_samples_split=150, n_estimators=50;, score=0.721 total time=   2.2s\n",
            "[CV 4/5] END max_depth=6, min_samples_leaf=40, min_samples_split=150, n_estimators=50;, score=0.722 total time=   2.2s\n",
            "[CV 5/5] END max_depth=6, min_samples_leaf=40, min_samples_split=150, n_estimators=50;, score=0.725 total time=   2.1s\n",
            "[CV 1/5] END max_depth=6, min_samples_leaf=40, min_samples_split=150, n_estimators=80;, score=0.723 total time=   3.5s\n",
            "[CV 2/5] END max_depth=6, min_samples_leaf=40, min_samples_split=150, n_estimators=80;, score=0.722 total time=   3.4s\n",
            "[CV 3/5] END max_depth=6, min_samples_leaf=40, min_samples_split=150, n_estimators=80;, score=0.720 total time=   3.3s\n",
            "[CV 4/5] END max_depth=6, min_samples_leaf=40, min_samples_split=150, n_estimators=80;, score=0.720 total time=   3.5s\n",
            "[CV 5/5] END max_depth=6, min_samples_leaf=40, min_samples_split=150, n_estimators=80;, score=0.724 total time=   3.4s\n",
            "[CV 1/5] END max_depth=6, min_samples_leaf=40, min_samples_split=150, n_estimators=100;, score=0.722 total time=   4.3s\n",
            "[CV 2/5] END max_depth=6, min_samples_leaf=40, min_samples_split=150, n_estimators=100;, score=0.721 total time=   4.4s\n",
            "[CV 3/5] END max_depth=6, min_samples_leaf=40, min_samples_split=150, n_estimators=100;, score=0.722 total time=   4.4s\n",
            "[CV 4/5] END max_depth=6, min_samples_leaf=40, min_samples_split=150, n_estimators=100;, score=0.722 total time=   4.4s\n",
            "[CV 5/5] END max_depth=6, min_samples_leaf=40, min_samples_split=150, n_estimators=100;, score=0.725 total time=   4.3s\n",
            "[CV 1/5] END max_depth=6, min_samples_leaf=50, min_samples_split=50, n_estimators=50;, score=0.725 total time=   2.2s\n",
            "[CV 2/5] END max_depth=6, min_samples_leaf=50, min_samples_split=50, n_estimators=50;, score=0.722 total time=   2.2s\n",
            "[CV 3/5] END max_depth=6, min_samples_leaf=50, min_samples_split=50, n_estimators=50;, score=0.722 total time=   2.2s\n",
            "[CV 4/5] END max_depth=6, min_samples_leaf=50, min_samples_split=50, n_estimators=50;, score=0.722 total time=   2.2s\n",
            "[CV 5/5] END max_depth=6, min_samples_leaf=50, min_samples_split=50, n_estimators=50;, score=0.725 total time=   2.2s\n",
            "[CV 1/5] END max_depth=6, min_samples_leaf=50, min_samples_split=50, n_estimators=80;, score=0.722 total time=   3.4s\n",
            "[CV 2/5] END max_depth=6, min_samples_leaf=50, min_samples_split=50, n_estimators=80;, score=0.721 total time=   3.5s\n",
            "[CV 3/5] END max_depth=6, min_samples_leaf=50, min_samples_split=50, n_estimators=80;, score=0.719 total time=   3.5s\n",
            "[CV 4/5] END max_depth=6, min_samples_leaf=50, min_samples_split=50, n_estimators=80;, score=0.722 total time=   3.5s\n",
            "[CV 5/5] END max_depth=6, min_samples_leaf=50, min_samples_split=50, n_estimators=80;, score=0.723 total time=   3.4s\n",
            "[CV 1/5] END max_depth=6, min_samples_leaf=50, min_samples_split=50, n_estimators=100;, score=0.724 total time=   4.3s\n",
            "[CV 2/5] END max_depth=6, min_samples_leaf=50, min_samples_split=50, n_estimators=100;, score=0.722 total time=   4.3s\n",
            "[CV 3/5] END max_depth=6, min_samples_leaf=50, min_samples_split=50, n_estimators=100;, score=0.722 total time=   4.3s\n",
            "[CV 4/5] END max_depth=6, min_samples_leaf=50, min_samples_split=50, n_estimators=100;, score=0.720 total time=   4.3s\n",
            "[CV 5/5] END max_depth=6, min_samples_leaf=50, min_samples_split=50, n_estimators=100;, score=0.724 total time=   4.3s\n",
            "[CV 1/5] END max_depth=6, min_samples_leaf=50, min_samples_split=100, n_estimators=50;, score=0.722 total time=   2.2s\n",
            "[CV 2/5] END max_depth=6, min_samples_leaf=50, min_samples_split=100, n_estimators=50;, score=0.722 total time=   2.1s\n",
            "[CV 3/5] END max_depth=6, min_samples_leaf=50, min_samples_split=100, n_estimators=50;, score=0.720 total time=   2.2s\n",
            "[CV 4/5] END max_depth=6, min_samples_leaf=50, min_samples_split=100, n_estimators=50;, score=0.719 total time=   2.0s\n",
            "[CV 5/5] END max_depth=6, min_samples_leaf=50, min_samples_split=100, n_estimators=50;, score=0.725 total time=   2.2s\n",
            "[CV 1/5] END max_depth=6, min_samples_leaf=50, min_samples_split=100, n_estimators=80;, score=0.724 total time=   3.5s\n",
            "[CV 2/5] END max_depth=6, min_samples_leaf=50, min_samples_split=100, n_estimators=80;, score=0.721 total time=   3.5s\n",
            "[CV 3/5] END max_depth=6, min_samples_leaf=50, min_samples_split=100, n_estimators=80;, score=0.721 total time=   3.5s\n",
            "[CV 4/5] END max_depth=6, min_samples_leaf=50, min_samples_split=100, n_estimators=80;, score=0.724 total time=   3.5s\n",
            "[CV 5/5] END max_depth=6, min_samples_leaf=50, min_samples_split=100, n_estimators=80;, score=0.723 total time=   3.4s\n",
            "[CV 1/5] END max_depth=6, min_samples_leaf=50, min_samples_split=100, n_estimators=100;, score=0.722 total time=   4.3s\n",
            "[CV 2/5] END max_depth=6, min_samples_leaf=50, min_samples_split=100, n_estimators=100;, score=0.719 total time=   4.3s\n",
            "[CV 3/5] END max_depth=6, min_samples_leaf=50, min_samples_split=100, n_estimators=100;, score=0.720 total time=   4.3s\n",
            "[CV 4/5] END max_depth=6, min_samples_leaf=50, min_samples_split=100, n_estimators=100;, score=0.723 total time=   4.2s\n",
            "[CV 5/5] END max_depth=6, min_samples_leaf=50, min_samples_split=100, n_estimators=100;, score=0.725 total time=   4.4s\n",
            "[CV 1/5] END max_depth=6, min_samples_leaf=50, min_samples_split=150, n_estimators=50;, score=0.722 total time=   2.2s\n",
            "[CV 2/5] END max_depth=6, min_samples_leaf=50, min_samples_split=150, n_estimators=50;, score=0.720 total time=   2.2s\n",
            "[CV 3/5] END max_depth=6, min_samples_leaf=50, min_samples_split=150, n_estimators=50;, score=0.721 total time=   2.3s\n",
            "[CV 4/5] END max_depth=6, min_samples_leaf=50, min_samples_split=150, n_estimators=50;, score=0.722 total time=   2.2s\n",
            "[CV 5/5] END max_depth=6, min_samples_leaf=50, min_samples_split=150, n_estimators=50;, score=0.723 total time=   2.1s\n",
            "[CV 1/5] END max_depth=6, min_samples_leaf=50, min_samples_split=150, n_estimators=80;, score=0.723 total time=   3.5s\n",
            "[CV 2/5] END max_depth=6, min_samples_leaf=50, min_samples_split=150, n_estimators=80;, score=0.722 total time=   3.4s\n",
            "[CV 3/5] END max_depth=6, min_samples_leaf=50, min_samples_split=150, n_estimators=80;, score=0.723 total time=   3.5s\n",
            "[CV 4/5] END max_depth=6, min_samples_leaf=50, min_samples_split=150, n_estimators=80;, score=0.723 total time=   3.5s\n",
            "[CV 5/5] END max_depth=6, min_samples_leaf=50, min_samples_split=150, n_estimators=80;, score=0.726 total time=   3.6s\n",
            "[CV 1/5] END max_depth=6, min_samples_leaf=50, min_samples_split=150, n_estimators=100;, score=0.725 total time=   4.4s\n",
            "[CV 2/5] END max_depth=6, min_samples_leaf=50, min_samples_split=150, n_estimators=100;, score=0.717 total time=   4.3s\n",
            "[CV 3/5] END max_depth=6, min_samples_leaf=50, min_samples_split=150, n_estimators=100;, score=0.721 total time=   4.3s\n",
            "[CV 4/5] END max_depth=6, min_samples_leaf=50, min_samples_split=150, n_estimators=100;, score=0.722 total time=   4.4s\n",
            "[CV 5/5] END max_depth=6, min_samples_leaf=50, min_samples_split=150, n_estimators=100;, score=0.724 total time=   4.5s\n",
            "[CV 1/5] END max_depth=8, min_samples_leaf=40, min_samples_split=50, n_estimators=50;, score=0.723 total time=   2.7s\n",
            "[CV 2/5] END max_depth=8, min_samples_leaf=40, min_samples_split=50, n_estimators=50;, score=0.722 total time=   2.8s\n",
            "[CV 3/5] END max_depth=8, min_samples_leaf=40, min_samples_split=50, n_estimators=50;, score=0.722 total time=   2.7s\n",
            "[CV 4/5] END max_depth=8, min_samples_leaf=40, min_samples_split=50, n_estimators=50;, score=0.724 total time=   2.6s\n",
            "[CV 5/5] END max_depth=8, min_samples_leaf=40, min_samples_split=50, n_estimators=50;, score=0.728 total time=   2.8s\n",
            "[CV 1/5] END max_depth=8, min_samples_leaf=40, min_samples_split=50, n_estimators=80;, score=0.725 total time=   4.2s\n",
            "[CV 2/5] END max_depth=8, min_samples_leaf=40, min_samples_split=50, n_estimators=80;, score=0.722 total time=   4.2s\n",
            "[CV 3/5] END max_depth=8, min_samples_leaf=40, min_samples_split=50, n_estimators=80;, score=0.723 total time=   4.3s\n",
            "[CV 4/5] END max_depth=8, min_samples_leaf=40, min_samples_split=50, n_estimators=80;, score=0.726 total time=   4.3s\n",
            "[CV 5/5] END max_depth=8, min_samples_leaf=40, min_samples_split=50, n_estimators=80;, score=0.728 total time=   4.2s\n",
            "[CV 1/5] END max_depth=8, min_samples_leaf=40, min_samples_split=50, n_estimators=100;, score=0.726 total time=   5.3s\n",
            "[CV 2/5] END max_depth=8, min_samples_leaf=40, min_samples_split=50, n_estimators=100;, score=0.723 total time=   5.3s\n",
            "[CV 3/5] END max_depth=8, min_samples_leaf=40, min_samples_split=50, n_estimators=100;, score=0.722 total time=   5.2s\n",
            "[CV 4/5] END max_depth=8, min_samples_leaf=40, min_samples_split=50, n_estimators=100;, score=0.725 total time=   5.2s\n",
            "[CV 5/5] END max_depth=8, min_samples_leaf=40, min_samples_split=50, n_estimators=100;, score=0.727 total time=   5.3s\n",
            "[CV 1/5] END max_depth=8, min_samples_leaf=40, min_samples_split=100, n_estimators=50;, score=0.725 total time=   2.7s\n",
            "[CV 2/5] END max_depth=8, min_samples_leaf=40, min_samples_split=100, n_estimators=50;, score=0.723 total time=   2.7s\n",
            "[CV 3/5] END max_depth=8, min_samples_leaf=40, min_samples_split=100, n_estimators=50;, score=0.721 total time=   2.7s\n",
            "[CV 4/5] END max_depth=8, min_samples_leaf=40, min_samples_split=100, n_estimators=50;, score=0.725 total time=   2.7s\n",
            "[CV 5/5] END max_depth=8, min_samples_leaf=40, min_samples_split=100, n_estimators=50;, score=0.728 total time=   2.7s\n",
            "[CV 1/5] END max_depth=8, min_samples_leaf=40, min_samples_split=100, n_estimators=80;, score=0.725 total time=   4.2s\n",
            "[CV 2/5] END max_depth=8, min_samples_leaf=40, min_samples_split=100, n_estimators=80;, score=0.722 total time=   4.1s\n",
            "[CV 3/5] END max_depth=8, min_samples_leaf=40, min_samples_split=100, n_estimators=80;, score=0.723 total time=   4.2s\n",
            "[CV 4/5] END max_depth=8, min_samples_leaf=40, min_samples_split=100, n_estimators=80;, score=0.725 total time=   4.3s\n",
            "[CV 5/5] END max_depth=8, min_samples_leaf=40, min_samples_split=100, n_estimators=80;, score=0.728 total time=   4.3s\n",
            "[CV 1/5] END max_depth=8, min_samples_leaf=40, min_samples_split=100, n_estimators=100;, score=0.725 total time=   5.3s\n",
            "[CV 2/5] END max_depth=8, min_samples_leaf=40, min_samples_split=100, n_estimators=100;, score=0.722 total time=   5.3s\n",
            "[CV 3/5] END max_depth=8, min_samples_leaf=40, min_samples_split=100, n_estimators=100;, score=0.723 total time=   5.4s\n",
            "[CV 4/5] END max_depth=8, min_samples_leaf=40, min_samples_split=100, n_estimators=100;, score=0.725 total time=   5.5s\n",
            "[CV 5/5] END max_depth=8, min_samples_leaf=40, min_samples_split=100, n_estimators=100;, score=0.726 total time=   5.4s\n",
            "[CV 1/5] END max_depth=8, min_samples_leaf=40, min_samples_split=150, n_estimators=50;, score=0.724 total time=   2.7s\n",
            "[CV 2/5] END max_depth=8, min_samples_leaf=40, min_samples_split=150, n_estimators=50;, score=0.724 total time=   2.7s\n",
            "[CV 3/5] END max_depth=8, min_samples_leaf=40, min_samples_split=150, n_estimators=50;, score=0.722 total time=   2.7s\n",
            "[CV 4/5] END max_depth=8, min_samples_leaf=40, min_samples_split=150, n_estimators=50;, score=0.725 total time=   2.5s\n",
            "[CV 5/5] END max_depth=8, min_samples_leaf=40, min_samples_split=150, n_estimators=50;, score=0.728 total time=   2.6s\n",
            "[CV 1/5] END max_depth=8, min_samples_leaf=40, min_samples_split=150, n_estimators=80;, score=0.725 total time=   4.1s\n",
            "[CV 2/5] END max_depth=8, min_samples_leaf=40, min_samples_split=150, n_estimators=80;, score=0.723 total time=   4.2s\n",
            "[CV 3/5] END max_depth=8, min_samples_leaf=40, min_samples_split=150, n_estimators=80;, score=0.723 total time=   4.1s\n",
            "[CV 4/5] END max_depth=8, min_samples_leaf=40, min_samples_split=150, n_estimators=80;, score=0.725 total time=   4.2s\n",
            "[CV 5/5] END max_depth=8, min_samples_leaf=40, min_samples_split=150, n_estimators=80;, score=0.727 total time=   4.3s\n",
            "[CV 1/5] END max_depth=8, min_samples_leaf=40, min_samples_split=150, n_estimators=100;, score=0.726 total time=   5.3s\n",
            "[CV 2/5] END max_depth=8, min_samples_leaf=40, min_samples_split=150, n_estimators=100;, score=0.721 total time=   5.2s\n",
            "[CV 3/5] END max_depth=8, min_samples_leaf=40, min_samples_split=150, n_estimators=100;, score=0.722 total time=   5.4s\n",
            "[CV 4/5] END max_depth=8, min_samples_leaf=40, min_samples_split=150, n_estimators=100;, score=0.725 total time=   5.2s\n",
            "[CV 5/5] END max_depth=8, min_samples_leaf=40, min_samples_split=150, n_estimators=100;, score=0.727 total time=   5.2s\n",
            "[CV 1/5] END max_depth=8, min_samples_leaf=50, min_samples_split=50, n_estimators=50;, score=0.725 total time=   2.8s\n",
            "[CV 2/5] END max_depth=8, min_samples_leaf=50, min_samples_split=50, n_estimators=50;, score=0.723 total time=   2.6s\n",
            "[CV 3/5] END max_depth=8, min_samples_leaf=50, min_samples_split=50, n_estimators=50;, score=0.722 total time=   2.6s\n",
            "[CV 4/5] END max_depth=8, min_samples_leaf=50, min_samples_split=50, n_estimators=50;, score=0.725 total time=   2.6s\n",
            "[CV 5/5] END max_depth=8, min_samples_leaf=50, min_samples_split=50, n_estimators=50;, score=0.727 total time=   2.7s\n",
            "[CV 1/5] END max_depth=8, min_samples_leaf=50, min_samples_split=50, n_estimators=80;, score=0.724 total time=   4.2s\n",
            "[CV 2/5] END max_depth=8, min_samples_leaf=50, min_samples_split=50, n_estimators=80;, score=0.722 total time=   4.3s\n",
            "[CV 3/5] END max_depth=8, min_samples_leaf=50, min_samples_split=50, n_estimators=80;, score=0.722 total time=   4.2s\n",
            "[CV 4/5] END max_depth=8, min_samples_leaf=50, min_samples_split=50, n_estimators=80;, score=0.725 total time=   4.2s\n",
            "[CV 5/5] END max_depth=8, min_samples_leaf=50, min_samples_split=50, n_estimators=80;, score=0.727 total time=   4.3s\n",
            "[CV 1/5] END max_depth=8, min_samples_leaf=50, min_samples_split=50, n_estimators=100;, score=0.724 total time=   5.4s\n",
            "[CV 2/5] END max_depth=8, min_samples_leaf=50, min_samples_split=50, n_estimators=100;, score=0.723 total time=   5.3s\n",
            "[CV 3/5] END max_depth=8, min_samples_leaf=50, min_samples_split=50, n_estimators=100;, score=0.723 total time=   5.4s\n",
            "[CV 4/5] END max_depth=8, min_samples_leaf=50, min_samples_split=50, n_estimators=100;, score=0.723 total time=   5.3s\n",
            "[CV 5/5] END max_depth=8, min_samples_leaf=50, min_samples_split=50, n_estimators=100;, score=0.728 total time=   5.3s\n",
            "[CV 1/5] END max_depth=8, min_samples_leaf=50, min_samples_split=100, n_estimators=50;, score=0.724 total time=   2.7s\n",
            "[CV 2/5] END max_depth=8, min_samples_leaf=50, min_samples_split=100, n_estimators=50;, score=0.723 total time=   2.6s\n",
            "[CV 3/5] END max_depth=8, min_samples_leaf=50, min_samples_split=100, n_estimators=50;, score=0.722 total time=   2.7s\n",
            "[CV 4/5] END max_depth=8, min_samples_leaf=50, min_samples_split=100, n_estimators=50;, score=0.724 total time=   2.7s\n",
            "[CV 5/5] END max_depth=8, min_samples_leaf=50, min_samples_split=100, n_estimators=50;, score=0.727 total time=   2.7s\n",
            "[CV 1/5] END max_depth=8, min_samples_leaf=50, min_samples_split=100, n_estimators=80;, score=0.726 total time=   4.2s\n",
            "[CV 2/5] END max_depth=8, min_samples_leaf=50, min_samples_split=100, n_estimators=80;, score=0.723 total time=   4.2s\n",
            "[CV 3/5] END max_depth=8, min_samples_leaf=50, min_samples_split=100, n_estimators=80;, score=0.724 total time=   4.2s\n",
            "[CV 4/5] END max_depth=8, min_samples_leaf=50, min_samples_split=100, n_estimators=80;, score=0.724 total time=   4.2s\n",
            "[CV 5/5] END max_depth=8, min_samples_leaf=50, min_samples_split=100, n_estimators=80;, score=0.728 total time=   4.2s\n",
            "[CV 1/5] END max_depth=8, min_samples_leaf=50, min_samples_split=100, n_estimators=100;, score=0.725 total time=   5.2s\n",
            "[CV 2/5] END max_depth=8, min_samples_leaf=50, min_samples_split=100, n_estimators=100;, score=0.724 total time=   5.2s\n",
            "[CV 3/5] END max_depth=8, min_samples_leaf=50, min_samples_split=100, n_estimators=100;, score=0.723 total time=   5.2s\n",
            "[CV 4/5] END max_depth=8, min_samples_leaf=50, min_samples_split=100, n_estimators=100;, score=0.726 total time=   5.3s\n",
            "[CV 5/5] END max_depth=8, min_samples_leaf=50, min_samples_split=100, n_estimators=100;, score=0.728 total time=   6.2s\n",
            "[CV 1/5] END max_depth=8, min_samples_leaf=50, min_samples_split=150, n_estimators=50;, score=0.724 total time=   2.7s\n",
            "[CV 2/5] END max_depth=8, min_samples_leaf=50, min_samples_split=150, n_estimators=50;, score=0.723 total time=   2.7s\n",
            "[CV 3/5] END max_depth=8, min_samples_leaf=50, min_samples_split=150, n_estimators=50;, score=0.723 total time=   2.7s\n",
            "[CV 4/5] END max_depth=8, min_samples_leaf=50, min_samples_split=150, n_estimators=50;, score=0.725 total time=   2.6s\n",
            "[CV 5/5] END max_depth=8, min_samples_leaf=50, min_samples_split=150, n_estimators=50;, score=0.728 total time=   2.7s\n",
            "[CV 1/5] END max_depth=8, min_samples_leaf=50, min_samples_split=150, n_estimators=80;, score=0.725 total time=   4.2s\n",
            "[CV 2/5] END max_depth=8, min_samples_leaf=50, min_samples_split=150, n_estimators=80;, score=0.723 total time=   4.2s\n",
            "[CV 3/5] END max_depth=8, min_samples_leaf=50, min_samples_split=150, n_estimators=80;, score=0.723 total time=   4.2s\n",
            "[CV 4/5] END max_depth=8, min_samples_leaf=50, min_samples_split=150, n_estimators=80;, score=0.725 total time=   4.2s\n",
            "[CV 5/5] END max_depth=8, min_samples_leaf=50, min_samples_split=150, n_estimators=80;, score=0.727 total time=   4.3s\n",
            "[CV 1/5] END max_depth=8, min_samples_leaf=50, min_samples_split=150, n_estimators=100;, score=0.724 total time=   5.2s\n",
            "[CV 2/5] END max_depth=8, min_samples_leaf=50, min_samples_split=150, n_estimators=100;, score=0.722 total time=   5.2s\n",
            "[CV 3/5] END max_depth=8, min_samples_leaf=50, min_samples_split=150, n_estimators=100;, score=0.723 total time=   5.2s\n",
            "[CV 4/5] END max_depth=8, min_samples_leaf=50, min_samples_split=150, n_estimators=100;, score=0.724 total time=   5.2s\n",
            "[CV 5/5] END max_depth=8, min_samples_leaf=50, min_samples_split=150, n_estimators=100;, score=0.727 total time=   5.3s\n"
          ]
        },
        {
          "output_type": "execute_result",
          "data": {
            "text/plain": [
              "GridSearchCV(cv=5, estimator=RandomForestClassifier(),\n",
              "             param_grid={'max_depth': [4, 6, 8], 'min_samples_leaf': [40, 50],\n",
              "                         'min_samples_split': [50, 100, 150],\n",
              "                         'n_estimators': [50, 80, 100]},\n",
              "             scoring='accuracy', verbose=3)"
            ]
          },
          "metadata": {},
          "execution_count": 90
        }
      ],
      "source": [
        "rf_grid = GridSearchCV(estimator=rf,\n",
        "                       param_grid = param_dict_rf,\n",
        "                       cv = 5, verbose=3, scoring='accuracy')\n",
        "\n",
        "rf_grid.fit(X_train,y_train)"
      ]
    },
    {
      "cell_type": "code",
      "execution_count": 91,
      "metadata": {
        "colab": {
          "base_uri": "https://localhost:8080/"
        },
        "id": "lXTGcB45rBQN",
        "outputId": "664ac148-4a47-4102-e3b5-3c04c2f0949a"
      },
      "outputs": [
        {
          "output_type": "execute_result",
          "data": {
            "text/plain": [
              "{'max_depth': 8,\n",
              " 'min_samples_leaf': 50,\n",
              " 'min_samples_split': 100,\n",
              " 'n_estimators': 100}"
            ]
          },
          "metadata": {},
          "execution_count": 91
        }
      ],
      "source": [
        "rf_grid.best_params_"
      ]
    },
    {
      "cell_type": "markdown",
      "metadata": {
        "id": "zxIDquCarDIh"
      },
      "source": [
        "* **Validation of the model**"
      ]
    },
    {
      "cell_type": "code",
      "execution_count": 92,
      "metadata": {
        "colab": {
          "base_uri": "https://localhost:8080/"
        },
        "id": "lRUuY22brB6L",
        "outputId": "05557361-77d6-4c21-c122-b470ce4feb29"
      },
      "outputs": [
        {
          "output_type": "stream",
          "name": "stdout",
          "text": [
            "Train Accuracy score :  72.68245013991915\n",
            "Test Accuracy score :  72.23382045929019\n",
            "\n",
            "               precision    recall  f1-score   support\n",
            "\n",
            "           1       0.73      0.60      0.66      4693\n",
            "           2       0.71      0.83      0.76      9718\n",
            "           3       0.74      0.66      0.70      8102\n",
            "\n",
            "    accuracy                           0.72     22513\n",
            "   macro avg       0.73      0.70      0.71     22513\n",
            "weighted avg       0.72      0.72      0.72     22513\n",
            "\n"
          ]
        }
      ],
      "source": [
        "y_pred_tr=rf_grid.predict(X_train)\n",
        "y_pred_te=rf_grid.predict(X_test)\n",
        "print('Train Accuracy score : ', accuracy_score(y_train, y_pred_tr)*100)\n",
        "print('Test Accuracy score : ', accuracy_score(y_test,y_pred_te)*100)\n",
        "print('\\n', classification_report(y_test, y_pred_te))"
      ]
    },
    {
      "cell_type": "markdown",
      "metadata": {
        "id": "85R4OAU2rKMj"
      },
      "source": [
        "**The train and test accuracy are in the same range. So, there is no chance of overfitting.**"
      ]
    },
    {
      "cell_type": "markdown",
      "metadata": {
        "id": "ATDj2hMPrOjX"
      },
      "source": [
        "* **Applying RandomSearch CV**"
      ]
    },
    {
      "cell_type": "code",
      "execution_count": 93,
      "metadata": {
        "colab": {
          "base_uri": "https://localhost:8080/"
        },
        "id": "bU8OU2tzrN8b",
        "outputId": "e93cd04d-854f-49ba-8c5d-554104660d16"
      },
      "outputs": [
        {
          "output_type": "stream",
          "name": "stdout",
          "text": [
            "Fitting 5 folds for each of 10 candidates, totalling 50 fits\n",
            "[CV] END max_depth=4, min_samples_leaf=50, min_samples_split=100, n_estimators=80; total time=   2.6s\n",
            "[CV] END max_depth=4, min_samples_leaf=50, min_samples_split=100, n_estimators=80; total time=   2.6s\n",
            "[CV] END max_depth=4, min_samples_leaf=50, min_samples_split=100, n_estimators=80; total time=   2.6s\n",
            "[CV] END max_depth=4, min_samples_leaf=50, min_samples_split=100, n_estimators=80; total time=   2.6s\n",
            "[CV] END max_depth=4, min_samples_leaf=50, min_samples_split=100, n_estimators=80; total time=   2.6s\n",
            "[CV] END max_depth=8, min_samples_leaf=50, min_samples_split=150, n_estimators=50; total time=   2.8s\n",
            "[CV] END max_depth=8, min_samples_leaf=50, min_samples_split=150, n_estimators=50; total time=   5.2s\n",
            "[CV] END max_depth=8, min_samples_leaf=50, min_samples_split=150, n_estimators=50; total time=   5.1s\n",
            "[CV] END max_depth=8, min_samples_leaf=50, min_samples_split=150, n_estimators=50; total time=   4.7s\n",
            "[CV] END max_depth=8, min_samples_leaf=50, min_samples_split=150, n_estimators=50; total time=   5.7s\n",
            "[CV] END max_depth=6, min_samples_leaf=50, min_samples_split=150, n_estimators=80; total time=   4.8s\n",
            "[CV] END max_depth=6, min_samples_leaf=50, min_samples_split=150, n_estimators=80; total time=   3.5s\n",
            "[CV] END max_depth=6, min_samples_leaf=50, min_samples_split=150, n_estimators=80; total time=   3.5s\n",
            "[CV] END max_depth=6, min_samples_leaf=50, min_samples_split=150, n_estimators=80; total time=   3.5s\n",
            "[CV] END max_depth=6, min_samples_leaf=50, min_samples_split=150, n_estimators=80; total time=   3.4s\n",
            "[CV] END max_depth=6, min_samples_leaf=50, min_samples_split=100, n_estimators=50; total time=   2.2s\n",
            "[CV] END max_depth=6, min_samples_leaf=50, min_samples_split=100, n_estimators=50; total time=   2.1s\n",
            "[CV] END max_depth=6, min_samples_leaf=50, min_samples_split=100, n_estimators=50; total time=   2.1s\n",
            "[CV] END max_depth=6, min_samples_leaf=50, min_samples_split=100, n_estimators=50; total time=   2.2s\n",
            "[CV] END max_depth=6, min_samples_leaf=50, min_samples_split=100, n_estimators=50; total time=   2.2s\n",
            "[CV] END max_depth=6, min_samples_leaf=50, min_samples_split=50, n_estimators=80; total time=   3.5s\n",
            "[CV] END max_depth=6, min_samples_leaf=50, min_samples_split=50, n_estimators=80; total time=   3.5s\n",
            "[CV] END max_depth=6, min_samples_leaf=50, min_samples_split=50, n_estimators=80; total time=   3.6s\n",
            "[CV] END max_depth=6, min_samples_leaf=50, min_samples_split=50, n_estimators=80; total time=   3.5s\n",
            "[CV] END max_depth=6, min_samples_leaf=50, min_samples_split=50, n_estimators=80; total time=   3.5s\n",
            "[CV] END max_depth=6, min_samples_leaf=50, min_samples_split=100, n_estimators=100; total time=   4.3s\n",
            "[CV] END max_depth=6, min_samples_leaf=50, min_samples_split=100, n_estimators=100; total time=   4.4s\n",
            "[CV] END max_depth=6, min_samples_leaf=50, min_samples_split=100, n_estimators=100; total time=   4.5s\n",
            "[CV] END max_depth=6, min_samples_leaf=50, min_samples_split=100, n_estimators=100; total time=   4.3s\n",
            "[CV] END max_depth=6, min_samples_leaf=50, min_samples_split=100, n_estimators=100; total time=   4.3s\n",
            "[CV] END max_depth=4, min_samples_leaf=50, min_samples_split=50, n_estimators=80; total time=   2.6s\n",
            "[CV] END max_depth=4, min_samples_leaf=50, min_samples_split=50, n_estimators=80; total time=   2.6s\n",
            "[CV] END max_depth=4, min_samples_leaf=50, min_samples_split=50, n_estimators=80; total time=   2.7s\n",
            "[CV] END max_depth=4, min_samples_leaf=50, min_samples_split=50, n_estimators=80; total time=   2.7s\n",
            "[CV] END max_depth=4, min_samples_leaf=50, min_samples_split=50, n_estimators=80; total time=   2.6s\n",
            "[CV] END max_depth=8, min_samples_leaf=40, min_samples_split=50, n_estimators=50; total time=   2.6s\n",
            "[CV] END max_depth=8, min_samples_leaf=40, min_samples_split=50, n_estimators=50; total time=   2.7s\n",
            "[CV] END max_depth=8, min_samples_leaf=40, min_samples_split=50, n_estimators=50; total time=   2.7s\n",
            "[CV] END max_depth=8, min_samples_leaf=40, min_samples_split=50, n_estimators=50; total time=   2.7s\n",
            "[CV] END max_depth=8, min_samples_leaf=40, min_samples_split=50, n_estimators=50; total time=   2.7s\n",
            "[CV] END max_depth=8, min_samples_leaf=40, min_samples_split=100, n_estimators=100; total time=   5.2s\n",
            "[CV] END max_depth=8, min_samples_leaf=40, min_samples_split=100, n_estimators=100; total time=   5.4s\n",
            "[CV] END max_depth=8, min_samples_leaf=40, min_samples_split=100, n_estimators=100; total time=   5.9s\n",
            "[CV] END max_depth=8, min_samples_leaf=40, min_samples_split=100, n_estimators=100; total time=   5.4s\n",
            "[CV] END max_depth=8, min_samples_leaf=40, min_samples_split=100, n_estimators=100; total time=   5.5s\n",
            "[CV] END max_depth=4, min_samples_leaf=40, min_samples_split=150, n_estimators=100; total time=   3.3s\n",
            "[CV] END max_depth=4, min_samples_leaf=40, min_samples_split=150, n_estimators=100; total time=   3.3s\n",
            "[CV] END max_depth=4, min_samples_leaf=40, min_samples_split=150, n_estimators=100; total time=   3.4s\n",
            "[CV] END max_depth=4, min_samples_leaf=40, min_samples_split=150, n_estimators=100; total time=   3.4s\n",
            "[CV] END max_depth=4, min_samples_leaf=40, min_samples_split=150, n_estimators=100; total time=   3.3s\n"
          ]
        },
        {
          "output_type": "execute_result",
          "data": {
            "text/plain": [
              "RandomizedSearchCV(cv=5, estimator=RandomForestClassifier(),\n",
              "                   param_distributions={'max_depth': [4, 6, 8],\n",
              "                                        'min_samples_leaf': [40, 50],\n",
              "                                        'min_samples_split': [50, 100, 150],\n",
              "                                        'n_estimators': [50, 80, 100]},\n",
              "                   scoring='accuracy', verbose=2)"
            ]
          },
          "metadata": {},
          "execution_count": 93
        }
      ],
      "source": [
        "rf_random = RandomizedSearchCV(estimator=rf,\n",
        "                       param_distributions = param_dict_rf,\n",
        "                       cv = 5, verbose=2, scoring='accuracy')\n",
        "\n",
        "rf_random.fit(X_train,y_train)"
      ]
    },
    {
      "cell_type": "code",
      "execution_count": 94,
      "metadata": {
        "colab": {
          "base_uri": "https://localhost:8080/"
        },
        "id": "1AN1jO7DvHYx",
        "outputId": "79625938-78f1-4d5f-bb56-f0d5d83a30a7"
      },
      "outputs": [
        {
          "output_type": "execute_result",
          "data": {
            "text/plain": [
              "{'max_depth': 8,\n",
              " 'min_samples_leaf': 40,\n",
              " 'min_samples_split': 100,\n",
              " 'n_estimators': 100}"
            ]
          },
          "metadata": {},
          "execution_count": 94
        }
      ],
      "source": [
        "rf_random.best_params_"
      ]
    },
    {
      "cell_type": "markdown",
      "metadata": {
        "id": "SBMkc0NEvKfx"
      },
      "source": [
        "* **Validation of the model**"
      ]
    },
    {
      "cell_type": "code",
      "execution_count": 95,
      "metadata": {
        "colab": {
          "base_uri": "https://localhost:8080/"
        },
        "id": "iucNcnLtvL9P",
        "outputId": "f318c85e-15c0-4bd5-f71b-d216b439a35e"
      },
      "outputs": [
        {
          "output_type": "stream",
          "name": "stdout",
          "text": [
            "Train Accuracy score :  72.66616325382371\n",
            "Test Accuracy score :  72.22937858126416\n",
            "\n",
            "               precision    recall  f1-score   support\n",
            "\n",
            "           1       0.73      0.60      0.66      4693\n",
            "           2       0.71      0.83      0.76      9718\n",
            "           3       0.74      0.66      0.70      8102\n",
            "\n",
            "    accuracy                           0.72     22513\n",
            "   macro avg       0.73      0.70      0.71     22513\n",
            "weighted avg       0.72      0.72      0.72     22513\n",
            "\n"
          ]
        }
      ],
      "source": [
        "y_pred_tr=rf_random.predict(X_train)\n",
        "y_pred_te=rf_random.predict(X_test)\n",
        "print('Train Accuracy score : ', accuracy_score(y_train, y_pred_tr)*100)\n",
        "print('Test Accuracy score : ', accuracy_score(y_test,y_pred_te)*100)\n",
        "print('\\n', classification_report(y_test, y_pred_te))"
      ]
    },
    {
      "cell_type": "markdown",
      "metadata": {
        "id": "9tQDuYe6vT6D"
      },
      "source": [
        "**The train and test accuracy is in the same range.**"
      ]
    },
    {
      "cell_type": "markdown",
      "metadata": {
        "id": "c0giX8gsvXd5"
      },
      "source": [
        "* **BayesianSearchCV**"
      ]
    },
    {
      "cell_type": "code",
      "execution_count": 96,
      "metadata": {
        "id": "prMqEKNMvZGC",
        "colab": {
          "base_uri": "https://localhost:8080/"
        },
        "outputId": "3eaf8651-1959-40d7-bd19-a0959f5b5494"
      },
      "outputs": [
        {
          "output_type": "stream",
          "name": "stdout",
          "text": [
            "Fitting 5 folds for each of 1 candidates, totalling 5 fits\n",
            "[CV] END max_depth=7, min_samples_leaf=75, min_samples_split=82, n_estimators=13; total time=   0.6s\n",
            "[CV] END max_depth=7, min_samples_leaf=75, min_samples_split=82, n_estimators=13; total time=   0.7s\n",
            "[CV] END max_depth=7, min_samples_leaf=75, min_samples_split=82, n_estimators=13; total time=   0.8s\n",
            "[CV] END max_depth=7, min_samples_leaf=75, min_samples_split=82, n_estimators=13; total time=   1.1s\n",
            "[CV] END max_depth=7, min_samples_leaf=75, min_samples_split=82, n_estimators=13; total time=   1.2s\n",
            "Fitting 5 folds for each of 1 candidates, totalling 5 fits\n",
            "[CV] END max_depth=7, min_samples_leaf=15, min_samples_split=113, n_estimators=14; total time=   0.7s\n",
            "[CV] END max_depth=7, min_samples_leaf=15, min_samples_split=113, n_estimators=14; total time=   0.7s\n",
            "[CV] END max_depth=7, min_samples_leaf=15, min_samples_split=113, n_estimators=14; total time=   0.7s\n",
            "[CV] END max_depth=7, min_samples_leaf=15, min_samples_split=113, n_estimators=14; total time=   0.7s\n",
            "[CV] END max_depth=7, min_samples_leaf=15, min_samples_split=113, n_estimators=14; total time=   0.7s\n",
            "Fitting 5 folds for each of 1 candidates, totalling 5 fits\n",
            "[CV] END max_depth=6, min_samples_leaf=91, min_samples_split=63, n_estimators=58; total time=   2.5s\n",
            "[CV] END max_depth=6, min_samples_leaf=91, min_samples_split=63, n_estimators=58; total time=   2.5s\n",
            "[CV] END max_depth=6, min_samples_leaf=91, min_samples_split=63, n_estimators=58; total time=   2.5s\n",
            "[CV] END max_depth=6, min_samples_leaf=91, min_samples_split=63, n_estimators=58; total time=   2.5s\n",
            "[CV] END max_depth=6, min_samples_leaf=91, min_samples_split=63, n_estimators=58; total time=   2.7s\n",
            "Fitting 5 folds for each of 1 candidates, totalling 5 fits\n",
            "[CV] END max_depth=8, min_samples_leaf=62, min_samples_split=52, n_estimators=59; total time=   3.1s\n",
            "[CV] END max_depth=8, min_samples_leaf=62, min_samples_split=52, n_estimators=59; total time=   3.1s\n",
            "[CV] END max_depth=8, min_samples_leaf=62, min_samples_split=52, n_estimators=59; total time=   3.2s\n",
            "[CV] END max_depth=8, min_samples_leaf=62, min_samples_split=52, n_estimators=59; total time=   3.2s\n",
            "[CV] END max_depth=8, min_samples_leaf=62, min_samples_split=52, n_estimators=59; total time=   3.1s\n",
            "Fitting 5 folds for each of 1 candidates, totalling 5 fits\n",
            "[CV] END max_depth=5, min_samples_leaf=74, min_samples_split=106, n_estimators=43; total time=   1.7s\n",
            "[CV] END max_depth=5, min_samples_leaf=74, min_samples_split=106, n_estimators=43; total time=   1.7s\n",
            "[CV] END max_depth=5, min_samples_leaf=74, min_samples_split=106, n_estimators=43; total time=   1.7s\n",
            "[CV] END max_depth=5, min_samples_leaf=74, min_samples_split=106, n_estimators=43; total time=   1.7s\n",
            "[CV] END max_depth=5, min_samples_leaf=74, min_samples_split=106, n_estimators=43; total time=   1.8s\n",
            "Fitting 5 folds for each of 1 candidates, totalling 5 fits\n",
            "[CV] END max_depth=8, min_samples_leaf=49, min_samples_split=109, n_estimators=21; total time=   1.1s\n",
            "[CV] END max_depth=8, min_samples_leaf=49, min_samples_split=109, n_estimators=21; total time=   1.1s\n",
            "[CV] END max_depth=8, min_samples_leaf=49, min_samples_split=109, n_estimators=21; total time=   1.1s\n",
            "[CV] END max_depth=8, min_samples_leaf=49, min_samples_split=109, n_estimators=21; total time=   1.1s\n",
            "[CV] END max_depth=8, min_samples_leaf=49, min_samples_split=109, n_estimators=21; total time=   1.1s\n",
            "Fitting 5 folds for each of 1 candidates, totalling 5 fits\n",
            "[CV] END max_depth=7, min_samples_leaf=12, min_samples_split=149, n_estimators=88; total time=   4.4s\n",
            "[CV] END max_depth=7, min_samples_leaf=12, min_samples_split=149, n_estimators=88; total time=   4.3s\n",
            "[CV] END max_depth=7, min_samples_leaf=12, min_samples_split=149, n_estimators=88; total time=   4.3s\n",
            "[CV] END max_depth=7, min_samples_leaf=12, min_samples_split=149, n_estimators=88; total time=   4.3s\n",
            "[CV] END max_depth=7, min_samples_leaf=12, min_samples_split=149, n_estimators=88; total time=   4.3s\n",
            "Fitting 5 folds for each of 1 candidates, totalling 5 fits\n",
            "[CV] END max_depth=6, min_samples_leaf=37, min_samples_split=92, n_estimators=65; total time=   2.9s\n",
            "[CV] END max_depth=6, min_samples_leaf=37, min_samples_split=92, n_estimators=65; total time=   2.9s\n",
            "[CV] END max_depth=6, min_samples_leaf=37, min_samples_split=92, n_estimators=65; total time=   3.0s\n",
            "[CV] END max_depth=6, min_samples_leaf=37, min_samples_split=92, n_estimators=65; total time=   2.9s\n",
            "[CV] END max_depth=6, min_samples_leaf=37, min_samples_split=92, n_estimators=65; total time=   2.9s\n",
            "Fitting 5 folds for each of 1 candidates, totalling 5 fits\n",
            "[CV] END max_depth=8, min_samples_leaf=18, min_samples_split=66, n_estimators=61; total time=   3.3s\n",
            "[CV] END max_depth=8, min_samples_leaf=18, min_samples_split=66, n_estimators=61; total time=   3.3s\n",
            "[CV] END max_depth=8, min_samples_leaf=18, min_samples_split=66, n_estimators=61; total time=   3.2s\n",
            "[CV] END max_depth=8, min_samples_leaf=18, min_samples_split=66, n_estimators=61; total time=   3.2s\n",
            "[CV] END max_depth=8, min_samples_leaf=18, min_samples_split=66, n_estimators=61; total time=   3.2s\n",
            "Fitting 5 folds for each of 1 candidates, totalling 5 fits\n",
            "[CV] END max_depth=7, min_samples_leaf=66, min_samples_split=124, n_estimators=51; total time=   2.4s\n",
            "[CV] END max_depth=7, min_samples_leaf=66, min_samples_split=124, n_estimators=51; total time=   2.5s\n",
            "[CV] END max_depth=7, min_samples_leaf=66, min_samples_split=124, n_estimators=51; total time=   2.4s\n",
            "[CV] END max_depth=7, min_samples_leaf=66, min_samples_split=124, n_estimators=51; total time=   2.4s\n",
            "[CV] END max_depth=7, min_samples_leaf=66, min_samples_split=124, n_estimators=51; total time=   2.4s\n",
            "Fitting 5 folds for each of 1 candidates, totalling 5 fits\n",
            "[CV] END max_depth=4, min_samples_leaf=27, min_samples_split=50, n_estimators=100; total time=   3.4s\n",
            "[CV] END max_depth=4, min_samples_leaf=27, min_samples_split=50, n_estimators=100; total time=   3.3s\n",
            "[CV] END max_depth=4, min_samples_leaf=27, min_samples_split=50, n_estimators=100; total time=   3.2s\n",
            "[CV] END max_depth=4, min_samples_leaf=27, min_samples_split=50, n_estimators=100; total time=   3.3s\n",
            "[CV] END max_depth=4, min_samples_leaf=27, min_samples_split=50, n_estimators=100; total time=   3.3s\n",
            "Fitting 5 folds for each of 1 candidates, totalling 5 fits\n",
            "[CV] END max_depth=6, min_samples_leaf=99, min_samples_split=149, n_estimators=73; total time=   3.1s\n",
            "[CV] END max_depth=6, min_samples_leaf=99, min_samples_split=149, n_estimators=73; total time=   3.2s\n",
            "[CV] END max_depth=6, min_samples_leaf=99, min_samples_split=149, n_estimators=73; total time=   3.2s\n",
            "[CV] END max_depth=6, min_samples_leaf=99, min_samples_split=149, n_estimators=73; total time=   3.1s\n",
            "[CV] END max_depth=6, min_samples_leaf=99, min_samples_split=149, n_estimators=73; total time=   3.2s\n",
            "Fitting 5 folds for each of 1 candidates, totalling 5 fits\n",
            "[CV] END max_depth=4, min_samples_leaf=24, min_samples_split=150, n_estimators=42; total time=   1.4s\n",
            "[CV] END max_depth=4, min_samples_leaf=24, min_samples_split=150, n_estimators=42; total time=   1.5s\n",
            "[CV] END max_depth=4, min_samples_leaf=24, min_samples_split=150, n_estimators=42; total time=   1.4s\n",
            "[CV] END max_depth=4, min_samples_leaf=24, min_samples_split=150, n_estimators=42; total time=   1.4s\n",
            "[CV] END max_depth=4, min_samples_leaf=24, min_samples_split=150, n_estimators=42; total time=   1.4s\n",
            "Fitting 5 folds for each of 1 candidates, totalling 5 fits\n",
            "[CV] END max_depth=8, min_samples_leaf=97, min_samples_split=150, n_estimators=44; total time=   2.3s\n",
            "[CV] END max_depth=8, min_samples_leaf=97, min_samples_split=150, n_estimators=44; total time=   2.4s\n",
            "[CV] END max_depth=8, min_samples_leaf=97, min_samples_split=150, n_estimators=44; total time=   2.2s\n",
            "[CV] END max_depth=8, min_samples_leaf=97, min_samples_split=150, n_estimators=44; total time=   2.4s\n",
            "[CV] END max_depth=8, min_samples_leaf=97, min_samples_split=150, n_estimators=44; total time=   2.3s\n",
            "Fitting 5 folds for each of 1 candidates, totalling 5 fits\n",
            "[CV] END max_depth=6, min_samples_leaf=11, min_samples_split=149, n_estimators=11; total time=   0.5s\n",
            "[CV] END max_depth=6, min_samples_leaf=11, min_samples_split=149, n_estimators=11; total time=   0.5s\n",
            "[CV] END max_depth=6, min_samples_leaf=11, min_samples_split=149, n_estimators=11; total time=   0.5s\n",
            "[CV] END max_depth=6, min_samples_leaf=11, min_samples_split=149, n_estimators=11; total time=   0.5s\n",
            "[CV] END max_depth=6, min_samples_leaf=11, min_samples_split=149, n_estimators=11; total time=   0.5s\n",
            "Fitting 5 folds for each of 1 candidates, totalling 5 fits\n",
            "[CV] END max_depth=5, min_samples_leaf=39, min_samples_split=51, n_estimators=99; total time=   3.8s\n",
            "[CV] END max_depth=5, min_samples_leaf=39, min_samples_split=51, n_estimators=99; total time=   3.9s\n",
            "[CV] END max_depth=5, min_samples_leaf=39, min_samples_split=51, n_estimators=99; total time=   3.8s\n",
            "[CV] END max_depth=5, min_samples_leaf=39, min_samples_split=51, n_estimators=99; total time=   3.9s\n",
            "[CV] END max_depth=5, min_samples_leaf=39, min_samples_split=51, n_estimators=99; total time=   3.8s\n",
            "Fitting 5 folds for each of 1 candidates, totalling 5 fits\n",
            "[CV] END max_depth=7, min_samples_leaf=19, min_samples_split=53, n_estimators=100; total time=   4.9s\n",
            "[CV] END max_depth=7, min_samples_leaf=19, min_samples_split=53, n_estimators=100; total time=   4.9s\n",
            "[CV] END max_depth=7, min_samples_leaf=19, min_samples_split=53, n_estimators=100; total time=   4.9s\n",
            "[CV] END max_depth=7, min_samples_leaf=19, min_samples_split=53, n_estimators=100; total time=   4.9s\n",
            "[CV] END max_depth=7, min_samples_leaf=19, min_samples_split=53, n_estimators=100; total time=   4.8s\n",
            "Fitting 5 folds for each of 1 candidates, totalling 5 fits\n",
            "[CV] END max_depth=8, min_samples_leaf=39, min_samples_split=148, n_estimators=99; total time=   5.3s\n",
            "[CV] END max_depth=8, min_samples_leaf=39, min_samples_split=148, n_estimators=99; total time=   5.2s\n",
            "[CV] END max_depth=8, min_samples_leaf=39, min_samples_split=148, n_estimators=99; total time=   5.2s\n",
            "[CV] END max_depth=8, min_samples_leaf=39, min_samples_split=148, n_estimators=99; total time=   5.3s\n",
            "[CV] END max_depth=8, min_samples_leaf=39, min_samples_split=148, n_estimators=99; total time=   5.1s\n",
            "Fitting 5 folds for each of 1 candidates, totalling 5 fits\n",
            "[CV] END max_depth=6, min_samples_leaf=11, min_samples_split=132, n_estimators=100; total time=   4.4s\n",
            "[CV] END max_depth=6, min_samples_leaf=11, min_samples_split=132, n_estimators=100; total time=   4.4s\n",
            "[CV] END max_depth=6, min_samples_leaf=11, min_samples_split=132, n_estimators=100; total time=   4.4s\n",
            "[CV] END max_depth=6, min_samples_leaf=11, min_samples_split=132, n_estimators=100; total time=   4.5s\n",
            "[CV] END max_depth=6, min_samples_leaf=11, min_samples_split=132, n_estimators=100; total time=   4.4s\n",
            "Fitting 5 folds for each of 1 candidates, totalling 5 fits\n",
            "[CV] END max_depth=5, min_samples_leaf=90, min_samples_split=57, n_estimators=10; total time=   0.4s\n",
            "[CV] END max_depth=5, min_samples_leaf=90, min_samples_split=57, n_estimators=10; total time=   0.4s\n",
            "[CV] END max_depth=5, min_samples_leaf=90, min_samples_split=57, n_estimators=10; total time=   0.4s\n",
            "[CV] END max_depth=5, min_samples_leaf=90, min_samples_split=57, n_estimators=10; total time=   0.4s\n",
            "[CV] END max_depth=5, min_samples_leaf=90, min_samples_split=57, n_estimators=10; total time=   0.4s\n",
            "Fitting 5 folds for each of 1 candidates, totalling 5 fits\n",
            "[CV] END max_depth=8, min_samples_leaf=10, min_samples_split=50, n_estimators=10; total time=   0.6s\n",
            "[CV] END max_depth=8, min_samples_leaf=10, min_samples_split=50, n_estimators=10; total time=   0.5s\n",
            "[CV] END max_depth=8, min_samples_leaf=10, min_samples_split=50, n_estimators=10; total time=   0.5s\n",
            "[CV] END max_depth=8, min_samples_leaf=10, min_samples_split=50, n_estimators=10; total time=   0.6s\n",
            "[CV] END max_depth=8, min_samples_leaf=10, min_samples_split=50, n_estimators=10; total time=   0.6s\n",
            "Fitting 5 folds for each of 1 candidates, totalling 5 fits\n",
            "[CV] END max_depth=8, min_samples_leaf=84, min_samples_split=52, n_estimators=100; total time=   5.2s\n",
            "[CV] END max_depth=8, min_samples_leaf=84, min_samples_split=52, n_estimators=100; total time=   5.2s\n",
            "[CV] END max_depth=8, min_samples_leaf=84, min_samples_split=52, n_estimators=100; total time=   5.1s\n",
            "[CV] END max_depth=8, min_samples_leaf=84, min_samples_split=52, n_estimators=100; total time=   5.2s\n",
            "[CV] END max_depth=8, min_samples_leaf=84, min_samples_split=52, n_estimators=100; total time=   5.1s\n",
            "Fitting 5 folds for each of 1 candidates, totalling 5 fits\n",
            "[CV] END max_depth=7, min_samples_leaf=89, min_samples_split=142, n_estimators=100; total time=   4.8s\n",
            "[CV] END max_depth=7, min_samples_leaf=89, min_samples_split=142, n_estimators=100; total time=   4.7s\n",
            "[CV] END max_depth=7, min_samples_leaf=89, min_samples_split=142, n_estimators=100; total time=   4.8s\n",
            "[CV] END max_depth=7, min_samples_leaf=89, min_samples_split=142, n_estimators=100; total time=   4.8s\n",
            "[CV] END max_depth=7, min_samples_leaf=89, min_samples_split=142, n_estimators=100; total time=   4.8s\n",
            "Fitting 5 folds for each of 1 candidates, totalling 5 fits\n",
            "[CV] END max_depth=4, min_samples_leaf=82, min_samples_split=73, n_estimators=10; total time=   0.4s\n",
            "[CV] END max_depth=4, min_samples_leaf=82, min_samples_split=73, n_estimators=10; total time=   0.3s\n",
            "[CV] END max_depth=4, min_samples_leaf=82, min_samples_split=73, n_estimators=10; total time=   0.4s\n",
            "[CV] END max_depth=4, min_samples_leaf=82, min_samples_split=73, n_estimators=10; total time=   0.3s\n",
            "[CV] END max_depth=4, min_samples_leaf=82, min_samples_split=73, n_estimators=10; total time=   0.3s\n",
            "Fitting 5 folds for each of 1 candidates, totalling 5 fits\n",
            "[CV] END max_depth=8, min_samples_leaf=92, min_samples_split=91, n_estimators=100; total time=   5.2s\n",
            "[CV] END max_depth=8, min_samples_leaf=92, min_samples_split=91, n_estimators=100; total time=   5.1s\n",
            "[CV] END max_depth=8, min_samples_leaf=92, min_samples_split=91, n_estimators=100; total time=   5.4s\n",
            "[CV] END max_depth=8, min_samples_leaf=92, min_samples_split=91, n_estimators=100; total time=   5.6s\n",
            "[CV] END max_depth=8, min_samples_leaf=92, min_samples_split=91, n_estimators=100; total time=   5.5s\n",
            "Fitting 5 folds for each of 1 candidates, totalling 5 fits\n",
            "[CV] END max_depth=5, min_samples_leaf=25, min_samples_split=148, n_estimators=100; total time=   3.9s\n",
            "[CV] END max_depth=5, min_samples_leaf=25, min_samples_split=148, n_estimators=100; total time=   3.9s\n",
            "[CV] END max_depth=5, min_samples_leaf=25, min_samples_split=148, n_estimators=100; total time=   3.8s\n",
            "[CV] END max_depth=5, min_samples_leaf=25, min_samples_split=148, n_estimators=100; total time=   4.0s\n",
            "[CV] END max_depth=5, min_samples_leaf=25, min_samples_split=148, n_estimators=100; total time=   3.9s\n",
            "Fitting 5 folds for each of 1 candidates, totalling 5 fits\n",
            "[CV] END max_depth=7, min_samples_leaf=100, min_samples_split=52, n_estimators=92; total time=   4.5s\n",
            "[CV] END max_depth=7, min_samples_leaf=100, min_samples_split=52, n_estimators=92; total time=   4.4s\n",
            "[CV] END max_depth=7, min_samples_leaf=100, min_samples_split=52, n_estimators=92; total time=   4.4s\n",
            "[CV] END max_depth=7, min_samples_leaf=100, min_samples_split=52, n_estimators=92; total time=   4.4s\n",
            "[CV] END max_depth=7, min_samples_leaf=100, min_samples_split=52, n_estimators=92; total time=   4.4s\n",
            "Fitting 5 folds for each of 1 candidates, totalling 5 fits\n",
            "[CV] END max_depth=5, min_samples_leaf=100, min_samples_split=148, n_estimators=100; total time=   3.9s\n",
            "[CV] END max_depth=5, min_samples_leaf=100, min_samples_split=148, n_estimators=100; total time=   3.8s\n",
            "[CV] END max_depth=5, min_samples_leaf=100, min_samples_split=148, n_estimators=100; total time=   3.8s\n",
            "[CV] END max_depth=5, min_samples_leaf=100, min_samples_split=148, n_estimators=100; total time=   3.8s\n",
            "[CV] END max_depth=5, min_samples_leaf=100, min_samples_split=148, n_estimators=100; total time=   3.8s\n",
            "Fitting 5 folds for each of 1 candidates, totalling 5 fits\n",
            "[CV] END max_depth=8, min_samples_leaf=49, min_samples_split=50, n_estimators=100; total time=   5.3s\n",
            "[CV] END max_depth=8, min_samples_leaf=49, min_samples_split=50, n_estimators=100; total time=   5.3s\n",
            "[CV] END max_depth=8, min_samples_leaf=49, min_samples_split=50, n_estimators=100; total time=   5.3s\n",
            "[CV] END max_depth=8, min_samples_leaf=49, min_samples_split=50, n_estimators=100; total time=   5.3s\n",
            "[CV] END max_depth=8, min_samples_leaf=49, min_samples_split=50, n_estimators=100; total time=   5.2s\n",
            "Fitting 5 folds for each of 1 candidates, totalling 5 fits\n",
            "[CV] END max_depth=5, min_samples_leaf=12, min_samples_split=56, n_estimators=17; total time=   0.7s\n",
            "[CV] END max_depth=5, min_samples_leaf=12, min_samples_split=56, n_estimators=17; total time=   0.7s\n",
            "[CV] END max_depth=5, min_samples_leaf=12, min_samples_split=56, n_estimators=17; total time=   0.7s\n",
            "[CV] END max_depth=5, min_samples_leaf=12, min_samples_split=56, n_estimators=17; total time=   0.7s\n",
            "[CV] END max_depth=5, min_samples_leaf=12, min_samples_split=56, n_estimators=17; total time=   0.7s\n",
            "Fitting 5 folds for each of 1 candidates, totalling 5 fits\n",
            "[CV] END max_depth=8, min_samples_leaf=53, min_samples_split=50, n_estimators=100; total time=   5.5s\n",
            "[CV] END max_depth=8, min_samples_leaf=53, min_samples_split=50, n_estimators=100; total time=   5.6s\n",
            "[CV] END max_depth=8, min_samples_leaf=53, min_samples_split=50, n_estimators=100; total time=   5.4s\n",
            "[CV] END max_depth=8, min_samples_leaf=53, min_samples_split=50, n_estimators=100; total time=   5.4s\n",
            "[CV] END max_depth=8, min_samples_leaf=53, min_samples_split=50, n_estimators=100; total time=   5.3s\n",
            "Fitting 5 folds for each of 1 candidates, totalling 5 fits\n",
            "[CV] END max_depth=8, min_samples_leaf=36, min_samples_split=50, n_estimators=100; total time=   5.4s\n",
            "[CV] END max_depth=8, min_samples_leaf=36, min_samples_split=50, n_estimators=100; total time=   5.4s\n",
            "[CV] END max_depth=8, min_samples_leaf=36, min_samples_split=50, n_estimators=100; total time=   5.3s\n",
            "[CV] END max_depth=8, min_samples_leaf=36, min_samples_split=50, n_estimators=100; total time=   5.4s\n",
            "[CV] END max_depth=8, min_samples_leaf=36, min_samples_split=50, n_estimators=100; total time=   5.5s\n",
            "Fitting 5 folds for each of 1 candidates, totalling 5 fits\n",
            "[CV] END max_depth=6, min_samples_leaf=73, min_samples_split=147, n_estimators=99; total time=   4.3s\n",
            "[CV] END max_depth=6, min_samples_leaf=73, min_samples_split=147, n_estimators=99; total time=   4.3s\n",
            "[CV] END max_depth=6, min_samples_leaf=73, min_samples_split=147, n_estimators=99; total time=   4.3s\n",
            "[CV] END max_depth=6, min_samples_leaf=73, min_samples_split=147, n_estimators=99; total time=   4.3s\n",
            "[CV] END max_depth=6, min_samples_leaf=73, min_samples_split=147, n_estimators=99; total time=   4.2s\n",
            "Fitting 5 folds for each of 1 candidates, totalling 5 fits\n",
            "[CV] END max_depth=6, min_samples_leaf=12, min_samples_split=50, n_estimators=96; total time=   4.1s\n",
            "[CV] END max_depth=6, min_samples_leaf=12, min_samples_split=50, n_estimators=96; total time=   4.3s\n",
            "[CV] END max_depth=6, min_samples_leaf=12, min_samples_split=50, n_estimators=96; total time=   4.1s\n",
            "[CV] END max_depth=6, min_samples_leaf=12, min_samples_split=50, n_estimators=96; total time=   4.3s\n",
            "[CV] END max_depth=6, min_samples_leaf=12, min_samples_split=50, n_estimators=96; total time=   4.2s\n",
            "Fitting 5 folds for each of 1 candidates, totalling 5 fits\n",
            "[CV] END max_depth=5, min_samples_leaf=27, min_samples_split=148, n_estimators=11; total time=   0.5s\n",
            "[CV] END max_depth=5, min_samples_leaf=27, min_samples_split=148, n_estimators=11; total time=   0.4s\n",
            "[CV] END max_depth=5, min_samples_leaf=27, min_samples_split=148, n_estimators=11; total time=   0.4s\n",
            "[CV] END max_depth=5, min_samples_leaf=27, min_samples_split=148, n_estimators=11; total time=   0.4s\n",
            "[CV] END max_depth=5, min_samples_leaf=27, min_samples_split=148, n_estimators=11; total time=   0.5s\n",
            "Fitting 5 folds for each of 1 candidates, totalling 5 fits\n",
            "[CV] END max_depth=7, min_samples_leaf=22, min_samples_split=50, n_estimators=32; total time=   1.6s\n",
            "[CV] END max_depth=7, min_samples_leaf=22, min_samples_split=50, n_estimators=32; total time=   1.6s\n",
            "[CV] END max_depth=7, min_samples_leaf=22, min_samples_split=50, n_estimators=32; total time=   1.6s\n",
            "[CV] END max_depth=7, min_samples_leaf=22, min_samples_split=50, n_estimators=32; total time=   1.6s\n",
            "[CV] END max_depth=7, min_samples_leaf=22, min_samples_split=50, n_estimators=32; total time=   1.5s\n",
            "Fitting 5 folds for each of 1 candidates, totalling 5 fits\n",
            "[CV] END max_depth=5, min_samples_leaf=11, min_samples_split=149, n_estimators=74; total time=   2.9s\n",
            "[CV] END max_depth=5, min_samples_leaf=11, min_samples_split=149, n_estimators=74; total time=   2.9s\n",
            "[CV] END max_depth=5, min_samples_leaf=11, min_samples_split=149, n_estimators=74; total time=   2.9s\n",
            "[CV] END max_depth=5, min_samples_leaf=11, min_samples_split=149, n_estimators=74; total time=   2.9s\n",
            "[CV] END max_depth=5, min_samples_leaf=11, min_samples_split=149, n_estimators=74; total time=   2.7s\n",
            "Fitting 5 folds for each of 1 candidates, totalling 5 fits\n",
            "[CV] END max_depth=6, min_samples_leaf=98, min_samples_split=149, n_estimators=34; total time=   1.5s\n",
            "[CV] END max_depth=6, min_samples_leaf=98, min_samples_split=149, n_estimators=34; total time=   1.5s\n",
            "[CV] END max_depth=6, min_samples_leaf=98, min_samples_split=149, n_estimators=34; total time=   1.4s\n",
            "[CV] END max_depth=6, min_samples_leaf=98, min_samples_split=149, n_estimators=34; total time=   1.5s\n",
            "[CV] END max_depth=6, min_samples_leaf=98, min_samples_split=149, n_estimators=34; total time=   1.5s\n",
            "Fitting 5 folds for each of 1 candidates, totalling 5 fits\n",
            "[CV] END max_depth=8, min_samples_leaf=100, min_samples_split=50, n_estimators=81; total time=   4.2s\n",
            "[CV] END max_depth=8, min_samples_leaf=100, min_samples_split=50, n_estimators=81; total time=   4.2s\n",
            "[CV] END max_depth=8, min_samples_leaf=100, min_samples_split=50, n_estimators=81; total time=   4.4s\n",
            "[CV] END max_depth=8, min_samples_leaf=100, min_samples_split=50, n_estimators=81; total time=   4.3s\n",
            "[CV] END max_depth=8, min_samples_leaf=100, min_samples_split=50, n_estimators=81; total time=   4.2s\n",
            "Fitting 5 folds for each of 1 candidates, totalling 5 fits\n",
            "[CV] END max_depth=4, min_samples_leaf=11, min_samples_split=50, n_estimators=71; total time=   2.4s\n",
            "[CV] END max_depth=4, min_samples_leaf=11, min_samples_split=50, n_estimators=71; total time=   2.5s\n",
            "[CV] END max_depth=4, min_samples_leaf=11, min_samples_split=50, n_estimators=71; total time=   2.3s\n",
            "[CV] END max_depth=4, min_samples_leaf=11, min_samples_split=50, n_estimators=71; total time=   2.4s\n",
            "[CV] END max_depth=4, min_samples_leaf=11, min_samples_split=50, n_estimators=71; total time=   2.4s\n",
            "Fitting 5 folds for each of 1 candidates, totalling 5 fits\n",
            "[CV] END max_depth=8, min_samples_leaf=100, min_samples_split=150, n_estimators=10; total time=   0.6s\n",
            "[CV] END max_depth=8, min_samples_leaf=100, min_samples_split=150, n_estimators=10; total time=   0.6s\n",
            "[CV] END max_depth=8, min_samples_leaf=100, min_samples_split=150, n_estimators=10; total time=   0.6s\n",
            "[CV] END max_depth=8, min_samples_leaf=100, min_samples_split=150, n_estimators=10; total time=   0.5s\n",
            "[CV] END max_depth=8, min_samples_leaf=100, min_samples_split=150, n_estimators=10; total time=   0.5s\n",
            "Fitting 5 folds for each of 1 candidates, totalling 5 fits\n",
            "[CV] END max_depth=4, min_samples_leaf=43, min_samples_split=150, n_estimators=99; total time=   3.3s\n",
            "[CV] END max_depth=4, min_samples_leaf=43, min_samples_split=150, n_estimators=99; total time=   3.3s\n",
            "[CV] END max_depth=4, min_samples_leaf=43, min_samples_split=150, n_estimators=99; total time=   3.4s\n",
            "[CV] END max_depth=4, min_samples_leaf=43, min_samples_split=150, n_estimators=99; total time=   3.4s\n",
            "[CV] END max_depth=4, min_samples_leaf=43, min_samples_split=150, n_estimators=99; total time=   3.2s\n",
            "Fitting 5 folds for each of 1 candidates, totalling 5 fits\n",
            "[CV] END max_depth=7, min_samples_leaf=10, min_samples_split=81, n_estimators=100; total time=   4.9s\n",
            "[CV] END max_depth=7, min_samples_leaf=10, min_samples_split=81, n_estimators=100; total time=   4.9s\n",
            "[CV] END max_depth=7, min_samples_leaf=10, min_samples_split=81, n_estimators=100; total time=   4.8s\n",
            "[CV] END max_depth=7, min_samples_leaf=10, min_samples_split=81, n_estimators=100; total time=   4.9s\n",
            "[CV] END max_depth=7, min_samples_leaf=10, min_samples_split=81, n_estimators=100; total time=   4.9s\n",
            "Fitting 5 folds for each of 1 candidates, totalling 5 fits\n",
            "[CV] END max_depth=6, min_samples_leaf=29, min_samples_split=52, n_estimators=12; total time=   0.6s\n",
            "[CV] END max_depth=6, min_samples_leaf=29, min_samples_split=52, n_estimators=12; total time=   0.6s\n",
            "[CV] END max_depth=6, min_samples_leaf=29, min_samples_split=52, n_estimators=12; total time=   0.5s\n",
            "[CV] END max_depth=6, min_samples_leaf=29, min_samples_split=52, n_estimators=12; total time=   0.5s\n",
            "[CV] END max_depth=6, min_samples_leaf=29, min_samples_split=52, n_estimators=12; total time=   0.5s\n",
            "Fitting 5 folds for each of 1 candidates, totalling 5 fits\n",
            "[CV] END max_depth=8, min_samples_leaf=100, min_samples_split=68, n_estimators=34; total time=   1.8s\n",
            "[CV] END max_depth=8, min_samples_leaf=100, min_samples_split=68, n_estimators=34; total time=   1.7s\n",
            "[CV] END max_depth=8, min_samples_leaf=100, min_samples_split=68, n_estimators=34; total time=   1.8s\n",
            "[CV] END max_depth=8, min_samples_leaf=100, min_samples_split=68, n_estimators=34; total time=   1.8s\n",
            "[CV] END max_depth=8, min_samples_leaf=100, min_samples_split=68, n_estimators=34; total time=   1.8s\n",
            "Fitting 5 folds for each of 1 candidates, totalling 5 fits\n",
            "[CV] END max_depth=8, min_samples_leaf=95, min_samples_split=143, n_estimators=75; total time=   4.0s\n",
            "[CV] END max_depth=8, min_samples_leaf=95, min_samples_split=143, n_estimators=75; total time=   3.9s\n",
            "[CV] END max_depth=8, min_samples_leaf=95, min_samples_split=143, n_estimators=75; total time=   4.0s\n",
            "[CV] END max_depth=8, min_samples_leaf=95, min_samples_split=143, n_estimators=75; total time=   3.9s\n",
            "[CV] END max_depth=8, min_samples_leaf=95, min_samples_split=143, n_estimators=75; total time=   3.9s\n",
            "Fitting 5 folds for each of 1 candidates, totalling 5 fits\n",
            "[CV] END max_depth=7, min_samples_leaf=81, min_samples_split=147, n_estimators=12; total time=   0.6s\n",
            "[CV] END max_depth=7, min_samples_leaf=81, min_samples_split=147, n_estimators=12; total time=   0.6s\n",
            "[CV] END max_depth=7, min_samples_leaf=81, min_samples_split=147, n_estimators=12; total time=   0.6s\n",
            "[CV] END max_depth=7, min_samples_leaf=81, min_samples_split=147, n_estimators=12; total time=   0.6s\n",
            "[CV] END max_depth=7, min_samples_leaf=81, min_samples_split=147, n_estimators=12; total time=   0.6s\n",
            "Fitting 5 folds for each of 1 candidates, totalling 5 fits\n",
            "[CV] END max_depth=8, min_samples_leaf=10, min_samples_split=50, n_estimators=100; total time=   5.4s\n",
            "[CV] END max_depth=8, min_samples_leaf=10, min_samples_split=50, n_estimators=100; total time=   5.5s\n",
            "[CV] END max_depth=8, min_samples_leaf=10, min_samples_split=50, n_estimators=100; total time=   5.5s\n",
            "[CV] END max_depth=8, min_samples_leaf=10, min_samples_split=50, n_estimators=100; total time=   5.4s\n",
            "[CV] END max_depth=8, min_samples_leaf=10, min_samples_split=50, n_estimators=100; total time=   5.4s\n",
            "Fitting 5 folds for each of 1 candidates, totalling 5 fits\n",
            "[CV] END max_depth=8, min_samples_leaf=10, min_samples_split=50, n_estimators=100; total time=   5.4s\n",
            "[CV] END max_depth=8, min_samples_leaf=10, min_samples_split=50, n_estimators=100; total time=   5.5s\n",
            "[CV] END max_depth=8, min_samples_leaf=10, min_samples_split=50, n_estimators=100; total time=   5.4s\n",
            "[CV] END max_depth=8, min_samples_leaf=10, min_samples_split=50, n_estimators=100; total time=   5.4s\n",
            "[CV] END max_depth=8, min_samples_leaf=10, min_samples_split=50, n_estimators=100; total time=   5.4s\n",
            "Fitting 5 folds for each of 1 candidates, totalling 5 fits\n",
            "[CV] END max_depth=6, min_samples_leaf=94, min_samples_split=98, n_estimators=11; total time=   0.5s\n",
            "[CV] END max_depth=6, min_samples_leaf=94, min_samples_split=98, n_estimators=11; total time=   0.5s\n",
            "[CV] END max_depth=6, min_samples_leaf=94, min_samples_split=98, n_estimators=11; total time=   0.5s\n",
            "[CV] END max_depth=6, min_samples_leaf=94, min_samples_split=98, n_estimators=11; total time=   0.5s\n",
            "[CV] END max_depth=6, min_samples_leaf=94, min_samples_split=98, n_estimators=11; total time=   0.5s\n"
          ]
        },
        {
          "output_type": "execute_result",
          "data": {
            "text/plain": [
              "BayesSearchCV(cv=5, estimator=RandomForestClassifier(), scoring='accuracy',\n",
              "              search_spaces={'max_depth': Integer(low=4, high=8, prior='uniform', transform='normalize'),\n",
              "                             'min_samples_leaf': Integer(low=10, high=100, prior='uniform', transform='normalize'),\n",
              "                             'min_samples_split': Integer(low=50, high=150, prior='uniform', transform='normalize'),\n",
              "                             'n_estimators': Integer(low=10, high=100, prior='uniform', transform='normalize')},\n",
              "              verbose=2)"
            ]
          },
          "metadata": {},
          "execution_count": 96
        }
      ],
      "source": [
        "rf_bayes = BayesSearchCV(estimator=rf,\n",
        "                       search_spaces = {\n",
        "                          'max_depth': Integer(4,8),\n",
        "                          'min_samples_leaf': Integer(10,100),\n",
        "                          'min_samples_split': Integer(50,150),\n",
        "                          'n_estimators': Integer(10,100)\n",
        "                        },\n",
        "                       cv = 5, verbose=2, scoring='accuracy')\n",
        "\n",
        "rf_bayes.fit(X_train,y_train)"
      ]
    },
    {
      "cell_type": "code",
      "execution_count": 97,
      "metadata": {
        "id": "rEK2zWMqznS5",
        "colab": {
          "base_uri": "https://localhost:8080/"
        },
        "outputId": "43f1def8-ea4e-45eb-ab97-17f83de03487"
      },
      "outputs": [
        {
          "output_type": "execute_result",
          "data": {
            "text/plain": [
              "OrderedDict([('max_depth', 8),\n",
              "             ('min_samples_leaf', 49),\n",
              "             ('min_samples_split', 109),\n",
              "             ('n_estimators', 21)])"
            ]
          },
          "metadata": {},
          "execution_count": 97
        }
      ],
      "source": [
        "rf_bayes.best_params_"
      ]
    },
    {
      "cell_type": "code",
      "execution_count": 98,
      "metadata": {
        "id": "50YWgPOFzolX",
        "colab": {
          "base_uri": "https://localhost:8080/"
        },
        "outputId": "a4b02775-22bf-49d0-af22-da48f4053016"
      },
      "outputs": [
        {
          "output_type": "stream",
          "name": "stdout",
          "text": [
            "Train Accuracy score :  72.68837264395387\n",
            "Test Accuracy score :  72.2826811175765\n",
            "\n",
            "               precision    recall  f1-score   support\n",
            "\n",
            "           1       0.72      0.61      0.66      4693\n",
            "           2       0.71      0.82      0.76      9718\n",
            "           3       0.74      0.66      0.70      8102\n",
            "\n",
            "    accuracy                           0.72     22513\n",
            "   macro avg       0.72      0.70      0.71     22513\n",
            "weighted avg       0.72      0.72      0.72     22513\n",
            "\n"
          ]
        },
        {
          "output_type": "execute_result",
          "data": {
            "text/plain": [
              "array([[2873, 1256,  564],\n",
              "       [ 417, 8015, 1286],\n",
              "       [ 707, 2010, 5385]])"
            ]
          },
          "metadata": {},
          "execution_count": 98
        }
      ],
      "source": [
        "y_pred_tr=rf_bayes.predict(X_train)\n",
        "y_pred_te=rf_bayes.predict(X_test)\n",
        "print('Train Accuracy score : ', accuracy_score(y_train, y_pred_tr)*100)\n",
        "print('Test Accuracy score : ', accuracy_score(y_test,y_pred_te)*100)\n",
        "print('\\n', classification_report(y_test, y_pred_te))\n",
        "\n",
        "cm=confusion_matrix(y_test,y_pred_te)\n",
        "cm"
      ]
    },
    {
      "cell_type": "markdown",
      "metadata": {
        "id": "0RH4AASI0F8w"
      },
      "source": [
        "##**XGBoost Classifier**"
      ]
    },
    {
      "cell_type": "code",
      "execution_count": 99,
      "metadata": {
        "id": "rKqDwgCS0ITE",
        "colab": {
          "base_uri": "https://localhost:8080/"
        },
        "outputId": "3bc7f838-0b64-4e1b-ab3f-933ba2f3f888"
      },
      "outputs": [
        {
          "output_type": "execute_result",
          "data": {
            "text/plain": [
              "XGBClassifier(objective='multi:softprob', probability=True)"
            ]
          },
          "metadata": {},
          "execution_count": 99
        }
      ],
      "source": [
        "xgb_model = XGBClassifier(probability=True,random_state=0)\n",
        "xgb_model.fit(X_train,y_train)"
      ]
    },
    {
      "cell_type": "markdown",
      "metadata": {
        "id": "R_beIjuf2GCJ"
      },
      "source": [
        "* **Validation of the model**"
      ]
    },
    {
      "cell_type": "markdown",
      "metadata": {
        "id": "M_XEM8Yc2IKP"
      },
      "source": [
        "**Now, we have fitted our data on Xgboost model. As it is a tree based model, hence there is a chance of overfitting.**\n",
        "\n",
        "**So, let's validate it by printing accuracy on train and test set.**"
      ]
    },
    {
      "cell_type": "code",
      "execution_count": 100,
      "metadata": {
        "id": "RQBpIh182H-s",
        "colab": {
          "base_uri": "https://localhost:8080/"
        },
        "outputId": "fe9f7ca2-d83f-473a-9db5-d34e99a3b2da"
      },
      "outputs": [
        {
          "output_type": "stream",
          "name": "stdout",
          "text": [
            "Train accuracy is: 72.58472882334651\n",
            "Test accuracy is: 72.33154177586285\n"
          ]
        }
      ],
      "source": [
        "xgb_y_predict_tr = xgb_model.predict(X_train)\n",
        "xgb_y_predict_te = xgb_model.predict(X_test)\n",
        "\n",
        "xgb_accuracy_tr = accuracy_score(y_train, xgb_y_predict_tr)\n",
        "print(f'Train accuracy is: {xgb_accuracy_tr*100}')\n",
        "\n",
        "xgb_accuracy_te = accuracy_score(y_test, xgb_y_predict_te)\n",
        "print(f'Test accuracy is: {xgb_accuracy_te*100}')\n"
      ]
    },
    {
      "cell_type": "code",
      "execution_count": 101,
      "metadata": {
        "id": "-u5678g52Gdj",
        "colab": {
          "base_uri": "https://localhost:8080/"
        },
        "outputId": "d6a83a1b-d4f1-49e9-d76a-083a87357675"
      },
      "outputs": [
        {
          "output_type": "stream",
          "name": "stdout",
          "text": [
            "\n",
            "               precision    recall  f1-score   support\n",
            "\n",
            "           1       0.73      0.61      0.67      4693\n",
            "           2       0.71      0.82      0.76      9718\n",
            "           3       0.74      0.67      0.71      8102\n",
            "\n",
            "    accuracy                           0.72     22513\n",
            "   macro avg       0.73      0.70      0.71     22513\n",
            "weighted avg       0.72      0.72      0.72     22513\n",
            "\n"
          ]
        },
        {
          "output_type": "execute_result",
          "data": {
            "text/plain": [
              "array([[2880, 1253,  560],\n",
              "       [ 415, 7951, 1352],\n",
              "       [ 668, 1981, 5453]])"
            ]
          },
          "metadata": {},
          "execution_count": 101
        }
      ],
      "source": [
        "print('\\n', classification_report(y_test, xgb_y_predict_te))\n",
        "\n",
        "cm=confusion_matrix(y_test,xgb_y_predict_te)\n",
        "cm"
      ]
    },
    {
      "cell_type": "markdown",
      "metadata": {
        "id": "218YojWA2Ztp"
      },
      "source": [
        "##**Conclusion**\n",
        "**Started with loading the data so far we have done EDA , null values treatment, encoding of categorical columns, feature selection and then model building.**\n",
        "\n",
        "**Modeled on:** \n",
        "* Logistic Regression\n",
        "* SVM Classifier\n",
        "* Random Forest Classifier\n",
        "* XGBoost classifier\n",
        "\n",
        "\n",
        "###In all of these models my accuracy revolves in the range of 70 to 73%. \n",
        "**There is no such improvement in accuracy score even after hyperparameter tuning.**\n",
        "\n",
        "**So the accuracy of best model is 73% which can be said to be good for this large dataset.**"
      ]
    }
  ],
  "metadata": {
    "colab": {
      "collapsed_sections": [],
      "name": "Taxi Mobility Surge Price Prediction.ipynb",
      "provenance": [],
      "authorship_tag": "ABX9TyPljE+avmJl3P+yqMlL/w2O",
      "include_colab_link": true
    },
    "kernelspec": {
      "display_name": "Python 3",
      "name": "python3"
    },
    "language_info": {
      "name": "python"
    }
  },
  "nbformat": 4,
  "nbformat_minor": 0
}